{
 "cells": [
  {
   "cell_type": "code",
   "execution_count": 1,
   "id": "23bcb778",
   "metadata": {
    "_cell_guid": "b1076dfc-b9ad-4769-8c92-a6c4dae69d19",
    "_uuid": "8f2839f25d086af736a60e9eeb907d3b93b6e0e5",
    "execution": {
     "iopub.execute_input": "2023-01-10T17:05:09.156379Z",
     "iopub.status.busy": "2023-01-10T17:05:09.155273Z",
     "iopub.status.idle": "2023-01-10T17:05:53.659641Z",
     "shell.execute_reply": "2023-01-10T17:05:53.657887Z"
    },
    "papermill": {
     "duration": 44.540701,
     "end_time": "2023-01-10T17:05:53.663172",
     "exception": false,
     "start_time": "2023-01-10T17:05:09.122471",
     "status": "completed"
    },
    "tags": []
   },
   "outputs": [
    {
     "name": "stdout",
     "output_type": "stream",
     "text": [
      "Collecting cleantext\r\n",
      "  Downloading cleantext-1.1.4-py3-none-any.whl (4.9 kB)\r\n",
      "Requirement already satisfied: nltk in /opt/conda/lib/python3.7/site-packages (from cleantext) (3.7)\r\n",
      "Requirement already satisfied: click in /opt/conda/lib/python3.7/site-packages (from nltk->cleantext) (8.0.4)\r\n",
      "Requirement already satisfied: joblib in /opt/conda/lib/python3.7/site-packages (from nltk->cleantext) (1.0.1)\r\n",
      "Requirement already satisfied: regex>=2021.8.3 in /opt/conda/lib/python3.7/site-packages (from nltk->cleantext) (2021.11.10)\r\n",
      "Requirement already satisfied: tqdm in /opt/conda/lib/python3.7/site-packages (from nltk->cleantext) (4.64.0)\r\n",
      "Requirement already satisfied: importlib-metadata in /opt/conda/lib/python3.7/site-packages (from click->nltk->cleantext) (4.13.0)\r\n",
      "Requirement already satisfied: zipp>=0.5 in /opt/conda/lib/python3.7/site-packages (from importlib-metadata->click->nltk->cleantext) (3.8.0)\r\n",
      "Requirement already satisfied: typing-extensions>=3.6.4 in /opt/conda/lib/python3.7/site-packages (from importlib-metadata->click->nltk->cleantext) (4.4.0)\r\n",
      "Installing collected packages: cleantext\r\n",
      "Successfully installed cleantext-1.1.4\r\n",
      "\u001b[33mWARNING: Running pip as the 'root' user can result in broken permissions and conflicting behaviour with the system package manager. It is recommended to use a virtual environment instead: https://pip.pypa.io/warnings/venv\u001b[0m\u001b[33m\r\n",
      "\u001b[0mCollecting emoji==1.7\r\n",
      "  Downloading emoji-1.7.0.tar.gz (175 kB)\r\n",
      "\u001b[2K     \u001b[90m━━━━━━━━━━━━━━━━━━━━━━━━━━━━━━━━━━━━━━━\u001b[0m \u001b[32m175.4/175.4 kB\u001b[0m \u001b[31m1.2 MB/s\u001b[0m eta \u001b[36m0:00:00\u001b[0m\r\n",
      "\u001b[?25h  Preparing metadata (setup.py) ... \u001b[?25l-\b \bdone\r\n",
      "\u001b[?25hBuilding wheels for collected packages: emoji\r\n",
      "  Building wheel for emoji (setup.py) ... \u001b[?25l-\b \b\\\b \b|\b \bdone\r\n",
      "\u001b[?25h  Created wheel for emoji: filename=emoji-1.7.0-py3-none-any.whl size=171046 sha256=7520b0e41f6d3c56d2b591ff92f8f43cc692c865adf0aa3a171bc35b82d597cc\r\n",
      "  Stored in directory: /root/.cache/pip/wheels/8a/4e/b6/57b01db010d17ef6ea9b40300af725ef3e210cb1acfb7ac8b6\r\n",
      "Successfully built emoji\r\n",
      "Installing collected packages: emoji\r\n",
      "  Attempting uninstall: emoji\r\n",
      "    Found existing installation: emoji 2.1.0\r\n",
      "    Uninstalling emoji-2.1.0:\r\n",
      "      Successfully uninstalled emoji-2.1.0\r\n",
      "Successfully installed emoji-1.7.0\r\n",
      "\u001b[33mWARNING: Running pip as the 'root' user can result in broken permissions and conflicting behaviour with the system package manager. It is recommended to use a virtual environment instead: https://pip.pypa.io/warnings/venv\u001b[0m\u001b[33m\r\n",
      "\u001b[0mCollecting wget\r\n",
      "  Downloading wget-3.2.zip (10 kB)\r\n",
      "  Preparing metadata (setup.py) ... \u001b[?25l-\b \bdone\r\n",
      "\u001b[?25hBuilding wheels for collected packages: wget\r\n",
      "  Building wheel for wget (setup.py) ... \u001b[?25l-\b \b\\\b \bdone\r\n",
      "\u001b[?25h  Created wheel for wget: filename=wget-3.2-py3-none-any.whl size=9675 sha256=0bfa116969a701153f7fbe8369dca08b12e0e0ebf0f2877189cb0c998c6d2266\r\n",
      "  Stored in directory: /root/.cache/pip/wheels/a1/b6/7c/0e63e34eb06634181c63adacca38b79ff8f35c37e3c13e3c02\r\n",
      "Successfully built wget\r\n",
      "Installing collected packages: wget\r\n",
      "Successfully installed wget-3.2\r\n",
      "\u001b[33mWARNING: Running pip as the 'root' user can result in broken permissions and conflicting behaviour with the system package manager. It is recommended to use a virtual environment instead: https://pip.pypa.io/warnings/venv\u001b[0m\u001b[33m\r\n",
      "\u001b[0m"
     ]
    }
   ],
   "source": [
    "# these lines install modules cleantext and emoji. \n",
    "# Module cleantext is used to clean text data including: conversion of texts to lower case, removing unecessary panctuation and removal of stopwords.\n",
    "# module emoji is needed to remove emocations from text.\n",
    "!pip install cleantext\n",
    "!pip install emoji==1.7\n",
    "!pip install wget "
   ]
  },
  {
   "cell_type": "code",
   "execution_count": 2,
   "id": "bd6cacd3",
   "metadata": {
    "execution": {
     "iopub.execute_input": "2023-01-10T17:05:53.730147Z",
     "iopub.status.busy": "2023-01-10T17:05:53.729585Z",
     "iopub.status.idle": "2023-01-10T17:06:04.730977Z",
     "shell.execute_reply": "2023-01-10T17:06:04.728287Z"
    },
    "papermill": {
     "duration": 11.039857,
     "end_time": "2023-01-10T17:06:04.734796",
     "exception": false,
     "start_time": "2023-01-10T17:05:53.694939",
     "status": "completed"
    },
    "tags": []
   },
   "outputs": [
    {
     "name": "stderr",
     "output_type": "stream",
     "text": [
      "[nltk_data] Downloading package vader_lexicon to\n",
      "[nltk_data]     /usr/share/nltk_data...\n",
      "[nltk_data]   Package vader_lexicon is already up-to-date!\n",
      "2023-01-10 17:06:04.721796: I tensorflow/core/profiler/lib/profiler_session.cc:131] Profiler session initializing.\n",
      "2023-01-10 17:06:04.721875: I tensorflow/core/profiler/lib/profiler_session.cc:146] Profiler session started.\n",
      "2023-01-10 17:06:04.723257: I tensorflow/core/profiler/lib/profiler_session.cc:164] Profiler session tear down.\n"
     ]
    }
   ],
   "source": [
    "# here are all the modules used during this analysis. \n",
    "# you can use help() to get documentation of each, eg help('pandas') will give you documentation of pandas\n",
    "\n",
    "import pandas as pd\n",
    "import seaborn as sns\n",
    "import matplotlib.pyplot as plt\n",
    "import numpy as np\n",
    "import math\n",
    "import cleantext \n",
    "import emoji \n",
    "import tensorflow as tf\n",
    "import tensorflow_addons as tfa \n",
    "from tensorflow.keras import datasets, layers, models,Input,Model\n",
    "from keras.models import Sequential\n",
    "from keras.layers import Embedding, Bidirectional, Conv2D, BatchNormalization, MaxPooling2D, Flatten, LSTM, Dense, Lambda, Dropout,Reshape,GlobalAveragePooling1D\n",
    "import re\n",
    "import keras\n",
    "import shutil\n",
    "import string\n",
    "import random\n",
    "import requests\n",
    "from sklearn.cluster import KMeans\n",
    "from sklearn import metrics\n",
    "import wget\n",
    "import zipfile\n",
    "import os\n",
    "from sklearn.metrics import (confusion_matrix,accuracy_score)\n",
    "from sklearn.tree import DecisionTreeClassifier as DT\n",
    "from sklearn.svm import SVC \n",
    "from sklearn.ensemble import RandomForestClassifier as RF\n",
    "from sklearn.ensemble import GradientBoostingRegressor\n",
    "from sklearn.neighbors import KNeighborsClassifier as KNN\n",
    "from sklearn.model_selection import GridSearchCV\n",
    "from functools import reduce\n",
    "from sklearn.tree import DecisionTreeClassifier as DR\n",
    "from sklearn.ensemble import GradientBoostingClassifier as GBoost\n",
    "\n",
    "import nltk\n",
    "from nltk.sentiment.vader import SentimentIntensityAnalyzer\n",
    "nltk.download('vader_lexicon')\n",
    "from wordcloud import WordCloud,STOPWORDS, ImageColorGenerator\n",
    "import pickle\n",
    "from sklearn.decomposition import PCA\n",
    "# call backs\n",
    "tensorboard_callback = tf.keras.callbacks.TensorBoard(log_dir=\"./logs\")\n",
    "es_callback = keras.callbacks.EarlyStopping(monitor='val_loss',mode='min', verbose=1, patience=20)"
   ]
  },
  {
   "cell_type": "code",
   "execution_count": 3,
   "id": "5e3a9b2a",
   "metadata": {
    "execution": {
     "iopub.execute_input": "2023-01-10T17:06:04.799965Z",
     "iopub.status.busy": "2023-01-10T17:06:04.798462Z",
     "iopub.status.idle": "2023-01-10T17:06:21.588513Z",
     "shell.execute_reply": "2023-01-10T17:06:21.586936Z"
    },
    "papermill": {
     "duration": 16.825146,
     "end_time": "2023-01-10T17:06:21.591734",
     "exception": false,
     "start_time": "2023-01-10T17:06:04.766588",
     "status": "completed"
    },
    "tags": []
   },
   "outputs": [
    {
     "name": "stderr",
     "output_type": "stream",
     "text": [
      "2023-01-10 17:06:04.893103: I tensorflow/core/common_runtime/process_util.cc:146] Creating new thread pool with default inter op setting: 2. Tune using inter_op_parallelism_threads for best performance.\n"
     ]
    }
   ],
   "source": [
    "with open(\"/kaggle/input/fakerealmainoutputdata/kmea.pkl\",\"rb\") as file:\n",
    "    kmea=pickle.load(file)\n",
    "    \n",
    "with open(\"/kaggle/input/fakerealmainoutputdata/predictors.pkl\",\"rb\") as file:\n",
    "    predictors=pickle.load(file)\n",
    "    \n",
    "with open(\"/kaggle/input/fakerealmainoutputdata/tests.pkl\",\"rb\") as file:\n",
    "    tests=pickle.load(file)\n",
    "    \n",
    "test=tf.data.experimental.load(\"/kaggle/input/fakerealmainoutputdata/train\")\n",
    "train=tf.data.experimental.load(\"/kaggle/input/missingtest/train\")\n",
    "valid=tf.data.experimental.load(\"/kaggle/input/fakerealmainoutputdata/valid\")\n",
    "model = keras.models.load_model('/kaggle/input/fakerealmainoutputdata/model')\n",
    "\n",
    "train0=train\n",
    "test0=test\n",
    "valid0=valid"
   ]
  },
  {
   "cell_type": "code",
   "execution_count": 4,
   "id": "0a5cbb6f",
   "metadata": {
    "execution": {
     "iopub.execute_input": "2023-01-10T17:06:21.655580Z",
     "iopub.status.busy": "2023-01-10T17:06:21.654781Z",
     "iopub.status.idle": "2023-01-10T17:06:27.737201Z",
     "shell.execute_reply": "2023-01-10T17:06:27.735517Z"
    },
    "papermill": {
     "duration": 6.118588,
     "end_time": "2023-01-10T17:06:27.740589",
     "exception": false,
     "start_time": "2023-01-10T17:06:21.622001",
     "status": "completed"
    },
    "tags": []
   },
   "outputs": [
    {
     "name": "stderr",
     "output_type": "stream",
     "text": [
      "2023-01-10 17:06:21.740714: I tensorflow/compiler/mlir/mlir_graph_optimization_pass.cc:185] None of the MLIR Optimization Passes are enabled (registered 2)\n"
     ]
    }
   ],
   "source": [
    "# some parameters to be used\n",
    "# some of this were relevantduring code creation\n",
    "batch_size=64  #  Batch sizes to use\n",
    "epoch =200       # number of training ephochs\n",
    "sequence_length = 250   # here we can set arguments for text vectorization      \n",
    "max_tokens=20000\n",
    "\n",
    "vectorize_layer = layers.TextVectorization(\n",
    "    max_tokens=max_tokens,\n",
    "    pad_to_max_tokens=True,\n",
    "    output_mode='int')\n",
    "\n",
    "train_article = train.map(lambda x, y: x)\n",
    "vectorize_layer.adapt(train_article)\n",
    "\n",
    "\n",
    "def vectorize_articles(text, label):\n",
    "    text = tf.expand_dims(text, -1)\n",
    "    return vectorize_layer(text), label\n",
    "\n",
    "\n",
    "AUTOTUNE = tf.data.AUTOTUNE \n",
    "train = train.map(vectorize_articles).cache().prefetch(buffer_size=AUTOTUNE)  # set catching and prefetching on training data\n",
    "valid = valid.map(vectorize_articles).cache().prefetch(buffer_size=AUTOTUNE)  #set catching and prefetching on testing data\n",
    "test = test.map(vectorize_articles).cache().prefetch(buffer_size=AUTOTUNE)    #  set catching and prefetching on validation data\n"
   ]
  },
  {
   "cell_type": "code",
   "execution_count": 5,
   "id": "1b6ab60e",
   "metadata": {
    "execution": {
     "iopub.execute_input": "2023-01-10T17:06:27.803097Z",
     "iopub.status.busy": "2023-01-10T17:06:27.802586Z",
     "iopub.status.idle": "2023-01-10T17:06:27.814443Z",
     "shell.execute_reply": "2023-01-10T17:06:27.813315Z"
    },
    "papermill": {
     "duration": 0.046488,
     "end_time": "2023-01-10T17:06:27.817427",
     "exception": false,
     "start_time": "2023-01-10T17:06:27.770939",
     "status": "completed"
    },
    "tags": []
   },
   "outputs": [],
   "source": [
    "with open(\"/kaggle/input/fakerealmainoutputdata/mod_hist.pkl\",\"rb\") as file:\n",
    "    mod=pickle.load(file)"
   ]
  },
  {
   "cell_type": "code",
   "execution_count": 6,
   "id": "32dd8abc",
   "metadata": {
    "execution": {
     "iopub.execute_input": "2023-01-10T17:06:27.881815Z",
     "iopub.status.busy": "2023-01-10T17:06:27.881305Z",
     "iopub.status.idle": "2023-01-10T17:06:28.546998Z",
     "shell.execute_reply": "2023-01-10T17:06:28.545349Z"
    },
    "papermill": {
     "duration": 0.701003,
     "end_time": "2023-01-10T17:06:28.550487",
     "exception": false,
     "start_time": "2023-01-10T17:06:27.849484",
     "status": "completed"
    },
    "tags": []
   },
   "outputs": [
    {
     "data": {
      "image/png": "[encoded data removed]",
      "text/plain": [
       "<Figure size 1080x432 with 2 Axes>"
      ]
     },
     "metadata": {
      "needs_background": "light"
     },
     "output_type": "display_data"
    }
   ],
   "source": [
    "#Accuracy\n",
    "figure,ax=plt.subplots(nrows=1,ncols=2,figsize=(15,6))\n",
    "ax[0].plot(mod['accuracy'])\n",
    "ax[0].plot(mod['val_accuracy'])\n",
    "ax[0].set_title('model accuracy')\n",
    "ax[0].set_ylabel('accuracy')\n",
    "ax[0].set_xlabel('epoch')\n",
    "ax[0].legend(['train', 'test'], loc='upper left')\n",
    "\n",
    "# loss\n",
    "ax[1].plot(mod['loss'])\n",
    "ax[1].plot(mod['val_loss'])\n",
    "ax[1].set_title('model loss')\n",
    "ax[1].set_ylabel('loss')\n",
    "ax[1].set_xlabel('epoch')\n",
    "ax[1].legend(['train', 'test'], loc='upper left')\n",
    "plt.savefig('othercomparing1.png')"
   ]
  },
  {
   "cell_type": "code",
   "execution_count": 7,
   "id": "7e7c34a1",
   "metadata": {
    "execution": {
     "iopub.execute_input": "2023-01-10T17:06:28.620647Z",
     "iopub.status.busy": "2023-01-10T17:06:28.620167Z",
     "iopub.status.idle": "2023-01-10T17:06:29.199346Z",
     "shell.execute_reply": "2023-01-10T17:06:29.197578Z"
    },
    "papermill": {
     "duration": 0.618623,
     "end_time": "2023-01-10T17:06:29.203009",
     "exception": false,
     "start_time": "2023-01-10T17:06:28.584386",
     "status": "completed"
    },
    "tags": []
   },
   "outputs": [
    {
     "data": {
      "image/png": "[encoded data removed]",
      "text/plain": [
       "<Figure size 1080x432 with 2 Axes>"
      ]
     },
     "metadata": {
      "needs_background": "light"
     },
     "output_type": "display_data"
    }
   ],
   "source": [
    "# Accuracy\n",
    "figure,ax=plt.subplots(nrows=1,ncols=2,figsize=(15,6))\n",
    "ax[1].plot(mod['val_accuracy'])\n",
    "ax[1].plot(mod['val_Sensitivity'])\n",
    "ax[1].plot(mod['val_Specificity'])\n",
    "#ax[1].plot(hist.history['val_Precision'])\n",
    "#ax[1].plot(hist.history['val_f1_score'])\n",
    "ax[1].set_title('Testing Set')\n",
    "ax[1].set_ylabel('score')\n",
    "ax[1].set_xlabel('epoch')\n",
    "ax[1].legend(['accuracy','Specificity','Sensitivity','Precision','F1 score'], loc='upper left')\n",
    "\n",
    "# Accuracy\n",
    "ax[0].plot(mod['accuracy'])\n",
    "ax[0].plot(mod['Sensitivity'])\n",
    "ax[0].plot(mod['Specificity'])\n",
    "#ax[0].plot(hist.history['Precision'])\n",
    "#ax[0].plot(hist.history['f1_score'])\n",
    "ax[0].set_title('Training Set')\n",
    "ax[0].set_ylabel('score')\n",
    "ax[0].set_xlabel('epoch')\n",
    "ax[0].legend(['accuracy','Specificity','Sensitivity','Precision','F1 score'], loc='upper left')\n",
    "plt.savefig('othercomparing2.png')"
   ]
  },
  {
   "cell_type": "code",
   "execution_count": 8,
   "id": "87b63bd8",
   "metadata": {
    "execution": {
     "iopub.execute_input": "2023-01-10T17:06:29.273318Z",
     "iopub.status.busy": "2023-01-10T17:06:29.272809Z",
     "iopub.status.idle": "2023-01-10T17:06:49.984962Z",
     "shell.execute_reply": "2023-01-10T17:06:49.983771Z"
    },
    "papermill": {
     "duration": 20.752116,
     "end_time": "2023-01-10T17:06:49.988362",
     "exception": false,
     "start_time": "2023-01-10T17:06:29.236246",
     "status": "completed"
    },
    "tags": []
   },
   "outputs": [],
   "source": [
    "model.compile(                                              \n",
    "  optimizer='adam',                                         # compile the model with adams optimizers\n",
    "  loss=\"categorical_crossentropy\",                          # use categorical cross entropy loss functions\n",
    "  metrics=[\"accuracy\",                                      # while fitting the model will be evaluated on the testing set using:- Accuracy\n",
    "           tf.keras.metrics.Recall(name=\"Sensitivity\",class_id=0),                                                              # - Sensitivity                                               \n",
    "           tf.keras.metrics.Recall(name=\"Specificity\",class_id=1),                                                              # - Specificity \n",
    "           tf.keras.metrics.Precision(name=\"Precision\",class_id=0),\n",
    "          tfa.metrics.F1Score(num_classes=2, average=\"micro\")])                                                          # - precision\n",
    "modelpred=np.argmax(model.predict(test), axis=1)"
   ]
  },
  {
   "cell_type": "code",
   "execution_count": 9,
   "id": "eaed0cad",
   "metadata": {
    "execution": {
     "iopub.execute_input": "2023-01-10T17:06:50.057740Z",
     "iopub.status.busy": "2023-01-10T17:06:50.056405Z",
     "iopub.status.idle": "2023-01-10T17:07:11.816226Z",
     "shell.execute_reply": "2023-01-10T17:07:11.814067Z"
    },
    "papermill": {
     "duration": 21.797815,
     "end_time": "2023-01-10T17:07:11.819760",
     "exception": false,
     "start_time": "2023-01-10T17:06:50.021945",
     "status": "completed"
    },
    "tags": []
   },
   "outputs": [
    {
     "name": "stdout",
     "output_type": "stream",
     "text": [
      "31/31 [==============================] - 22s 620ms/step - loss: 0.2581 - accuracy: 0.9041 - Sensitivity: 0.3913 - Specificity: 0.9727 - Precision: 0.6569 - f1_score: 0.9041\n"
     ]
    },
    {
     "data": {
      "text/html": [
       "<div>\n",
       "<style scoped>\n",
       "    .dataframe tbody tr th:only-of-type {\n",
       "        vertical-align: middle;\n",
       "    }\n",
       "\n",
       "    .dataframe tbody tr th {\n",
       "        vertical-align: top;\n",
       "    }\n",
       "\n",
       "    .dataframe thead th {\n",
       "        text-align: right;\n",
       "    }\n",
       "</style>\n",
       "<table border=\"1\" class=\"dataframe\">\n",
       "  <thead>\n",
       "    <tr style=\"text-align: right;\">\n",
       "      <th></th>\n",
       "      <th>Measure</th>\n",
       "      <th>Original Dataset</th>\n",
       "    </tr>\n",
       "  </thead>\n",
       "  <tbody>\n",
       "    <tr>\n",
       "      <th>0</th>\n",
       "      <td>Accuracy</td>\n",
       "      <td>0.9041</td>\n",
       "    </tr>\n",
       "    <tr>\n",
       "      <th>1</th>\n",
       "      <td>Sensitivity</td>\n",
       "      <td>0.3913</td>\n",
       "    </tr>\n",
       "    <tr>\n",
       "      <th>2</th>\n",
       "      <td>Specificty</td>\n",
       "      <td>0.9727</td>\n",
       "    </tr>\n",
       "    <tr>\n",
       "      <th>3</th>\n",
       "      <td>Precision</td>\n",
       "      <td>0.6569</td>\n",
       "    </tr>\n",
       "    <tr>\n",
       "      <th>4</th>\n",
       "      <td>F-score</td>\n",
       "      <td>0.9041</td>\n",
       "    </tr>\n",
       "  </tbody>\n",
       "</table>\n",
       "</div>"
      ],
      "text/plain": [
       "       Measure  Original Dataset\n",
       "0     Accuracy            0.9041\n",
       "1  Sensitivity            0.3913\n",
       "2   Specificty            0.9727\n",
       "3    Precision            0.6569\n",
       "4      F-score            0.9041"
      ]
     },
     "execution_count": 9,
     "metadata": {},
     "output_type": "execute_result"
    }
   ],
   "source": [
    "mod1=model.evaluate(test)[1:6]\n",
    "mod1=pd.DataFrame({\"Measure\":['Accuracy','Sensitivity','Specificty','Precision',\"F-score\"],\n",
    "    \"Original Dataset\":[np.round(float(i), 4) for i in mod1]}) \n",
    "mod1"
   ]
  },
  {
   "cell_type": "code",
   "execution_count": 10,
   "id": "042397ce",
   "metadata": {
    "execution": {
     "iopub.execute_input": "2023-01-10T17:07:11.907707Z",
     "iopub.status.busy": "2023-01-10T17:07:11.906136Z",
     "iopub.status.idle": "2023-01-10T17:07:14.821320Z",
     "shell.execute_reply": "2023-01-10T17:07:14.819937Z"
    },
    "papermill": {
     "duration": 2.965573,
     "end_time": "2023-01-10T17:07:14.824470",
     "exception": false,
     "start_time": "2023-01-10T17:07:11.858897",
     "status": "completed"
    },
    "tags": []
   },
   "outputs": [],
   "source": [
    "def labels(ds):\n",
    "    labels=[]\n",
    "    for batch in ds:\n",
    "        articles,labelss=batch\n",
    "        labelss=labelss.numpy()\n",
    "        labels.append(labelss)\n",
    "    labels=np.concatenate(labels)\n",
    "    return labels\n",
    "\n",
    "label_train=np.argmax(labels(train),axis=1)\n",
    "label_test=np.argmax(labels(test),axis=1)\n",
    "label_valid=np.argmax(labels(valid),axis=1)"
   ]
  },
  {
   "cell_type": "code",
   "execution_count": 11,
   "id": "a671924a",
   "metadata": {
    "execution": {
     "iopub.execute_input": "2023-01-10T17:07:14.899709Z",
     "iopub.status.busy": "2023-01-10T17:07:14.899219Z",
     "iopub.status.idle": "2023-01-10T17:07:14.909662Z",
     "shell.execute_reply": "2023-01-10T17:07:14.908339Z"
    },
    "papermill": {
     "duration": 0.051589,
     "end_time": "2023-01-10T17:07:14.912302",
     "exception": false,
     "start_time": "2023-01-10T17:07:14.860713",
     "status": "completed"
    },
    "tags": []
   },
   "outputs": [],
   "source": [
    "# feature extraction model\n",
    "feature_miner=Model(\n",
    "    inputs=model.inputs,\n",
    "    outputs=model.get_layer(name=\"Bidirectional2\").output,name=\"feature_miner\"\n",
    ")"
   ]
  },
  {
   "cell_type": "code",
   "execution_count": 12,
   "id": "c17b268d",
   "metadata": {
    "execution": {
     "iopub.execute_input": "2023-01-10T17:07:14.987276Z",
     "iopub.status.busy": "2023-01-10T17:07:14.986365Z",
     "iopub.status.idle": "2023-01-10T17:07:14.996418Z",
     "shell.execute_reply": "2023-01-10T17:07:14.994744Z"
    },
    "papermill": {
     "duration": 0.050407,
     "end_time": "2023-01-10T17:07:14.999414",
     "exception": false,
     "start_time": "2023-01-10T17:07:14.949007",
     "status": "completed"
    },
    "tags": []
   },
   "outputs": [
    {
     "name": "stdout",
     "output_type": "stream",
     "text": [
      "Model: \"feature_miner\"\n",
      "_________________________________________________________________\n",
      "Layer (type)                 Output Shape              Param #   \n",
      "=================================================================\n",
      "input_articles (InputLayer)  [(None, None)]            0         \n",
      "_________________________________________________________________\n",
      "embeddinglayer (Embedding)   (None, None, 100)         2000100   \n",
      "_________________________________________________________________\n",
      "dropout (Dropout)            (None, None, 100)         0         \n",
      "_________________________________________________________________\n",
      "conv1d (Conv1D)              (None, None, 8)           4008      \n",
      "_________________________________________________________________\n",
      "dropout1 (Dropout)           (None, None, 8)           0         \n",
      "_________________________________________________________________\n",
      "batchnormalization (BatchNor (None, None, 8)           32        \n",
      "_________________________________________________________________\n",
      "Bidirectional2 (Bidirectiona (None, 16)                1088      \n",
      "=================================================================\n",
      "Total params: 2,005,228\n",
      "Trainable params: 5,112\n",
      "Non-trainable params: 2,000,116\n",
      "_________________________________________________________________\n"
     ]
    }
   ],
   "source": [
    "feature_miner.summary()"
   ]
  },
  {
   "cell_type": "code",
   "execution_count": 13,
   "id": "2a9f29d9",
   "metadata": {
    "execution": {
     "iopub.execute_input": "2023-01-10T17:07:15.072706Z",
     "iopub.status.busy": "2023-01-10T17:07:15.071949Z",
     "iopub.status.idle": "2023-01-10T17:07:15.205843Z",
     "shell.execute_reply": "2023-01-10T17:07:15.204449Z"
    },
    "papermill": {
     "duration": 0.176463,
     "end_time": "2023-01-10T17:07:15.211284",
     "exception": false,
     "start_time": "2023-01-10T17:07:15.034821",
     "status": "completed"
    },
    "tags": []
   },
   "outputs": [
    {
     "name": "stdout",
     "output_type": "stream",
     "text": [
      "0.43538461538461537\n",
      "0.5646153846153846\n"
     ]
    }
   ],
   "source": [
    "kmeans_pred=kmea.predict(tests)\n",
    "print(np.mean(kmeans_pred==label_test))\n",
    "print(np.mean(np.mean((1-kmeans_pred)==label_test)))"
   ]
  },
  {
   "cell_type": "code",
   "execution_count": 14,
   "id": "6d1dc13a",
   "metadata": {
    "execution": {
     "iopub.execute_input": "2023-01-10T17:07:15.361039Z",
     "iopub.status.busy": "2023-01-10T17:07:15.360437Z",
     "iopub.status.idle": "2023-01-10T17:07:15.369549Z",
     "shell.execute_reply": "2023-01-10T17:07:15.368365Z"
    },
    "papermill": {
     "duration": 0.050118,
     "end_time": "2023-01-10T17:07:15.372209",
     "exception": false,
     "start_time": "2023-01-10T17:07:15.322091",
     "status": "completed"
    },
    "tags": []
   },
   "outputs": [],
   "source": [
    "kmeans_pred1=kmea.predict(tests)\n",
    "if np.mean(kmeans_pred==label_test)>=np.mean((1-kmeans_pred)==label_test):\n",
    "    kmeans_pred=kmeans_pred\n",
    "else:\n",
    "    kmeans_pred=(1-kmeans_pred)"
   ]
  },
  {
   "cell_type": "code",
   "execution_count": 15,
   "id": "bc2f87d7",
   "metadata": {
    "execution": {
     "iopub.execute_input": "2023-01-10T17:07:15.447611Z",
     "iopub.status.busy": "2023-01-10T17:07:15.446300Z",
     "iopub.status.idle": "2023-01-10T17:07:15.471581Z",
     "shell.execute_reply": "2023-01-10T17:07:15.470124Z"
    },
    "papermill": {
     "duration": 0.065682,
     "end_time": "2023-01-10T17:07:15.474669",
     "exception": false,
     "start_time": "2023-01-10T17:07:15.408987",
     "status": "completed"
    },
    "tags": []
   },
   "outputs": [
    {
     "data": {
      "text/html": [
       "<div>\n",
       "<style scoped>\n",
       "    .dataframe tbody tr th:only-of-type {\n",
       "        vertical-align: middle;\n",
       "    }\n",
       "\n",
       "    .dataframe tbody tr th {\n",
       "        vertical-align: top;\n",
       "    }\n",
       "\n",
       "    .dataframe thead th {\n",
       "        text-align: right;\n",
       "    }\n",
       "</style>\n",
       "<table border=\"1\" class=\"dataframe\">\n",
       "  <thead>\n",
       "    <tr style=\"text-align: right;\">\n",
       "      <th></th>\n",
       "      <th>Measure</th>\n",
       "      <th>Original Dataset</th>\n",
       "    </tr>\n",
       "  </thead>\n",
       "  <tbody>\n",
       "    <tr>\n",
       "      <th>0</th>\n",
       "      <td>Accuracy</td>\n",
       "      <td>0.564615</td>\n",
       "    </tr>\n",
       "    <tr>\n",
       "      <th>1</th>\n",
       "      <td>Sensitivity</td>\n",
       "      <td>0.917391</td>\n",
       "    </tr>\n",
       "    <tr>\n",
       "      <th>2</th>\n",
       "      <td>Specitivity</td>\n",
       "      <td>0.517442</td>\n",
       "    </tr>\n",
       "    <tr>\n",
       "      <th>3</th>\n",
       "      <td>Precision</td>\n",
       "      <td>0.202690</td>\n",
       "    </tr>\n",
       "    <tr>\n",
       "      <th>4</th>\n",
       "      <td>F1_score</td>\n",
       "      <td>0.332022</td>\n",
       "    </tr>\n",
       "  </tbody>\n",
       "</table>\n",
       "</div>"
      ],
      "text/plain": [
       "       Measure  Original Dataset\n",
       "0     Accuracy          0.564615\n",
       "1  Sensitivity          0.917391\n",
       "2  Specitivity          0.517442\n",
       "3    Precision          0.202690\n",
       "4     F1_score          0.332022"
      ]
     },
     "execution_count": 15,
     "metadata": {},
     "output_type": "execute_result"
    }
   ],
   "source": [
    "pd.DataFrame({'Measure':['Accuracy','Sensitivity','Specitivity','Precision','F1_score'],\n",
    "             \"Original Dataset\":[metrics.accuracy_score(label_test,kmeans_pred),\n",
    "                        metrics.recall_score(label_test, kmeans_pred,pos_label=0),\n",
    "                        metrics.recall_score(label_test, kmeans_pred,pos_label=1),\n",
    "                        metrics.precision_score(label_test,kmeans_pred,pos_label=0),\n",
    "                        metrics.f1_score(label_test,kmeans_pred,pos_label=0)]})\n",
    " "
   ]
  },
  {
   "cell_type": "code",
   "execution_count": 16,
   "id": "dd1d9da0",
   "metadata": {
    "execution": {
     "iopub.execute_input": "2023-01-10T17:07:15.548983Z",
     "iopub.status.busy": "2023-01-10T17:07:15.548449Z",
     "iopub.status.idle": "2023-01-10T17:07:16.607566Z",
     "shell.execute_reply": "2023-01-10T17:07:16.606090Z"
    },
    "papermill": {
     "duration": 1.103864,
     "end_time": "2023-01-10T17:07:16.614836",
     "exception": false,
     "start_time": "2023-01-10T17:07:15.510972",
     "status": "completed"
    },
    "tags": []
   },
   "outputs": [
    {
     "data": {
      "image/png": "[encoded data removed]",
      "text/plain": [
       "<Figure size 936x720 with 1 Axes>"
      ]
     },
     "metadata": {},
     "output_type": "display_data"
    }
   ],
   "source": [
    "pca = PCA(2)\n",
    "pcas= pd.DataFrame(pca.fit_transform(tests), columns = ['x','y'])\n",
    "pcas['kmean']= kmeans_pred\n",
    "pcas['label']= label_test\n",
    "\n",
    "def to_binary_labels(labels):\n",
    "    if labels ==0:\n",
    "        x=\"fake\"\n",
    "    else:\n",
    "        x= \"reliable\" \n",
    "    return x\n",
    "\n",
    "pcas['label']=pd.Series (list(map(to_binary_labels,pcas['label'])))\n",
    "pcas['kmean']=pd.Series (list(map(to_binary_labels,pcas['kmean'])))\n",
    "sns.set(rc={\"figure.figsize\":(13, 10)}) \n",
    "sns.scatterplot(data=pcas, x=\"x\", y=\"y\",s=100,style=\"kmean\",hue='label')\n",
    "plt.xlabel('PCA component 1')\n",
    "plt.ylabel('PCA component 2')\n",
    "plt.savefig('PCA.png')"
   ]
  },
  {
   "cell_type": "code",
   "execution_count": null,
   "id": "2b0a18fe",
   "metadata": {
    "papermill": {
     "duration": 0.044687,
     "end_time": "2023-01-10T17:07:16.705180",
     "exception": false,
     "start_time": "2023-01-10T17:07:16.660493",
     "status": "completed"
    },
    "tags": []
   },
   "outputs": [],
   "source": []
  },
  {
   "cell_type": "code",
   "execution_count": 17,
   "id": "f182da77",
   "metadata": {
    "execution": {
     "iopub.execute_input": "2023-01-10T17:07:16.791257Z",
     "iopub.status.busy": "2023-01-10T17:07:16.790777Z",
     "iopub.status.idle": "2023-01-10T17:07:16.821300Z",
     "shell.execute_reply": "2023-01-10T17:07:16.820273Z"
    },
    "papermill": {
     "duration": 0.07608,
     "end_time": "2023-01-10T17:07:16.824013",
     "exception": false,
     "start_time": "2023-01-10T17:07:16.747933",
     "status": "completed"
    },
    "tags": []
   },
   "outputs": [],
   "source": [
    "sensdeep=metrics.recall_score(label_test, modelpred,pos_label=0)\n",
    "senskmeans=metrics.recall_score(label_test,kmeans_pred,pos_label=0)\n",
    "specdeep=metrics.recall_score(label_test, modelpred,pos_label=1)\n",
    "speckmean=metrics.recall_score(label_test,kmeans_pred,pos_label=1)\n",
    "fak=np.array([np.count_nonzero(label_test == 0),np.count_nonzero(label_test == 1)])/sum([np.count_nonzero(label_test == 0),np.count_nonzero(label_test == 1)])\n",
    "def weighting(kmeans_pred,modelpred):\n",
    "    conditionals= [] \n",
    "    for i in range(len(kmeans_pred)):\n",
    "        if modelpred[i]==0 and kmeans_pred[i]==0:\n",
    "            x=[sensdeep*senskmeans,(1-specdeep)*(1-speckmean)]*fak\n",
    "        elif modelpred[i]==1 and kmeans_pred[i]==1:\n",
    "            x=[(1-sensdeep)*(1-senskmeans),specdeep*speckmean]*fak\n",
    "        elif modelpred[i]==0 and kmeans_pred[i]==1:\n",
    "            x=[sensdeep*(1-senskmeans),(1-specdeep)*speckmean]*fak\n",
    "        else:\n",
    "            x=[(1-sensdeep)*senskmeans,specdeep*(1-speckmean)]*fak\n",
    "        conditionals.append(x)\n",
    "        #unconditionals.append((np.array(x)/sum(x)).tolist())\n",
    "    preds=np.argmax(conditionals,axis=1)\n",
    "    return preds\n",
    "preds=weighting(kmeans_pred,modelpred)"
   ]
  },
  {
   "cell_type": "code",
   "execution_count": 18,
   "id": "deb46d18",
   "metadata": {
    "execution": {
     "iopub.execute_input": "2023-01-10T17:07:16.912710Z",
     "iopub.status.busy": "2023-01-10T17:07:16.912205Z",
     "iopub.status.idle": "2023-01-10T17:07:16.933437Z",
     "shell.execute_reply": "2023-01-10T17:07:16.932115Z"
    },
    "papermill": {
     "duration": 0.071074,
     "end_time": "2023-01-10T17:07:16.936025",
     "exception": false,
     "start_time": "2023-01-10T17:07:16.864951",
     "status": "completed"
    },
    "tags": []
   },
   "outputs": [
    {
     "data": {
      "text/html": [
       "<div>\n",
       "<style scoped>\n",
       "    .dataframe tbody tr th:only-of-type {\n",
       "        vertical-align: middle;\n",
       "    }\n",
       "\n",
       "    .dataframe tbody tr th {\n",
       "        vertical-align: top;\n",
       "    }\n",
       "\n",
       "    .dataframe thead th {\n",
       "        text-align: right;\n",
       "    }\n",
       "</style>\n",
       "<table border=\"1\" class=\"dataframe\">\n",
       "  <thead>\n",
       "    <tr style=\"text-align: right;\">\n",
       "      <th></th>\n",
       "      <th>Measure</th>\n",
       "      <th>Original Dataset</th>\n",
       "    </tr>\n",
       "  </thead>\n",
       "  <tbody>\n",
       "    <tr>\n",
       "      <th>0</th>\n",
       "      <td>Accuracy</td>\n",
       "      <td>0.904103</td>\n",
       "    </tr>\n",
       "    <tr>\n",
       "      <th>1</th>\n",
       "      <td>Sensitivity</td>\n",
       "      <td>0.391304</td>\n",
       "    </tr>\n",
       "    <tr>\n",
       "      <th>2</th>\n",
       "      <td>Specitivity</td>\n",
       "      <td>0.972674</td>\n",
       "    </tr>\n",
       "    <tr>\n",
       "      <th>3</th>\n",
       "      <td>Precision</td>\n",
       "      <td>0.656934</td>\n",
       "    </tr>\n",
       "    <tr>\n",
       "      <th>4</th>\n",
       "      <td>F1_score</td>\n",
       "      <td>0.490463</td>\n",
       "    </tr>\n",
       "  </tbody>\n",
       "</table>\n",
       "</div>"
      ],
      "text/plain": [
       "       Measure  Original Dataset\n",
       "0     Accuracy          0.904103\n",
       "1  Sensitivity          0.391304\n",
       "2  Specitivity          0.972674\n",
       "3    Precision          0.656934\n",
       "4     F1_score          0.490463"
      ]
     },
     "execution_count": 18,
     "metadata": {},
     "output_type": "execute_result"
    }
   ],
   "source": [
    "pd.DataFrame({'Measure':['Accuracy','Sensitivity','Specitivity','Precision','F1_score'],\n",
    "             \"Original Dataset\":[metrics.accuracy_score(label_test,preds),\n",
    "                        metrics.recall_score(label_test, preds,pos_label=0),\n",
    "                        metrics.recall_score(label_test, preds,pos_label=1),\n",
    "                        metrics.precision_score(label_test,preds,pos_label=0),\n",
    "                        metrics.f1_score(label_test,preds,pos_label=0)]})\n",
    " "
   ]
  },
  {
   "cell_type": "code",
   "execution_count": 19,
   "id": "8ab1f029",
   "metadata": {
    "execution": {
     "iopub.execute_input": "2023-01-10T17:07:17.020886Z",
     "iopub.status.busy": "2023-01-10T17:07:17.020398Z",
     "iopub.status.idle": "2023-01-10T17:07:17.026219Z",
     "shell.execute_reply": "2023-01-10T17:07:17.024697Z"
    },
    "papermill": {
     "duration": 0.051656,
     "end_time": "2023-01-10T17:07:17.028696",
     "exception": false,
     "start_time": "2023-01-10T17:07:16.977040",
     "status": "completed"
    },
    "tags": []
   },
   "outputs": [],
   "source": [
    "xt=np.stack((kmeans_pred,modelpred), axis=1)\n",
    "yt=label_test"
   ]
  },
  {
   "cell_type": "code",
   "execution_count": 20,
   "id": "33762d38",
   "metadata": {
    "execution": {
     "iopub.execute_input": "2023-01-10T17:07:17.113527Z",
     "iopub.status.busy": "2023-01-10T17:07:17.112614Z",
     "iopub.status.idle": "2023-01-10T17:07:17.125516Z",
     "shell.execute_reply": "2023-01-10T17:07:17.123780Z"
    },
    "papermill": {
     "duration": 0.058989,
     "end_time": "2023-01-10T17:07:17.128617",
     "exception": false,
     "start_time": "2023-01-10T17:07:17.069628",
     "status": "completed"
    },
    "tags": []
   },
   "outputs": [],
   "source": [
    "from sklearn.naive_bayes import GaussianNB\n",
    "nv = GaussianNB() # create a classifier\n",
    "mod=nv.fit(xt,yt) # fitting the data\n",
    "preds = nv.predict(xt)"
   ]
  },
  {
   "cell_type": "code",
   "execution_count": 21,
   "id": "22aab741",
   "metadata": {
    "execution": {
     "iopub.execute_input": "2023-01-10T17:07:17.215739Z",
     "iopub.status.busy": "2023-01-10T17:07:17.215286Z",
     "iopub.status.idle": "2023-01-10T17:07:17.237595Z",
     "shell.execute_reply": "2023-01-10T17:07:17.236296Z"
    },
    "papermill": {
     "duration": 0.069386,
     "end_time": "2023-01-10T17:07:17.240399",
     "exception": false,
     "start_time": "2023-01-10T17:07:17.171013",
     "status": "completed"
    },
    "tags": []
   },
   "outputs": [
    {
     "data": {
      "text/html": [
       "<div>\n",
       "<style scoped>\n",
       "    .dataframe tbody tr th:only-of-type {\n",
       "        vertical-align: middle;\n",
       "    }\n",
       "\n",
       "    .dataframe tbody tr th {\n",
       "        vertical-align: top;\n",
       "    }\n",
       "\n",
       "    .dataframe thead th {\n",
       "        text-align: right;\n",
       "    }\n",
       "</style>\n",
       "<table border=\"1\" class=\"dataframe\">\n",
       "  <thead>\n",
       "    <tr style=\"text-align: right;\">\n",
       "      <th></th>\n",
       "      <th>Measure</th>\n",
       "      <th>Original Dataset</th>\n",
       "    </tr>\n",
       "  </thead>\n",
       "  <tbody>\n",
       "    <tr>\n",
       "      <th>0</th>\n",
       "      <td>Accuracy</td>\n",
       "      <td>0.904103</td>\n",
       "    </tr>\n",
       "    <tr>\n",
       "      <th>1</th>\n",
       "      <td>Sensitivity</td>\n",
       "      <td>0.391304</td>\n",
       "    </tr>\n",
       "    <tr>\n",
       "      <th>2</th>\n",
       "      <td>Specitivity</td>\n",
       "      <td>0.972674</td>\n",
       "    </tr>\n",
       "    <tr>\n",
       "      <th>3</th>\n",
       "      <td>Precision</td>\n",
       "      <td>0.656934</td>\n",
       "    </tr>\n",
       "    <tr>\n",
       "      <th>4</th>\n",
       "      <td>F1_score</td>\n",
       "      <td>0.490463</td>\n",
       "    </tr>\n",
       "  </tbody>\n",
       "</table>\n",
       "</div>"
      ],
      "text/plain": [
       "       Measure  Original Dataset\n",
       "0     Accuracy          0.904103\n",
       "1  Sensitivity          0.391304\n",
       "2  Specitivity          0.972674\n",
       "3    Precision          0.656934\n",
       "4     F1_score          0.490463"
      ]
     },
     "execution_count": 21,
     "metadata": {},
     "output_type": "execute_result"
    }
   ],
   "source": [
    "pd.DataFrame({'Measure':['Accuracy','Sensitivity','Specitivity','Precision','F1_score'],\n",
    "             \"Original Dataset\":[metrics.accuracy_score(label_test,preds),\n",
    "                        metrics.recall_score(label_test, preds,pos_label=0),\n",
    "                        metrics.recall_score(label_test, preds,pos_label=1),\n",
    "                        metrics.precision_score(label_test,preds,pos_label=0),\n",
    "                        metrics.f1_score(label_test,preds,pos_label=0)]})"
   ]
  },
  {
   "cell_type": "markdown",
   "id": "9dda1f60",
   "metadata": {
    "papermill": {
     "duration": 0.04282,
     "end_time": "2023-01-10T17:07:17.326213",
     "exception": false,
     "start_time": "2023-01-10T17:07:17.283393",
     "status": "completed"
    },
    "tags": []
   },
   "source": [
    "# validation set"
   ]
  },
  {
   "cell_type": "code",
   "execution_count": 22,
   "id": "cdd3c4e2",
   "metadata": {
    "execution": {
     "iopub.execute_input": "2023-01-10T17:07:17.414469Z",
     "iopub.status.busy": "2023-01-10T17:07:17.412702Z",
     "iopub.status.idle": "2023-01-10T17:07:28.046797Z",
     "shell.execute_reply": "2023-01-10T17:07:28.045603Z"
    },
    "papermill": {
     "duration": 10.680957,
     "end_time": "2023-01-10T17:07:28.049886",
     "exception": false,
     "start_time": "2023-01-10T17:07:17.368929",
     "status": "completed"
    },
    "tags": []
   },
   "outputs": [],
   "source": [
    "modelpred=np.argmax(model.predict(valid), axis=1)\n",
    "valids=feature_miner.predict(valid)\n",
    "kmeans_pred=kmea.predict(valids)\n",
    "\n",
    "if np.mean(kmeans_pred1==label_test)>=np.mean((1-kmeans_pred1)==label_test):\n",
    "    kmeans_pred=kmeans_pred\n",
    "else:\n",
    "    kmeans_pred=(1-kmeans_pred)"
   ]
  },
  {
   "cell_type": "code",
   "execution_count": 23,
   "id": "8d504005",
   "metadata": {
    "execution": {
     "iopub.execute_input": "2023-01-10T17:07:28.138534Z",
     "iopub.status.busy": "2023-01-10T17:07:28.138060Z",
     "iopub.status.idle": "2023-01-10T17:07:28.144200Z",
     "shell.execute_reply": "2023-01-10T17:07:28.142957Z"
    },
    "papermill": {
     "duration": 0.05284,
     "end_time": "2023-01-10T17:07:28.146871",
     "exception": false,
     "start_time": "2023-01-10T17:07:28.094031",
     "status": "completed"
    },
    "tags": []
   },
   "outputs": [],
   "source": [
    "xt=np.stack((kmeans_pred,modelpred), axis=1)\n",
    "yt=label_valid"
   ]
  },
  {
   "cell_type": "code",
   "execution_count": 24,
   "id": "66ebf85d",
   "metadata": {
    "execution": {
     "iopub.execute_input": "2023-01-10T17:07:28.234170Z",
     "iopub.status.busy": "2023-01-10T17:07:28.233660Z",
     "iopub.status.idle": "2023-01-10T17:07:28.254760Z",
     "shell.execute_reply": "2023-01-10T17:07:28.253472Z"
    },
    "papermill": {
     "duration": 0.068918,
     "end_time": "2023-01-10T17:07:28.257648",
     "exception": false,
     "start_time": "2023-01-10T17:07:28.188730",
     "status": "completed"
    },
    "tags": []
   },
   "outputs": [
    {
     "data": {
      "text/html": [
       "<div>\n",
       "<style scoped>\n",
       "    .dataframe tbody tr th:only-of-type {\n",
       "        vertical-align: middle;\n",
       "    }\n",
       "\n",
       "    .dataframe tbody tr th {\n",
       "        vertical-align: top;\n",
       "    }\n",
       "\n",
       "    .dataframe thead th {\n",
       "        text-align: right;\n",
       "    }\n",
       "</style>\n",
       "<table border=\"1\" class=\"dataframe\">\n",
       "  <thead>\n",
       "    <tr style=\"text-align: right;\">\n",
       "      <th></th>\n",
       "      <th>Measure</th>\n",
       "      <th>Original Dataset</th>\n",
       "    </tr>\n",
       "  </thead>\n",
       "  <tbody>\n",
       "    <tr>\n",
       "      <th>0</th>\n",
       "      <td>Accuracy</td>\n",
       "      <td>0.907692</td>\n",
       "    </tr>\n",
       "    <tr>\n",
       "      <th>1</th>\n",
       "      <td>Sensitivity</td>\n",
       "      <td>0.388889</td>\n",
       "    </tr>\n",
       "    <tr>\n",
       "      <th>2</th>\n",
       "      <td>Specitivity</td>\n",
       "      <td>0.972318</td>\n",
       "    </tr>\n",
       "    <tr>\n",
       "      <th>3</th>\n",
       "      <td>Precision</td>\n",
       "      <td>0.636364</td>\n",
       "    </tr>\n",
       "    <tr>\n",
       "      <th>4</th>\n",
       "      <td>F1_score</td>\n",
       "      <td>0.482759</td>\n",
       "    </tr>\n",
       "  </tbody>\n",
       "</table>\n",
       "</div>"
      ],
      "text/plain": [
       "       Measure  Original Dataset\n",
       "0     Accuracy          0.907692\n",
       "1  Sensitivity          0.388889\n",
       "2  Specitivity          0.972318\n",
       "3    Precision          0.636364\n",
       "4     F1_score          0.482759"
      ]
     },
     "execution_count": 24,
     "metadata": {},
     "output_type": "execute_result"
    }
   ],
   "source": [
    "preds = nv.predict(xt)\n",
    "pd.DataFrame({'Measure':['Accuracy','Sensitivity','Specitivity','Precision','F1_score'],\n",
    "             \"Original Dataset\":[metrics.accuracy_score(label_valid,preds),\n",
    "                        metrics.recall_score(label_valid, preds,pos_label=0),\n",
    "                        metrics.recall_score(label_valid, preds,pos_label=1),\n",
    "                        metrics.precision_score(label_valid,preds,pos_label=0),\n",
    "                        metrics.f1_score(label_valid,preds,pos_label=0)]})\n"
   ]
  },
  {
   "cell_type": "code",
   "execution_count": null,
   "id": "6cb97c75",
   "metadata": {
    "papermill": {
     "duration": 0.042113,
     "end_time": "2023-01-10T17:07:28.341341",
     "exception": false,
     "start_time": "2023-01-10T17:07:28.299228",
     "status": "completed"
    },
    "tags": []
   },
   "outputs": [],
   "source": []
  },
  {
   "cell_type": "markdown",
   "id": "4ef0e27d",
   "metadata": {
    "papermill": {
     "duration": 0.041281,
     "end_time": "2023-01-10T17:07:28.425634",
     "exception": false,
     "start_time": "2023-01-10T17:07:28.384353",
     "status": "completed"
    },
    "tags": []
   },
   "source": [
    "# model 1"
   ]
  },
  {
   "cell_type": "code",
   "execution_count": 25,
   "id": "e6c8f97c",
   "metadata": {
    "execution": {
     "iopub.execute_input": "2023-01-10T17:07:28.511874Z",
     "iopub.status.busy": "2023-01-10T17:07:28.511423Z",
     "iopub.status.idle": "2023-01-10T17:07:45.453834Z",
     "shell.execute_reply": "2023-01-10T17:07:45.452474Z"
    },
    "papermill": {
     "duration": 16.989264,
     "end_time": "2023-01-10T17:07:45.457372",
     "exception": false,
     "start_time": "2023-01-10T17:07:28.468108",
     "status": "completed"
    },
    "tags": []
   },
   "outputs": [],
   "source": [
    "with open(\"/kaggle/input/benchmarkmodelsfake3/kmea1.pkl\",\"rb\") as file:\n",
    "    kmea=pickle.load(file)\n",
    "    \n",
    "with open(\"/kaggle/input/benchmarkmodelsfake3/predictors1.pkl\",\"rb\") as file:\n",
    "    predictors=pickle.load(file)\n",
    "    \n",
    "with open(\"/kaggle/input/benchmarkmodelsfake3/tests1.pkl\",\"rb\") as file:\n",
    "    tests=pickle.load(file)\n",
    "\n",
    "test=tf.data.experimental.load(\"/kaggle/input/benchmarkmodelsfake3/fakenewstest\")\n",
    "train=tf.data.experimental.load(\"/kaggle/input/benchmarkmodelsfake3/fakenewstrain\")\n",
    "valid=tf.data.experimental.load(\"/kaggle/input/benchmarkmodelsfake3/fakenewsvalid\")\n",
    "model1 = keras.models.load_model('/kaggle/input/benchmarkmodelsfake3/model1')\n",
    "\n",
    "train1=train\n",
    "test1=test\n",
    "valid1=valid"
   ]
  },
  {
   "cell_type": "code",
   "execution_count": 26,
   "id": "b38624c2",
   "metadata": {
    "execution": {
     "iopub.execute_input": "2023-01-10T17:07:45.543639Z",
     "iopub.status.busy": "2023-01-10T17:07:45.543100Z",
     "iopub.status.idle": "2023-01-10T17:07:47.548714Z",
     "shell.execute_reply": "2023-01-10T17:07:47.547469Z"
    },
    "papermill": {
     "duration": 2.053212,
     "end_time": "2023-01-10T17:07:47.552186",
     "exception": false,
     "start_time": "2023-01-10T17:07:45.498974",
     "status": "completed"
    },
    "tags": []
   },
   "outputs": [],
   "source": [
    "# some parameters to be used\n",
    "# some of this were relevantduring code creation\n",
    "batch_size=64  #  Batch sizes to use\n",
    "epoch =200       # number of training ephochs\n",
    "sequence_length = 250   # here we can set arguments for text vectorization      \n",
    "max_tokens=20000\n",
    "\n",
    "vectorize_layer = layers.TextVectorization(\n",
    "    max_tokens=max_tokens,\n",
    "    pad_to_max_tokens=True,\n",
    "    output_mode='int')\n",
    "\n",
    "train_article = train.map(lambda x, y: x)\n",
    "vectorize_layer.adapt(train_article)\n",
    "\n",
    "\n",
    "def vectorize_articles(text, label):\n",
    "    text = tf.expand_dims(text, -1)\n",
    "    return vectorize_layer(text), label\n",
    "\n",
    "AUTOTUNE = tf.data.AUTOTUNE \n",
    "train = train.map(vectorize_articles).cache().prefetch(buffer_size=AUTOTUNE)  # set catching and prefetching on training data\n",
    "valid = valid.map(vectorize_articles).cache().prefetch(buffer_size=AUTOTUNE)  #set catching and prefetching on testing data\n",
    "test = test.map(vectorize_articles).cache().prefetch(buffer_size=AUTOTUNE)    #  set catching and prefetching on validation data\n"
   ]
  },
  {
   "cell_type": "code",
   "execution_count": 27,
   "id": "86edecb1",
   "metadata": {
    "execution": {
     "iopub.execute_input": "2023-01-10T17:07:47.638470Z",
     "iopub.status.busy": "2023-01-10T17:07:47.638008Z",
     "iopub.status.idle": "2023-01-10T17:07:58.978933Z",
     "shell.execute_reply": "2023-01-10T17:07:58.977937Z"
    },
    "papermill": {
     "duration": 11.387277,
     "end_time": "2023-01-10T17:07:58.981368",
     "exception": false,
     "start_time": "2023-01-10T17:07:47.594091",
     "status": "completed"
    },
    "tags": []
   },
   "outputs": [
    {
     "name": "stdout",
     "output_type": "stream",
     "text": [
      "15/15 [==============================] - 11s 434ms/step - loss: 0.2759 - accuracy: 0.8968 - Sensitivity: 0.8415 - Specificity: 0.9563 - Precision: 0.9539 - f1_score: 0.8968\n"
     ]
    },
    {
     "data": {
      "text/html": [
       "<div>\n",
       "<style scoped>\n",
       "    .dataframe tbody tr th:only-of-type {\n",
       "        vertical-align: middle;\n",
       "    }\n",
       "\n",
       "    .dataframe tbody tr th {\n",
       "        vertical-align: top;\n",
       "    }\n",
       "\n",
       "    .dataframe thead th {\n",
       "        text-align: right;\n",
       "    }\n",
       "</style>\n",
       "<table border=\"1\" class=\"dataframe\">\n",
       "  <thead>\n",
       "    <tr style=\"text-align: right;\">\n",
       "      <th></th>\n",
       "      <th>Measure</th>\n",
       "      <th>Original Dataset</th>\n",
       "    </tr>\n",
       "  </thead>\n",
       "  <tbody>\n",
       "    <tr>\n",
       "      <th>0</th>\n",
       "      <td>Accuracy</td>\n",
       "      <td>0.8968</td>\n",
       "    </tr>\n",
       "    <tr>\n",
       "      <th>1</th>\n",
       "      <td>Sensitivity</td>\n",
       "      <td>0.8415</td>\n",
       "    </tr>\n",
       "    <tr>\n",
       "      <th>2</th>\n",
       "      <td>Specificty</td>\n",
       "      <td>0.9563</td>\n",
       "    </tr>\n",
       "    <tr>\n",
       "      <th>3</th>\n",
       "      <td>Precision</td>\n",
       "      <td>0.9539</td>\n",
       "    </tr>\n",
       "    <tr>\n",
       "      <th>4</th>\n",
       "      <td>F1 score</td>\n",
       "      <td>0.8968</td>\n",
       "    </tr>\n",
       "  </tbody>\n",
       "</table>\n",
       "</div>"
      ],
      "text/plain": [
       "       Measure  Original Dataset\n",
       "0     Accuracy            0.8968\n",
       "1  Sensitivity            0.8415\n",
       "2   Specificty            0.9563\n",
       "3    Precision            0.9539\n",
       "4     F1 score            0.8968"
      ]
     },
     "execution_count": 27,
     "metadata": {},
     "output_type": "execute_result"
    }
   ],
   "source": [
    "model1.compile(\n",
    "  optimizer='adam',\n",
    "  loss=\"categorical_crossentropy\",\n",
    "  metrics=[\"accuracy\",\n",
    "           tf.keras.metrics.Recall(name=\"Sensitivity\",class_id=0),\n",
    "           tf.keras.metrics.Recall(name=\"Specificity\",class_id=1),\n",
    "           tf.keras.metrics.Precision(name=\"Precision\",class_id=0),\n",
    "          tfa.metrics.F1Score(num_classes=2, average=\"micro\")])\n",
    "\n",
    "mod2=model1.evaluate(test)[1:6]\n",
    "mod2=pd.DataFrame({\"Measure\":['Accuracy','Sensitivity','Specificty','Precision','F1 score'],\n",
    "    \"Original Dataset\":[np.round(float(i), 4) for i in mod2]})\n",
    "mod2"
   ]
  },
  {
   "cell_type": "code",
   "execution_count": 28,
   "id": "27aca5c1",
   "metadata": {
    "execution": {
     "iopub.execute_input": "2023-01-10T17:07:59.071026Z",
     "iopub.status.busy": "2023-01-10T17:07:59.070212Z",
     "iopub.status.idle": "2023-01-10T17:08:00.278963Z",
     "shell.execute_reply": "2023-01-10T17:08:00.277704Z"
    },
    "papermill": {
     "duration": 1.257259,
     "end_time": "2023-01-10T17:08:00.282035",
     "exception": false,
     "start_time": "2023-01-10T17:07:59.024776",
     "status": "completed"
    },
    "tags": []
   },
   "outputs": [],
   "source": [
    "label_train=np.argmax(labels(train),axis=1)\n",
    "label_test=np.argmax(labels(test),axis=1)\n",
    "label_valid=np.argmax(labels(valid),axis=1)"
   ]
  },
  {
   "cell_type": "code",
   "execution_count": null,
   "id": "dec84943",
   "metadata": {
    "papermill": {
     "duration": 0.042594,
     "end_time": "2023-01-10T17:08:00.367667",
     "exception": false,
     "start_time": "2023-01-10T17:08:00.325073",
     "status": "completed"
    },
    "tags": []
   },
   "outputs": [],
   "source": []
  },
  {
   "cell_type": "code",
   "execution_count": 29,
   "id": "c46eb5a3",
   "metadata": {
    "execution": {
     "iopub.execute_input": "2023-01-10T17:08:00.457856Z",
     "iopub.status.busy": "2023-01-10T17:08:00.457344Z",
     "iopub.status.idle": "2023-01-10T17:08:09.967649Z",
     "shell.execute_reply": "2023-01-10T17:08:09.966105Z"
    },
    "papermill": {
     "duration": 9.560745,
     "end_time": "2023-01-10T17:08:09.971851",
     "exception": false,
     "start_time": "2023-01-10T17:08:00.411106",
     "status": "completed"
    },
    "tags": []
   },
   "outputs": [
    {
     "name": "stdout",
     "output_type": "stream",
     "text": [
      "0.9063157894736842\n",
      "0.09368421052631579\n"
     ]
    }
   ],
   "source": [
    "modelpred=np.argmax(model1.predict(test), axis=1)\n",
    "kmeans_pred=kmea.predict(tests)\n",
    "print(np.mean(kmeans_pred==label_test))\n",
    "print(np.mean(np.mean((1-kmeans_pred)==label_test)))"
   ]
  },
  {
   "cell_type": "code",
   "execution_count": 30,
   "id": "75021a8e",
   "metadata": {
    "execution": {
     "iopub.execute_input": "2023-01-10T17:08:10.061975Z",
     "iopub.status.busy": "2023-01-10T17:08:10.061480Z",
     "iopub.status.idle": "2023-01-10T17:08:10.069421Z",
     "shell.execute_reply": "2023-01-10T17:08:10.068267Z"
    },
    "papermill": {
     "duration": 0.055559,
     "end_time": "2023-01-10T17:08:10.071962",
     "exception": false,
     "start_time": "2023-01-10T17:08:10.016403",
     "status": "completed"
    },
    "tags": []
   },
   "outputs": [],
   "source": [
    "kmeans_pred1=kmea.predict(tests)\n",
    "if np.mean(kmeans_pred==label_test)>=np.mean((1-kmeans_pred)==label_test):\n",
    "    kmeans_pred=kmeans_pred\n",
    "else:\n",
    "    kmeans_pred=(1-kmeans_pred)"
   ]
  },
  {
   "cell_type": "code",
   "execution_count": 31,
   "id": "d0482ef3",
   "metadata": {
    "execution": {
     "iopub.execute_input": "2023-01-10T17:08:10.163708Z",
     "iopub.status.busy": "2023-01-10T17:08:10.163222Z",
     "iopub.status.idle": "2023-01-10T17:08:10.184192Z",
     "shell.execute_reply": "2023-01-10T17:08:10.183018Z"
    },
    "papermill": {
     "duration": 0.067905,
     "end_time": "2023-01-10T17:08:10.186898",
     "exception": false,
     "start_time": "2023-01-10T17:08:10.118993",
     "status": "completed"
    },
    "tags": []
   },
   "outputs": [
    {
     "data": {
      "text/html": [
       "<div>\n",
       "<style scoped>\n",
       "    .dataframe tbody tr th:only-of-type {\n",
       "        vertical-align: middle;\n",
       "    }\n",
       "\n",
       "    .dataframe tbody tr th {\n",
       "        vertical-align: top;\n",
       "    }\n",
       "\n",
       "    .dataframe thead th {\n",
       "        text-align: right;\n",
       "    }\n",
       "</style>\n",
       "<table border=\"1\" class=\"dataframe\">\n",
       "  <thead>\n",
       "    <tr style=\"text-align: right;\">\n",
       "      <th></th>\n",
       "      <th>Measure</th>\n",
       "      <th>Original Dataset</th>\n",
       "    </tr>\n",
       "  </thead>\n",
       "  <tbody>\n",
       "    <tr>\n",
       "      <th>0</th>\n",
       "      <td>Accuracy</td>\n",
       "      <td>0.906316</td>\n",
       "    </tr>\n",
       "    <tr>\n",
       "      <th>1</th>\n",
       "      <td>Sensitivity</td>\n",
       "      <td>0.873984</td>\n",
       "    </tr>\n",
       "    <tr>\n",
       "      <th>2</th>\n",
       "      <td>Specitivity</td>\n",
       "      <td>0.941048</td>\n",
       "    </tr>\n",
       "    <tr>\n",
       "      <th>3</th>\n",
       "      <td>Precision</td>\n",
       "      <td>0.940919</td>\n",
       "    </tr>\n",
       "    <tr>\n",
       "      <th>4</th>\n",
       "      <td>F1_score</td>\n",
       "      <td>0.906217</td>\n",
       "    </tr>\n",
       "  </tbody>\n",
       "</table>\n",
       "</div>"
      ],
      "text/plain": [
       "       Measure  Original Dataset\n",
       "0     Accuracy          0.906316\n",
       "1  Sensitivity          0.873984\n",
       "2  Specitivity          0.941048\n",
       "3    Precision          0.940919\n",
       "4     F1_score          0.906217"
      ]
     },
     "execution_count": 31,
     "metadata": {},
     "output_type": "execute_result"
    }
   ],
   "source": [
    "pd.DataFrame({'Measure':['Accuracy','Sensitivity','Specitivity','Precision','F1_score'],\n",
    "             \"Original Dataset\":[metrics.accuracy_score(label_test,kmeans_pred),\n",
    "                        metrics.recall_score(label_test, kmeans_pred,pos_label=0),\n",
    "                        metrics.recall_score(label_test, kmeans_pred,pos_label=1),\n",
    "                        metrics.precision_score(label_test,kmeans_pred,pos_label=0),\n",
    "                        metrics.f1_score(label_test,kmeans_pred,pos_label=0)]})\n",
    " "
   ]
  },
  {
   "cell_type": "code",
   "execution_count": 32,
   "id": "58000c54",
   "metadata": {
    "execution": {
     "iopub.execute_input": "2023-01-10T17:08:10.278747Z",
     "iopub.status.busy": "2023-01-10T17:08:10.277900Z",
     "iopub.status.idle": "2023-01-10T17:08:10.283189Z",
     "shell.execute_reply": "2023-01-10T17:08:10.282196Z"
    },
    "papermill": {
     "duration": 0.054772,
     "end_time": "2023-01-10T17:08:10.285823",
     "exception": false,
     "start_time": "2023-01-10T17:08:10.231051",
     "status": "completed"
    },
    "tags": []
   },
   "outputs": [],
   "source": [
    "xt=np.stack((kmeans_pred,modelpred), axis=1)\n",
    "yt=label_test"
   ]
  },
  {
   "cell_type": "code",
   "execution_count": 33,
   "id": "219f7586",
   "metadata": {
    "execution": {
     "iopub.execute_input": "2023-01-10T17:08:10.374820Z",
     "iopub.status.busy": "2023-01-10T17:08:10.373992Z",
     "iopub.status.idle": "2023-01-10T17:08:10.382818Z",
     "shell.execute_reply": "2023-01-10T17:08:10.381186Z"
    },
    "papermill": {
     "duration": 0.057196,
     "end_time": "2023-01-10T17:08:10.386192",
     "exception": false,
     "start_time": "2023-01-10T17:08:10.328996",
     "status": "completed"
    },
    "tags": []
   },
   "outputs": [],
   "source": [
    "from sklearn.naive_bayes import GaussianNB\n",
    "nv = GaussianNB() # create a classifier\n",
    "mod=nv.fit(xt,yt) # fitting the data\n",
    "preds = nv.predict(xt)"
   ]
  },
  {
   "cell_type": "code",
   "execution_count": 34,
   "id": "e8f58b49",
   "metadata": {
    "execution": {
     "iopub.execute_input": "2023-01-10T17:08:10.474072Z",
     "iopub.status.busy": "2023-01-10T17:08:10.473490Z",
     "iopub.status.idle": "2023-01-10T17:08:10.496403Z",
     "shell.execute_reply": "2023-01-10T17:08:10.495109Z"
    },
    "papermill": {
     "duration": 0.070288,
     "end_time": "2023-01-10T17:08:10.499183",
     "exception": false,
     "start_time": "2023-01-10T17:08:10.428895",
     "status": "completed"
    },
    "tags": []
   },
   "outputs": [
    {
     "data": {
      "text/html": [
       "<div>\n",
       "<style scoped>\n",
       "    .dataframe tbody tr th:only-of-type {\n",
       "        vertical-align: middle;\n",
       "    }\n",
       "\n",
       "    .dataframe tbody tr th {\n",
       "        vertical-align: top;\n",
       "    }\n",
       "\n",
       "    .dataframe thead th {\n",
       "        text-align: right;\n",
       "    }\n",
       "</style>\n",
       "<table border=\"1\" class=\"dataframe\">\n",
       "  <thead>\n",
       "    <tr style=\"text-align: right;\">\n",
       "      <th></th>\n",
       "      <th>Measure</th>\n",
       "      <th>Original Dataset</th>\n",
       "    </tr>\n",
       "  </thead>\n",
       "  <tbody>\n",
       "    <tr>\n",
       "      <th>0</th>\n",
       "      <td>Accuracy</td>\n",
       "      <td>0.908421</td>\n",
       "    </tr>\n",
       "    <tr>\n",
       "      <th>1</th>\n",
       "      <td>Sensitivity</td>\n",
       "      <td>0.878049</td>\n",
       "    </tr>\n",
       "    <tr>\n",
       "      <th>2</th>\n",
       "      <td>Specitivity</td>\n",
       "      <td>0.941048</td>\n",
       "    </tr>\n",
       "    <tr>\n",
       "      <th>3</th>\n",
       "      <td>Precision</td>\n",
       "      <td>0.941176</td>\n",
       "    </tr>\n",
       "    <tr>\n",
       "      <th>4</th>\n",
       "      <td>F1_score</td>\n",
       "      <td>0.908517</td>\n",
       "    </tr>\n",
       "  </tbody>\n",
       "</table>\n",
       "</div>"
      ],
      "text/plain": [
       "       Measure  Original Dataset\n",
       "0     Accuracy          0.908421\n",
       "1  Sensitivity          0.878049\n",
       "2  Specitivity          0.941048\n",
       "3    Precision          0.941176\n",
       "4     F1_score          0.908517"
      ]
     },
     "execution_count": 34,
     "metadata": {},
     "output_type": "execute_result"
    }
   ],
   "source": [
    "pd.DataFrame({'Measure':['Accuracy','Sensitivity','Specitivity','Precision','F1_score'],\n",
    "             \"Original Dataset\":[metrics.accuracy_score(label_test,preds),\n",
    "                        metrics.recall_score(label_test, preds,pos_label=0),\n",
    "                        metrics.recall_score(label_test, preds,pos_label=1),\n",
    "                        metrics.precision_score(label_test,preds,pos_label=0),\n",
    "                        metrics.f1_score(label_test,preds,pos_label=0)]})"
   ]
  },
  {
   "cell_type": "code",
   "execution_count": 35,
   "id": "a9135714",
   "metadata": {
    "execution": {
     "iopub.execute_input": "2023-01-10T17:08:10.588869Z",
     "iopub.status.busy": "2023-01-10T17:08:10.588413Z",
     "iopub.status.idle": "2023-01-10T17:08:10.593352Z",
     "shell.execute_reply": "2023-01-10T17:08:10.592403Z"
    },
    "papermill": {
     "duration": 0.05241,
     "end_time": "2023-01-10T17:08:10.595812",
     "exception": false,
     "start_time": "2023-01-10T17:08:10.543402",
     "status": "completed"
    },
    "tags": []
   },
   "outputs": [],
   "source": [
    "#Validation"
   ]
  },
  {
   "cell_type": "code",
   "execution_count": 36,
   "id": "47ee050a",
   "metadata": {
    "execution": {
     "iopub.execute_input": "2023-01-10T17:08:10.684594Z",
     "iopub.status.busy": "2023-01-10T17:08:10.683180Z",
     "iopub.status.idle": "2023-01-10T17:08:15.711429Z",
     "shell.execute_reply": "2023-01-10T17:08:15.710039Z"
    },
    "papermill": {
     "duration": 5.075477,
     "end_time": "2023-01-10T17:08:15.714518",
     "exception": false,
     "start_time": "2023-01-10T17:08:10.639041",
     "status": "completed"
    },
    "tags": []
   },
   "outputs": [],
   "source": [
    "modelpred=np.argmax(model1.predict(valid), axis=1)\n",
    "valids=feature_miner.predict(valid)\n",
    "kmeans_pred=kmea.predict(valids)\n",
    "\n",
    "if np.mean(kmeans_pred1==label_test)>=np.mean((1-kmeans_pred1)==label_test):\n",
    "    kmeans_pred=kmeans_pred\n",
    "else:\n",
    "    kmeans_pred=(1-kmeans_pred)"
   ]
  },
  {
   "cell_type": "code",
   "execution_count": 37,
   "id": "b21da174",
   "metadata": {
    "execution": {
     "iopub.execute_input": "2023-01-10T17:08:15.810038Z",
     "iopub.status.busy": "2023-01-10T17:08:15.809015Z",
     "iopub.status.idle": "2023-01-10T17:08:15.815150Z",
     "shell.execute_reply": "2023-01-10T17:08:15.813991Z"
    },
    "papermill": {
     "duration": 0.056058,
     "end_time": "2023-01-10T17:08:15.817839",
     "exception": false,
     "start_time": "2023-01-10T17:08:15.761781",
     "status": "completed"
    },
    "tags": []
   },
   "outputs": [],
   "source": [
    "xt=np.stack((kmeans_pred,modelpred), axis=1)\n",
    "yt=label_valid"
   ]
  },
  {
   "cell_type": "code",
   "execution_count": 38,
   "id": "520a29c8",
   "metadata": {
    "execution": {
     "iopub.execute_input": "2023-01-10T17:08:15.906741Z",
     "iopub.status.busy": "2023-01-10T17:08:15.906213Z",
     "iopub.status.idle": "2023-01-10T17:08:15.928862Z",
     "shell.execute_reply": "2023-01-10T17:08:15.927329Z"
    },
    "papermill": {
     "duration": 0.070255,
     "end_time": "2023-01-10T17:08:15.931841",
     "exception": false,
     "start_time": "2023-01-10T17:08:15.861586",
     "status": "completed"
    },
    "tags": []
   },
   "outputs": [
    {
     "data": {
      "text/html": [
       "<div>\n",
       "<style scoped>\n",
       "    .dataframe tbody tr th:only-of-type {\n",
       "        vertical-align: middle;\n",
       "    }\n",
       "\n",
       "    .dataframe tbody tr th {\n",
       "        vertical-align: top;\n",
       "    }\n",
       "\n",
       "    .dataframe thead th {\n",
       "        text-align: right;\n",
       "    }\n",
       "</style>\n",
       "<table border=\"1\" class=\"dataframe\">\n",
       "  <thead>\n",
       "    <tr style=\"text-align: right;\">\n",
       "      <th></th>\n",
       "      <th>Measure</th>\n",
       "      <th>Original Dataset</th>\n",
       "    </tr>\n",
       "  </thead>\n",
       "  <tbody>\n",
       "    <tr>\n",
       "      <th>0</th>\n",
       "      <td>Accuracy</td>\n",
       "      <td>0.501577</td>\n",
       "    </tr>\n",
       "    <tr>\n",
       "      <th>1</th>\n",
       "      <td>Sensitivity</td>\n",
       "      <td>0.993590</td>\n",
       "    </tr>\n",
       "    <tr>\n",
       "      <th>2</th>\n",
       "      <td>Specitivity</td>\n",
       "      <td>0.024845</td>\n",
       "    </tr>\n",
       "    <tr>\n",
       "      <th>3</th>\n",
       "      <td>Precision</td>\n",
       "      <td>0.496795</td>\n",
       "    </tr>\n",
       "    <tr>\n",
       "      <th>4</th>\n",
       "      <td>F1_score</td>\n",
       "      <td>0.662393</td>\n",
       "    </tr>\n",
       "  </tbody>\n",
       "</table>\n",
       "</div>"
      ],
      "text/plain": [
       "       Measure  Original Dataset\n",
       "0     Accuracy          0.501577\n",
       "1  Sensitivity          0.993590\n",
       "2  Specitivity          0.024845\n",
       "3    Precision          0.496795\n",
       "4     F1_score          0.662393"
      ]
     },
     "execution_count": 38,
     "metadata": {},
     "output_type": "execute_result"
    }
   ],
   "source": [
    "preds = nv.predict(xt)\n",
    "pd.DataFrame({'Measure':['Accuracy','Sensitivity','Specitivity','Precision','F1_score'],\n",
    "             \"Original Dataset\":[metrics.accuracy_score(label_valid,preds),\n",
    "                        metrics.recall_score(label_valid, preds,pos_label=0),\n",
    "                        metrics.recall_score(label_valid, preds,pos_label=1),\n",
    "                        metrics.precision_score(label_valid,preds,pos_label=0),\n",
    "                        metrics.f1_score(label_valid,preds,pos_label=0)]})\n"
   ]
  },
  {
   "cell_type": "markdown",
   "id": "2eec3fa4",
   "metadata": {
    "papermill": {
     "duration": 0.042723,
     "end_time": "2023-01-10T17:08:16.017808",
     "exception": false,
     "start_time": "2023-01-10T17:08:15.975085",
     "status": "completed"
    },
    "tags": []
   },
   "source": [
    "# models 2"
   ]
  },
  {
   "cell_type": "code",
   "execution_count": 39,
   "id": "696f0175",
   "metadata": {
    "execution": {
     "iopub.execute_input": "2023-01-10T17:08:16.110224Z",
     "iopub.status.busy": "2023-01-10T17:08:16.109604Z",
     "iopub.status.idle": "2023-01-10T17:08:32.094835Z",
     "shell.execute_reply": "2023-01-10T17:08:32.093144Z"
    },
    "papermill": {
     "duration": 16.035312,
     "end_time": "2023-01-10T17:08:32.098417",
     "exception": false,
     "start_time": "2023-01-10T17:08:16.063105",
     "status": "completed"
    },
    "tags": []
   },
   "outputs": [],
   "source": [
    "with open(\"/kaggle/input/benchmarkmodelsfake3/kmea2.pkl\",\"rb\") as file:\n",
    "    kmea=pickle.load(file)\n",
    "    \n",
    "with open(\"/kaggle/input/benchmarkmodelsfake3/predictors2.pkl\",\"rb\") as file:\n",
    "    predictors=pickle.load(file)\n",
    "    \n",
    "with open(\"/kaggle/input/benchmarkmodelsfake3/tests2.pkl\",\"rb\") as file:\n",
    "    tests=pickle.load(file)\n",
    "    \n",
    "test=tf.data.experimental.load(\"/kaggle/input/benchmarkmodelsfake3/authenticnewstest\")\n",
    "train=tf.data.experimental.load(\"/kaggle/input/benchmarkmodelsfake3/authenticewstrain\")\n",
    "valid=tf.data.experimental.load(\"/kaggle/input/benchmarkmodelsfake3/authenticnewsvalid\")\n",
    "model2 = keras.models.load_model('/kaggle/input/benchmarkmodelsfake3/model2')\n",
    "\n",
    "train2=train\n",
    "test2=test\n",
    "valid2=valid"
   ]
  },
  {
   "cell_type": "code",
   "execution_count": 40,
   "id": "7ff460f0",
   "metadata": {
    "execution": {
     "iopub.execute_input": "2023-01-10T17:08:32.192628Z",
     "iopub.status.busy": "2023-01-10T17:08:32.192144Z",
     "iopub.status.idle": "2023-01-10T17:08:40.134322Z",
     "shell.execute_reply": "2023-01-10T17:08:40.132851Z"
    },
    "papermill": {
     "duration": 7.992131,
     "end_time": "2023-01-10T17:08:40.137634",
     "exception": false,
     "start_time": "2023-01-10T17:08:32.145503",
     "status": "completed"
    },
    "tags": []
   },
   "outputs": [],
   "source": [
    "# some parameters to be used\n",
    "# some of this were relevantduring code creation\n",
    "batch_size=64  #  Batch sizes to use\n",
    "epoch =200       # number of training ephochs\n",
    "sequence_length = 250   # here we can set arguments for text vectorization      \n",
    "max_tokens=20000\n",
    "\n",
    "vectorize_layer = layers.TextVectorization(\n",
    "    max_tokens=max_tokens,\n",
    "    pad_to_max_tokens=True,\n",
    "    output_mode='int')\n",
    "\n",
    "train_article = train.map(lambda x, y: x)\n",
    "vectorize_layer.adapt(train_article)\n",
    "\n",
    "\n",
    "def vectorize_articles(text, label):\n",
    "    text = tf.expand_dims(text, -1)\n",
    "    return vectorize_layer(text), label\n",
    "\n",
    "AUTOTUNE = tf.data.AUTOTUNE \n",
    "train = train.map(vectorize_articles).cache().prefetch(buffer_size=AUTOTUNE)  # set catching and prefetching on training data\n",
    "valid = valid.map(vectorize_articles).cache().prefetch(buffer_size=AUTOTUNE)  #set catching and prefetching on testing data\n",
    "test = test.map(vectorize_articles).cache().prefetch(buffer_size=AUTOTUNE)    #  set catching and prefetching on validation data\n"
   ]
  },
  {
   "cell_type": "code",
   "execution_count": 41,
   "id": "ca89bc43",
   "metadata": {
    "execution": {
     "iopub.execute_input": "2023-01-10T17:08:40.230199Z",
     "iopub.status.busy": "2023-01-10T17:08:40.229671Z",
     "iopub.status.idle": "2023-01-10T17:09:06.386592Z",
     "shell.execute_reply": "2023-01-10T17:09:06.385080Z"
    },
    "papermill": {
     "duration": 26.206455,
     "end_time": "2023-01-10T17:09:06.389786",
     "exception": false,
     "start_time": "2023-01-10T17:08:40.183331",
     "status": "completed"
    },
    "tags": []
   },
   "outputs": [
    {
     "name": "stdout",
     "output_type": "stream",
     "text": [
      "106/106 [==============================] - 26s 221ms/step - loss: 0.0115 - accuracy: 0.9978 - Sensitivity: 0.9980 - Specificity: 0.9975 - Precision: 0.9977 - f1_score: 0.9978\n"
     ]
    },
    {
     "data": {
      "text/html": [
       "<div>\n",
       "<style scoped>\n",
       "    .dataframe tbody tr th:only-of-type {\n",
       "        vertical-align: middle;\n",
       "    }\n",
       "\n",
       "    .dataframe tbody tr th {\n",
       "        vertical-align: top;\n",
       "    }\n",
       "\n",
       "    .dataframe thead th {\n",
       "        text-align: right;\n",
       "    }\n",
       "</style>\n",
       "<table border=\"1\" class=\"dataframe\">\n",
       "  <thead>\n",
       "    <tr style=\"text-align: right;\">\n",
       "      <th></th>\n",
       "      <th>Measure</th>\n",
       "      <th>Original Dataset</th>\n",
       "    </tr>\n",
       "  </thead>\n",
       "  <tbody>\n",
       "    <tr>\n",
       "      <th>0</th>\n",
       "      <td>Accuracy</td>\n",
       "      <td>0.9978</td>\n",
       "    </tr>\n",
       "    <tr>\n",
       "      <th>1</th>\n",
       "      <td>Sensitivity</td>\n",
       "      <td>0.9980</td>\n",
       "    </tr>\n",
       "    <tr>\n",
       "      <th>2</th>\n",
       "      <td>Specificty</td>\n",
       "      <td>0.9975</td>\n",
       "    </tr>\n",
       "    <tr>\n",
       "      <th>3</th>\n",
       "      <td>Precision</td>\n",
       "      <td>0.9977</td>\n",
       "    </tr>\n",
       "    <tr>\n",
       "      <th>4</th>\n",
       "      <td>F1 score</td>\n",
       "      <td>0.9978</td>\n",
       "    </tr>\n",
       "  </tbody>\n",
       "</table>\n",
       "</div>"
      ],
      "text/plain": [
       "       Measure  Original Dataset\n",
       "0     Accuracy            0.9978\n",
       "1  Sensitivity            0.9980\n",
       "2   Specificty            0.9975\n",
       "3    Precision            0.9977\n",
       "4     F1 score            0.9978"
      ]
     },
     "execution_count": 41,
     "metadata": {},
     "output_type": "execute_result"
    }
   ],
   "source": [
    "model2.compile(\n",
    "  optimizer='adam',\n",
    "  loss=\"categorical_crossentropy\",\n",
    "  metrics=[\"accuracy\",\n",
    "           tf.keras.metrics.Recall(name=\"Sensitivity\",class_id=0),\n",
    "           tf.keras.metrics.Recall(name=\"Specificity\",class_id=1),\n",
    "           tf.keras.metrics.Precision(name=\"Precision\",class_id=0),\n",
    "          tfa.metrics.F1Score(num_classes=2, average=\"micro\")])\n",
    "\n",
    "mod2=model2.evaluate(test)[1:6]\n",
    "mod2=pd.DataFrame({\"Measure\":['Accuracy','Sensitivity','Specificty','Precision','F1 score'],\n",
    "    \"Original Dataset\":[np.round(float(i), 4) for i in mod2]})\n",
    "mod2"
   ]
  },
  {
   "cell_type": "code",
   "execution_count": 42,
   "id": "25a93332",
   "metadata": {
    "execution": {
     "iopub.execute_input": "2023-01-10T17:09:06.494792Z",
     "iopub.status.busy": "2023-01-10T17:09:06.494255Z",
     "iopub.status.idle": "2023-01-10T17:09:10.560342Z",
     "shell.execute_reply": "2023-01-10T17:09:10.559149Z"
    },
    "papermill": {
     "duration": 4.121656,
     "end_time": "2023-01-10T17:09:10.563396",
     "exception": false,
     "start_time": "2023-01-10T17:09:06.441740",
     "status": "completed"
    },
    "tags": []
   },
   "outputs": [],
   "source": [
    "label_train=np.argmax(labels(train),axis=1)\n",
    "label_test=np.argmax(labels(test),axis=1)\n",
    "label_valid=np.argmax(labels(valid),axis=1)"
   ]
  },
  {
   "cell_type": "code",
   "execution_count": 43,
   "id": "22091069",
   "metadata": {
    "execution": {
     "iopub.execute_input": "2023-01-10T17:09:10.675446Z",
     "iopub.status.busy": "2023-01-10T17:09:10.674066Z",
     "iopub.status.idle": "2023-01-10T17:09:34.660411Z",
     "shell.execute_reply": "2023-01-10T17:09:34.659024Z"
    },
    "papermill": {
     "duration": 24.045192,
     "end_time": "2023-01-10T17:09:34.663286",
     "exception": false,
     "start_time": "2023-01-10T17:09:10.618094",
     "status": "completed"
    },
    "tags": []
   },
   "outputs": [
    {
     "name": "stdout",
     "output_type": "stream",
     "text": [
      "0.9976243504083148\n",
      "0.0023756495916852265\n"
     ]
    }
   ],
   "source": [
    "modelpred=np.argmax(model2.predict(test), axis=1)\n",
    "kmeans_pred=kmea.predict(tests)\n",
    "print(np.mean(kmeans_pred==label_test))\n",
    "print(np.mean(np.mean((1-kmeans_pred)==label_test)))"
   ]
  },
  {
   "cell_type": "code",
   "execution_count": 44,
   "id": "79969586",
   "metadata": {
    "execution": {
     "iopub.execute_input": "2023-01-10T17:09:34.775661Z",
     "iopub.status.busy": "2023-01-10T17:09:34.775184Z",
     "iopub.status.idle": "2023-01-10T17:09:34.784095Z",
     "shell.execute_reply": "2023-01-10T17:09:34.782598Z"
    },
    "papermill": {
     "duration": 0.069327,
     "end_time": "2023-01-10T17:09:34.786829",
     "exception": false,
     "start_time": "2023-01-10T17:09:34.717502",
     "status": "completed"
    },
    "tags": []
   },
   "outputs": [],
   "source": [
    "kmeans_pred1=kmea.predict(tests)\n",
    "if np.mean(kmeans_pred==label_test)>=np.mean((1-kmeans_pred)==label_test):\n",
    "    kmeans_pred=kmeans_pred\n",
    "else:\n",
    "    kmeans_pred=(1-kmeans_pred)"
   ]
  },
  {
   "cell_type": "code",
   "execution_count": 45,
   "id": "dc467b0e",
   "metadata": {
    "execution": {
     "iopub.execute_input": "2023-01-10T17:09:34.892896Z",
     "iopub.status.busy": "2023-01-10T17:09:34.892399Z",
     "iopub.status.idle": "2023-01-10T17:09:34.898150Z",
     "shell.execute_reply": "2023-01-10T17:09:34.897175Z"
    },
    "papermill": {
     "duration": 0.060634,
     "end_time": "2023-01-10T17:09:34.900582",
     "exception": false,
     "start_time": "2023-01-10T17:09:34.839948",
     "status": "completed"
    },
    "tags": []
   },
   "outputs": [],
   "source": [
    "xt=np.stack((kmeans_pred,modelpred), axis=1)\n",
    "yt=label_test"
   ]
  },
  {
   "cell_type": "code",
   "execution_count": 46,
   "id": "f407d313",
   "metadata": {
    "execution": {
     "iopub.execute_input": "2023-01-10T17:09:35.006043Z",
     "iopub.status.busy": "2023-01-10T17:09:35.005104Z",
     "iopub.status.idle": "2023-01-10T17:09:35.015810Z",
     "shell.execute_reply": "2023-01-10T17:09:35.014433Z"
    },
    "papermill": {
     "duration": 0.06678,
     "end_time": "2023-01-10T17:09:35.018992",
     "exception": false,
     "start_time": "2023-01-10T17:09:34.952212",
     "status": "completed"
    },
    "tags": []
   },
   "outputs": [],
   "source": [
    "nv = GaussianNB() # create a classifier\n",
    "mod=nv.fit(xt,yt) # fitting the data\n",
    "preds = nv.predict(xt)"
   ]
  },
  {
   "cell_type": "code",
   "execution_count": 47,
   "id": "fa6990f2",
   "metadata": {
    "execution": {
     "iopub.execute_input": "2023-01-10T17:09:35.129080Z",
     "iopub.status.busy": "2023-01-10T17:09:35.127692Z",
     "iopub.status.idle": "2023-01-10T17:09:35.159651Z",
     "shell.execute_reply": "2023-01-10T17:09:35.158371Z"
    },
    "papermill": {
     "duration": 0.090007,
     "end_time": "2023-01-10T17:09:35.162309",
     "exception": false,
     "start_time": "2023-01-10T17:09:35.072302",
     "status": "completed"
    },
    "tags": []
   },
   "outputs": [
    {
     "data": {
      "text/html": [
       "<div>\n",
       "<style scoped>\n",
       "    .dataframe tbody tr th:only-of-type {\n",
       "        vertical-align: middle;\n",
       "    }\n",
       "\n",
       "    .dataframe tbody tr th {\n",
       "        vertical-align: top;\n",
       "    }\n",
       "\n",
       "    .dataframe thead th {\n",
       "        text-align: right;\n",
       "    }\n",
       "</style>\n",
       "<table border=\"1\" class=\"dataframe\">\n",
       "  <thead>\n",
       "    <tr style=\"text-align: right;\">\n",
       "      <th></th>\n",
       "      <th>Measure</th>\n",
       "      <th>Original Dataset</th>\n",
       "    </tr>\n",
       "  </thead>\n",
       "  <tbody>\n",
       "    <tr>\n",
       "      <th>0</th>\n",
       "      <td>Accuracy</td>\n",
       "      <td>0.997773</td>\n",
       "    </tr>\n",
       "    <tr>\n",
       "      <th>1</th>\n",
       "      <td>Sensitivity</td>\n",
       "      <td>0.998009</td>\n",
       "    </tr>\n",
       "    <tr>\n",
       "      <th>2</th>\n",
       "      <td>Specitivity</td>\n",
       "      <td>0.997516</td>\n",
       "    </tr>\n",
       "    <tr>\n",
       "      <th>3</th>\n",
       "      <td>Precision</td>\n",
       "      <td>0.997725</td>\n",
       "    </tr>\n",
       "    <tr>\n",
       "      <th>4</th>\n",
       "      <td>F1_score</td>\n",
       "      <td>0.997867</td>\n",
       "    </tr>\n",
       "  </tbody>\n",
       "</table>\n",
       "</div>"
      ],
      "text/plain": [
       "       Measure  Original Dataset\n",
       "0     Accuracy          0.997773\n",
       "1  Sensitivity          0.998009\n",
       "2  Specitivity          0.997516\n",
       "3    Precision          0.997725\n",
       "4     F1_score          0.997867"
      ]
     },
     "execution_count": 47,
     "metadata": {},
     "output_type": "execute_result"
    }
   ],
   "source": [
    "pd.DataFrame({'Measure':['Accuracy','Sensitivity','Specitivity','Precision','F1_score'],\n",
    "             \"Original Dataset\":[metrics.accuracy_score(label_test,preds),\n",
    "                        metrics.recall_score(label_test, preds,pos_label=0),\n",
    "                        metrics.recall_score(label_test, preds,pos_label=1),\n",
    "                        metrics.precision_score(label_test,preds,pos_label=0),\n",
    "                        metrics.f1_score(label_test,preds,pos_label=0)]})"
   ]
  },
  {
   "cell_type": "code",
   "execution_count": 48,
   "id": "90c33900",
   "metadata": {
    "execution": {
     "iopub.execute_input": "2023-01-10T17:09:35.269676Z",
     "iopub.status.busy": "2023-01-10T17:09:35.268820Z",
     "iopub.status.idle": "2023-01-10T17:09:35.273663Z",
     "shell.execute_reply": "2023-01-10T17:09:35.272789Z"
    },
    "papermill": {
     "duration": 0.060383,
     "end_time": "2023-01-10T17:09:35.276670",
     "exception": false,
     "start_time": "2023-01-10T17:09:35.216287",
     "status": "completed"
    },
    "tags": []
   },
   "outputs": [],
   "source": [
    "#Validation"
   ]
  },
  {
   "cell_type": "code",
   "execution_count": 49,
   "id": "cbc94c77",
   "metadata": {
    "execution": {
     "iopub.execute_input": "2023-01-10T17:09:35.383112Z",
     "iopub.status.busy": "2023-01-10T17:09:35.382328Z",
     "iopub.status.idle": "2023-01-10T17:09:47.051577Z",
     "shell.execute_reply": "2023-01-10T17:09:47.050060Z"
    },
    "papermill": {
     "duration": 11.726735,
     "end_time": "2023-01-10T17:09:47.054676",
     "exception": false,
     "start_time": "2023-01-10T17:09:35.327941",
     "status": "completed"
    },
    "tags": []
   },
   "outputs": [],
   "source": [
    "modelpred=np.argmax(model2.predict(valid), axis=1)\n",
    "valids=feature_miner.predict(valid)\n",
    "kmeans_pred=kmea.predict(valids)\n",
    "\n",
    "if np.mean(kmeans_pred1==label_test)>=np.mean((1-kmeans_pred1)==label_test):\n",
    "    kmeans_pred=kmeans_pred\n",
    "else:\n",
    "    kmeans_pred=(1-kmeans_pred)"
   ]
  },
  {
   "cell_type": "code",
   "execution_count": 50,
   "id": "45ce3b01",
   "metadata": {
    "execution": {
     "iopub.execute_input": "2023-01-10T17:09:47.161249Z",
     "iopub.status.busy": "2023-01-10T17:09:47.160338Z",
     "iopub.status.idle": "2023-01-10T17:09:47.165509Z",
     "shell.execute_reply": "2023-01-10T17:09:47.164591Z"
    },
    "papermill": {
     "duration": 0.059794,
     "end_time": "2023-01-10T17:09:47.167959",
     "exception": false,
     "start_time": "2023-01-10T17:09:47.108165",
     "status": "completed"
    },
    "tags": []
   },
   "outputs": [],
   "source": [
    "xt=np.stack((kmeans_pred,modelpred), axis=1)\n",
    "yt=label_valid"
   ]
  },
  {
   "cell_type": "code",
   "execution_count": 51,
   "id": "835bb0fd",
   "metadata": {
    "execution": {
     "iopub.execute_input": "2023-01-10T17:09:47.282382Z",
     "iopub.status.busy": "2023-01-10T17:09:47.281489Z",
     "iopub.status.idle": "2023-01-10T17:09:47.305799Z",
     "shell.execute_reply": "2023-01-10T17:09:47.304524Z"
    },
    "papermill": {
     "duration": 0.085235,
     "end_time": "2023-01-10T17:09:47.308539",
     "exception": false,
     "start_time": "2023-01-10T17:09:47.223304",
     "status": "completed"
    },
    "tags": []
   },
   "outputs": [
    {
     "data": {
      "text/html": [
       "<div>\n",
       "<style scoped>\n",
       "    .dataframe tbody tr th:only-of-type {\n",
       "        vertical-align: middle;\n",
       "    }\n",
       "\n",
       "    .dataframe tbody tr th {\n",
       "        vertical-align: top;\n",
       "    }\n",
       "\n",
       "    .dataframe thead th {\n",
       "        text-align: right;\n",
       "    }\n",
       "</style>\n",
       "<table border=\"1\" class=\"dataframe\">\n",
       "  <thead>\n",
       "    <tr style=\"text-align: right;\">\n",
       "      <th></th>\n",
       "      <th>Measure</th>\n",
       "      <th>Original Dataset</th>\n",
       "    </tr>\n",
       "  </thead>\n",
       "  <tbody>\n",
       "    <tr>\n",
       "      <th>0</th>\n",
       "      <td>Accuracy</td>\n",
       "      <td>0.998664</td>\n",
       "    </tr>\n",
       "    <tr>\n",
       "      <th>1</th>\n",
       "      <td>Sensitivity</td>\n",
       "      <td>1.000000</td>\n",
       "    </tr>\n",
       "    <tr>\n",
       "      <th>2</th>\n",
       "      <td>Specitivity</td>\n",
       "      <td>0.997260</td>\n",
       "    </tr>\n",
       "    <tr>\n",
       "      <th>3</th>\n",
       "      <td>Precision</td>\n",
       "      <td>0.997398</td>\n",
       "    </tr>\n",
       "    <tr>\n",
       "      <th>4</th>\n",
       "      <td>F1_score</td>\n",
       "      <td>0.998697</td>\n",
       "    </tr>\n",
       "  </tbody>\n",
       "</table>\n",
       "</div>"
      ],
      "text/plain": [
       "       Measure  Original Dataset\n",
       "0     Accuracy          0.998664\n",
       "1  Sensitivity          1.000000\n",
       "2  Specitivity          0.997260\n",
       "3    Precision          0.997398\n",
       "4     F1_score          0.998697"
      ]
     },
     "execution_count": 51,
     "metadata": {},
     "output_type": "execute_result"
    }
   ],
   "source": [
    "preds = nv.predict(xt)\n",
    "pd.DataFrame({'Measure':['Accuracy','Sensitivity','Specitivity','Precision','F1_score'],\n",
    "             \"Original Dataset\":[metrics.accuracy_score(label_valid,preds),\n",
    "                        metrics.recall_score(label_valid, preds,pos_label=0),\n",
    "                        metrics.recall_score(label_valid, preds,pos_label=1),\n",
    "                        metrics.precision_score(label_valid,preds,pos_label=0),\n",
    "                        metrics.f1_score(label_valid,preds,pos_label=0)]})\n"
   ]
  },
  {
   "cell_type": "code",
   "execution_count": 52,
   "id": "b3dc2695",
   "metadata": {
    "execution": {
     "iopub.execute_input": "2023-01-10T17:09:47.416494Z",
     "iopub.status.busy": "2023-01-10T17:09:47.415506Z",
     "iopub.status.idle": "2023-01-10T17:09:47.420895Z",
     "shell.execute_reply": "2023-01-10T17:09:47.420045Z"
    },
    "papermill": {
     "duration": 0.062009,
     "end_time": "2023-01-10T17:09:47.423361",
     "exception": false,
     "start_time": "2023-01-10T17:09:47.361352",
     "status": "completed"
    },
    "tags": []
   },
   "outputs": [],
   "source": [
    "# trying on other models"
   ]
  },
  {
   "cell_type": "code",
   "execution_count": null,
   "id": "5d756027",
   "metadata": {
    "papermill": {
     "duration": 0.053569,
     "end_time": "2023-01-10T17:09:47.528599",
     "exception": false,
     "start_time": "2023-01-10T17:09:47.475030",
     "status": "completed"
    },
    "tags": []
   },
   "outputs": [],
   "source": []
  },
  {
   "cell_type": "markdown",
   "id": "be9fa7fa",
   "metadata": {
    "papermill": {
     "duration": 0.050844,
     "end_time": "2023-01-10T17:09:47.631799",
     "exception": false,
     "start_time": "2023-01-10T17:09:47.580955",
     "status": "completed"
    },
    "tags": []
   },
   "source": [
    "# Model 3"
   ]
  },
  {
   "cell_type": "code",
   "execution_count": 53,
   "id": "4c977701",
   "metadata": {
    "execution": {
     "iopub.execute_input": "2023-01-10T17:09:47.736348Z",
     "iopub.status.busy": "2023-01-10T17:09:47.735827Z",
     "iopub.status.idle": "2023-01-10T17:10:01.722654Z",
     "shell.execute_reply": "2023-01-10T17:10:01.721035Z"
    },
    "papermill": {
     "duration": 14.043108,
     "end_time": "2023-01-10T17:10:01.725989",
     "exception": false,
     "start_time": "2023-01-10T17:09:47.682881",
     "status": "completed"
    },
    "tags": []
   },
   "outputs": [],
   "source": [
    "with open(\"/kaggle/input/benchmarkmodelsfake3/kmea3.pkl\",\"rb\") as file:\n",
    "    kmea=pickle.load(file)\n",
    "    \n",
    "with open(\"/kaggle/input/benchmarkmodelsfake3/predictors3.pkl\",\"rb\") as file:\n",
    "    predictors=pickle.load(file)\n",
    "    \n",
    "with open(\"/kaggle/input/benchmarkmodelsfake3/tests3.pkl\",\"rb\") as file:\n",
    "    tests=pickle.load(file)\n",
    "    \n",
    "test=tf.data.experimental.load(\"/kaggle/input/benchmarkmodelsfake3/liartest\")\n",
    "train=tf.data.experimental.load(\"/kaggle/input/benchmarkmodelsfake3/liartrain\")\n",
    "valid=tf.data.experimental.load(\"/kaggle/input/benchmarkmodelsfake3/liarvalid\")\n",
    "model3 = keras.models.load_model('/kaggle/input/benchmarkmodelsfake3/model3')\n",
    "\n",
    "train3=train\n",
    "test3=test\n",
    "valid3=valid"
   ]
  },
  {
   "cell_type": "code",
   "execution_count": 54,
   "id": "43090de3",
   "metadata": {
    "execution": {
     "iopub.execute_input": "2023-01-10T17:10:01.833504Z",
     "iopub.status.busy": "2023-01-10T17:10:01.830277Z",
     "iopub.status.idle": "2023-01-10T17:10:02.428429Z",
     "shell.execute_reply": "2023-01-10T17:10:02.426962Z"
    },
    "papermill": {
     "duration": 0.6541,
     "end_time": "2023-01-10T17:10:02.431576",
     "exception": false,
     "start_time": "2023-01-10T17:10:01.777476",
     "status": "completed"
    },
    "tags": []
   },
   "outputs": [],
   "source": [
    "# some parameters to be used\n",
    "# some of this were relevantduring code creation\n",
    "batch_size=64  #  Batch sizes to use\n",
    "epoch =200       # number of training ephochs\n",
    "sequence_length = 250   # here we can set arguments for text vectorization      \n",
    "max_tokens=20000\n",
    "\n",
    "vectorize_layer = layers.TextVectorization(\n",
    "    max_tokens=max_tokens,\n",
    "    pad_to_max_tokens=True,\n",
    "    output_mode='int')\n",
    "\n",
    "train_article = train.map(lambda x, y: x)\n",
    "vectorize_layer.adapt(train_article)\n",
    "\n",
    "\n",
    "def vectorize_articles(text, label):\n",
    "    text = tf.expand_dims(text, -1)\n",
    "    return vectorize_layer(text), label\n",
    "\n",
    "AUTOTUNE = tf.data.AUTOTUNE \n",
    "train = train.map(vectorize_articles).cache().prefetch(buffer_size=AUTOTUNE)  # set catching and prefetching on training data\n",
    "valid = valid.map(vectorize_articles).cache().prefetch(buffer_size=AUTOTUNE)  #set catching and prefetching on testing data\n",
    "test = test.map(vectorize_articles).cache().prefetch(buffer_size=AUTOTUNE)    #  set catching and prefetching on validation data\n"
   ]
  },
  {
   "cell_type": "code",
   "execution_count": 55,
   "id": "6c9a5273",
   "metadata": {
    "execution": {
     "iopub.execute_input": "2023-01-10T17:10:02.538648Z",
     "iopub.status.busy": "2023-01-10T17:10:02.538129Z",
     "iopub.status.idle": "2023-01-10T17:10:05.434770Z",
     "shell.execute_reply": "2023-01-10T17:10:05.433762Z"
    },
    "papermill": {
     "duration": 2.952943,
     "end_time": "2023-01-10T17:10:05.437399",
     "exception": false,
     "start_time": "2023-01-10T17:10:02.484456",
     "status": "completed"
    },
    "tags": []
   },
   "outputs": [
    {
     "name": "stdout",
     "output_type": "stream",
     "text": [
      "20/20 [==============================] - 3s 13ms/step - loss: 0.5649 - accuracy: 0.7309 - Sensitivity: 0.0000e+00 - Specificity: 1.0000 - Precision: 0.0000e+00 - f1_score: 0.7309\n"
     ]
    },
    {
     "data": {
      "text/html": [
       "<div>\n",
       "<style scoped>\n",
       "    .dataframe tbody tr th:only-of-type {\n",
       "        vertical-align: middle;\n",
       "    }\n",
       "\n",
       "    .dataframe tbody tr th {\n",
       "        vertical-align: top;\n",
       "    }\n",
       "\n",
       "    .dataframe thead th {\n",
       "        text-align: right;\n",
       "    }\n",
       "</style>\n",
       "<table border=\"1\" class=\"dataframe\">\n",
       "  <thead>\n",
       "    <tr style=\"text-align: right;\">\n",
       "      <th></th>\n",
       "      <th>Measure</th>\n",
       "      <th>Original Dataset</th>\n",
       "    </tr>\n",
       "  </thead>\n",
       "  <tbody>\n",
       "    <tr>\n",
       "      <th>0</th>\n",
       "      <td>Accuracy</td>\n",
       "      <td>0.7309</td>\n",
       "    </tr>\n",
       "    <tr>\n",
       "      <th>1</th>\n",
       "      <td>Sensitivity</td>\n",
       "      <td>0.0000</td>\n",
       "    </tr>\n",
       "    <tr>\n",
       "      <th>2</th>\n",
       "      <td>Specificty</td>\n",
       "      <td>1.0000</td>\n",
       "    </tr>\n",
       "    <tr>\n",
       "      <th>3</th>\n",
       "      <td>Precision</td>\n",
       "      <td>0.0000</td>\n",
       "    </tr>\n",
       "    <tr>\n",
       "      <th>4</th>\n",
       "      <td>F1 score</td>\n",
       "      <td>0.7309</td>\n",
       "    </tr>\n",
       "  </tbody>\n",
       "</table>\n",
       "</div>"
      ],
      "text/plain": [
       "       Measure  Original Dataset\n",
       "0     Accuracy            0.7309\n",
       "1  Sensitivity            0.0000\n",
       "2   Specificty            1.0000\n",
       "3    Precision            0.0000\n",
       "4     F1 score            0.7309"
      ]
     },
     "execution_count": 55,
     "metadata": {},
     "output_type": "execute_result"
    }
   ],
   "source": [
    "model3.compile(\n",
    "  optimizer='adam',\n",
    "  loss=\"categorical_crossentropy\",\n",
    "  metrics=[\"accuracy\",\n",
    "           tf.keras.metrics.Recall(name=\"Sensitivity\",class_id=0),\n",
    "           tf.keras.metrics.Recall(name=\"Specificity\",class_id=1),\n",
    "           tf.keras.metrics.Precision(name=\"Precision\",class_id=0),\n",
    "          tfa.metrics.F1Score(num_classes=2, average=\"micro\")])\n",
    "\n",
    "mod3=model3.evaluate(test)[1:6]\n",
    "mod3=pd.DataFrame({\"Measure\":['Accuracy','Sensitivity','Specificty','Precision','F1 score'],\n",
    "    \"Original Dataset\":[np.round(float(i), 4) for i in mod3]})\n",
    "mod3"
   ]
  },
  {
   "cell_type": "code",
   "execution_count": 56,
   "id": "aeb5cecc",
   "metadata": {
    "execution": {
     "iopub.execute_input": "2023-01-10T17:10:05.546141Z",
     "iopub.status.busy": "2023-01-10T17:10:05.545229Z",
     "iopub.status.idle": "2023-01-10T17:10:05.905786Z",
     "shell.execute_reply": "2023-01-10T17:10:05.904340Z"
    },
    "papermill": {
     "duration": 0.417361,
     "end_time": "2023-01-10T17:10:05.909256",
     "exception": false,
     "start_time": "2023-01-10T17:10:05.491895",
     "status": "completed"
    },
    "tags": []
   },
   "outputs": [],
   "source": [
    "label_train=np.argmax(labels(train),axis=1)\n",
    "label_test=np.argmax(labels(test),axis=1)\n",
    "label_valid=np.argmax(labels(valid),axis=1)"
   ]
  },
  {
   "cell_type": "code",
   "execution_count": 57,
   "id": "eefd373d",
   "metadata": {
    "execution": {
     "iopub.execute_input": "2023-01-10T17:10:06.016346Z",
     "iopub.status.busy": "2023-01-10T17:10:06.015827Z",
     "iopub.status.idle": "2023-01-10T17:10:07.205852Z",
     "shell.execute_reply": "2023-01-10T17:10:07.204688Z"
    },
    "papermill": {
     "duration": 1.247956,
     "end_time": "2023-01-10T17:10:07.209302",
     "exception": false,
     "start_time": "2023-01-10T17:10:05.961346",
     "status": "completed"
    },
    "tags": []
   },
   "outputs": [
    {
     "name": "stdout",
     "output_type": "stream",
     "text": [
      "0.5966850828729282\n",
      "0.40331491712707185\n"
     ]
    }
   ],
   "source": [
    "modelpred=np.argmax(model3.predict(test), axis=1)\n",
    "kmeans_pred=kmea.predict(tests)\n",
    "print(np.mean(kmeans_pred==label_test))\n",
    "print(np.mean(np.mean((1-kmeans_pred)==label_test)))"
   ]
  },
  {
   "cell_type": "code",
   "execution_count": 58,
   "id": "aaeab1a1",
   "metadata": {
    "execution": {
     "iopub.execute_input": "2023-01-10T17:10:07.321117Z",
     "iopub.status.busy": "2023-01-10T17:10:07.320299Z",
     "iopub.status.idle": "2023-01-10T17:10:07.328299Z",
     "shell.execute_reply": "2023-01-10T17:10:07.327082Z"
    },
    "papermill": {
     "duration": 0.068709,
     "end_time": "2023-01-10T17:10:07.331072",
     "exception": false,
     "start_time": "2023-01-10T17:10:07.262363",
     "status": "completed"
    },
    "tags": []
   },
   "outputs": [],
   "source": [
    "kmeans_pred1=kmea.predict(tests)\n",
    "if np.mean(kmeans_pred==label_test)>=np.mean((1-kmeans_pred)==label_test):\n",
    "    kmeans_pred=kmeans_pred\n",
    "else:\n",
    "    kmeans_pred=(1-kmeans_pred)"
   ]
  },
  {
   "cell_type": "code",
   "execution_count": 59,
   "id": "f879fd61",
   "metadata": {
    "execution": {
     "iopub.execute_input": "2023-01-10T17:10:07.441835Z",
     "iopub.status.busy": "2023-01-10T17:10:07.441112Z",
     "iopub.status.idle": "2023-01-10T17:10:07.460310Z",
     "shell.execute_reply": "2023-01-10T17:10:07.459307Z"
    },
    "papermill": {
     "duration": 0.077595,
     "end_time": "2023-01-10T17:10:07.463019",
     "exception": false,
     "start_time": "2023-01-10T17:10:07.385424",
     "status": "completed"
    },
    "tags": []
   },
   "outputs": [
    {
     "data": {
      "text/html": [
       "<div>\n",
       "<style scoped>\n",
       "    .dataframe tbody tr th:only-of-type {\n",
       "        vertical-align: middle;\n",
       "    }\n",
       "\n",
       "    .dataframe tbody tr th {\n",
       "        vertical-align: top;\n",
       "    }\n",
       "\n",
       "    .dataframe thead th {\n",
       "        text-align: right;\n",
       "    }\n",
       "</style>\n",
       "<table border=\"1\" class=\"dataframe\">\n",
       "  <thead>\n",
       "    <tr style=\"text-align: right;\">\n",
       "      <th></th>\n",
       "      <th>Measure</th>\n",
       "      <th>Original Dataset</th>\n",
       "    </tr>\n",
       "  </thead>\n",
       "  <tbody>\n",
       "    <tr>\n",
       "      <th>0</th>\n",
       "      <td>Accuracy</td>\n",
       "      <td>0.596685</td>\n",
       "    </tr>\n",
       "    <tr>\n",
       "      <th>1</th>\n",
       "      <td>Sensitivity</td>\n",
       "      <td>0.656891</td>\n",
       "    </tr>\n",
       "    <tr>\n",
       "      <th>2</th>\n",
       "      <td>Specitivity</td>\n",
       "      <td>0.574514</td>\n",
       "    </tr>\n",
       "    <tr>\n",
       "      <th>3</th>\n",
       "      <td>Precision</td>\n",
       "      <td>0.362460</td>\n",
       "    </tr>\n",
       "    <tr>\n",
       "      <th>4</th>\n",
       "      <td>F1_score</td>\n",
       "      <td>0.467153</td>\n",
       "    </tr>\n",
       "  </tbody>\n",
       "</table>\n",
       "</div>"
      ],
      "text/plain": [
       "       Measure  Original Dataset\n",
       "0     Accuracy          0.596685\n",
       "1  Sensitivity          0.656891\n",
       "2  Specitivity          0.574514\n",
       "3    Precision          0.362460\n",
       "4     F1_score          0.467153"
      ]
     },
     "execution_count": 59,
     "metadata": {},
     "output_type": "execute_result"
    }
   ],
   "source": [
    "preds=kmeans_pred\n",
    "pd.DataFrame({'Measure':['Accuracy','Sensitivity','Specitivity','Precision','F1_score'],\n",
    "             \"Original Dataset\":[metrics.accuracy_score(label_test,preds),\n",
    "                        metrics.recall_score(label_test, preds,pos_label=0),\n",
    "                        metrics.recall_score(label_test, preds,pos_label=1),\n",
    "                        metrics.precision_score(label_test,preds,pos_label=0),\n",
    "                        metrics.f1_score(label_test,preds,pos_label=0)]})"
   ]
  },
  {
   "cell_type": "code",
   "execution_count": 60,
   "id": "4327cf08",
   "metadata": {
    "execution": {
     "iopub.execute_input": "2023-01-10T17:10:07.569515Z",
     "iopub.status.busy": "2023-01-10T17:10:07.569012Z",
     "iopub.status.idle": "2023-01-10T17:10:07.574797Z",
     "shell.execute_reply": "2023-01-10T17:10:07.573839Z"
    },
    "papermill": {
     "duration": 0.061933,
     "end_time": "2023-01-10T17:10:07.577567",
     "exception": false,
     "start_time": "2023-01-10T17:10:07.515634",
     "status": "completed"
    },
    "tags": []
   },
   "outputs": [],
   "source": [
    "xt=np.stack((kmeans_pred,modelpred), axis=1)\n",
    "yt=label_test"
   ]
  },
  {
   "cell_type": "code",
   "execution_count": 61,
   "id": "72dcf890",
   "metadata": {
    "execution": {
     "iopub.execute_input": "2023-01-10T17:10:07.683859Z",
     "iopub.status.busy": "2023-01-10T17:10:07.683340Z",
     "iopub.status.idle": "2023-01-10T17:10:07.692518Z",
     "shell.execute_reply": "2023-01-10T17:10:07.691125Z"
    },
    "papermill": {
     "duration": 0.065013,
     "end_time": "2023-01-10T17:10:07.695534",
     "exception": false,
     "start_time": "2023-01-10T17:10:07.630521",
     "status": "completed"
    },
    "tags": []
   },
   "outputs": [],
   "source": [
    "nv = GaussianNB() # create a classifier\n",
    "mod=nv.fit(xt,yt) # fitting the data\n",
    "preds = nv.predict(xt)"
   ]
  },
  {
   "cell_type": "code",
   "execution_count": 62,
   "id": "53ca7039",
   "metadata": {
    "execution": {
     "iopub.execute_input": "2023-01-10T17:10:07.804160Z",
     "iopub.status.busy": "2023-01-10T17:10:07.803436Z",
     "iopub.status.idle": "2023-01-10T17:10:07.827744Z",
     "shell.execute_reply": "2023-01-10T17:10:07.826292Z"
    },
    "papermill": {
     "duration": 0.082367,
     "end_time": "2023-01-10T17:10:07.830665",
     "exception": false,
     "start_time": "2023-01-10T17:10:07.748298",
     "status": "completed"
    },
    "tags": []
   },
   "outputs": [
    {
     "name": "stderr",
     "output_type": "stream",
     "text": [
      "/opt/conda/lib/python3.7/site-packages/sklearn/metrics/_classification.py:1318: UndefinedMetricWarning: Precision is ill-defined and being set to 0.0 due to no predicted samples. Use `zero_division` parameter to control this behavior.\n",
      "  _warn_prf(average, modifier, msg_start, len(result))\n"
     ]
    },
    {
     "data": {
      "text/html": [
       "<div>\n",
       "<style scoped>\n",
       "    .dataframe tbody tr th:only-of-type {\n",
       "        vertical-align: middle;\n",
       "    }\n",
       "\n",
       "    .dataframe tbody tr th {\n",
       "        vertical-align: top;\n",
       "    }\n",
       "\n",
       "    .dataframe thead th {\n",
       "        text-align: right;\n",
       "    }\n",
       "</style>\n",
       "<table border=\"1\" class=\"dataframe\">\n",
       "  <thead>\n",
       "    <tr style=\"text-align: right;\">\n",
       "      <th></th>\n",
       "      <th>Measure</th>\n",
       "      <th>Original Dataset</th>\n",
       "    </tr>\n",
       "  </thead>\n",
       "  <tbody>\n",
       "    <tr>\n",
       "      <th>0</th>\n",
       "      <td>Accuracy</td>\n",
       "      <td>0.73086</td>\n",
       "    </tr>\n",
       "    <tr>\n",
       "      <th>1</th>\n",
       "      <td>Sensitivity</td>\n",
       "      <td>0.00000</td>\n",
       "    </tr>\n",
       "    <tr>\n",
       "      <th>2</th>\n",
       "      <td>Specitivity</td>\n",
       "      <td>1.00000</td>\n",
       "    </tr>\n",
       "    <tr>\n",
       "      <th>3</th>\n",
       "      <td>Precision</td>\n",
       "      <td>0.00000</td>\n",
       "    </tr>\n",
       "    <tr>\n",
       "      <th>4</th>\n",
       "      <td>F1_score</td>\n",
       "      <td>0.00000</td>\n",
       "    </tr>\n",
       "  </tbody>\n",
       "</table>\n",
       "</div>"
      ],
      "text/plain": [
       "       Measure  Original Dataset\n",
       "0     Accuracy           0.73086\n",
       "1  Sensitivity           0.00000\n",
       "2  Specitivity           1.00000\n",
       "3    Precision           0.00000\n",
       "4     F1_score           0.00000"
      ]
     },
     "execution_count": 62,
     "metadata": {},
     "output_type": "execute_result"
    }
   ],
   "source": [
    "pd.DataFrame({'Measure':['Accuracy','Sensitivity','Specitivity','Precision','F1_score'],\n",
    "             \"Original Dataset\":[metrics.accuracy_score(label_test,preds),\n",
    "                        metrics.recall_score(label_test, preds,pos_label=0),\n",
    "                        metrics.recall_score(label_test, preds,pos_label=1),\n",
    "                        metrics.precision_score(label_test,preds,pos_label=0),\n",
    "                        metrics.f1_score(label_test,preds,pos_label=0)]})"
   ]
  },
  {
   "cell_type": "code",
   "execution_count": 63,
   "id": "aac5ad0b",
   "metadata": {
    "execution": {
     "iopub.execute_input": "2023-01-10T17:10:07.937848Z",
     "iopub.status.busy": "2023-01-10T17:10:07.937143Z",
     "iopub.status.idle": "2023-01-10T17:10:07.941742Z",
     "shell.execute_reply": "2023-01-10T17:10:07.940765Z"
    },
    "papermill": {
     "duration": 0.061784,
     "end_time": "2023-01-10T17:10:07.944584",
     "exception": false,
     "start_time": "2023-01-10T17:10:07.882800",
     "status": "completed"
    },
    "tags": []
   },
   "outputs": [],
   "source": [
    "# validation"
   ]
  },
  {
   "cell_type": "code",
   "execution_count": 64,
   "id": "02d8d14f",
   "metadata": {
    "execution": {
     "iopub.execute_input": "2023-01-10T17:10:08.055165Z",
     "iopub.status.busy": "2023-01-10T17:10:08.053996Z",
     "iopub.status.idle": "2023-01-10T17:10:08.447657Z",
     "shell.execute_reply": "2023-01-10T17:10:08.446459Z"
    },
    "papermill": {
     "duration": 0.451428,
     "end_time": "2023-01-10T17:10:08.451016",
     "exception": false,
     "start_time": "2023-01-10T17:10:07.999588",
     "status": "completed"
    },
    "tags": []
   },
   "outputs": [],
   "source": [
    "modelpred=np.argmax(model3.predict(valid), axis=1)\n",
    "valids=feature_miner.predict(valid)\n",
    "kmeans_pred=kmea.predict(valids)\n",
    "\n",
    "if np.mean(kmeans_pred1==label_test)>=np.mean((1-kmeans_pred1)==label_test):\n",
    "    kmeans_pred=kmeans_pred\n",
    "else:\n",
    "    kmeans_pred=(1-kmeans_pred)"
   ]
  },
  {
   "cell_type": "code",
   "execution_count": 65,
   "id": "5f0fc913",
   "metadata": {
    "execution": {
     "iopub.execute_input": "2023-01-10T17:10:08.557652Z",
     "iopub.status.busy": "2023-01-10T17:10:08.557191Z",
     "iopub.status.idle": "2023-01-10T17:10:08.564007Z",
     "shell.execute_reply": "2023-01-10T17:10:08.562582Z"
    },
    "papermill": {
     "duration": 0.06335,
     "end_time": "2023-01-10T17:10:08.566499",
     "exception": false,
     "start_time": "2023-01-10T17:10:08.503149",
     "status": "completed"
    },
    "tags": []
   },
   "outputs": [],
   "source": [
    "xt=np.stack((kmeans_pred,modelpred), axis=1)\n",
    "yt=label_valid"
   ]
  },
  {
   "cell_type": "code",
   "execution_count": 66,
   "id": "208a11ae",
   "metadata": {
    "execution": {
     "iopub.execute_input": "2023-01-10T17:10:08.676898Z",
     "iopub.status.busy": "2023-01-10T17:10:08.676415Z",
     "iopub.status.idle": "2023-01-10T17:10:08.699886Z",
     "shell.execute_reply": "2023-01-10T17:10:08.698327Z"
    },
    "papermill": {
     "duration": 0.081599,
     "end_time": "2023-01-10T17:10:08.702503",
     "exception": false,
     "start_time": "2023-01-10T17:10:08.620904",
     "status": "completed"
    },
    "tags": []
   },
   "outputs": [
    {
     "name": "stderr",
     "output_type": "stream",
     "text": [
      "/opt/conda/lib/python3.7/site-packages/sklearn/metrics/_classification.py:1318: UndefinedMetricWarning: Precision is ill-defined and being set to 0.0 due to no predicted samples. Use `zero_division` parameter to control this behavior.\n",
      "  _warn_prf(average, modifier, msg_start, len(result))\n"
     ]
    },
    {
     "data": {
      "text/html": [
       "<div>\n",
       "<style scoped>\n",
       "    .dataframe tbody tr th:only-of-type {\n",
       "        vertical-align: middle;\n",
       "    }\n",
       "\n",
       "    .dataframe tbody tr th {\n",
       "        vertical-align: top;\n",
       "    }\n",
       "\n",
       "    .dataframe thead th {\n",
       "        text-align: right;\n",
       "    }\n",
       "</style>\n",
       "<table border=\"1\" class=\"dataframe\">\n",
       "  <thead>\n",
       "    <tr style=\"text-align: right;\">\n",
       "      <th></th>\n",
       "      <th>Measure</th>\n",
       "      <th>Original Dataset</th>\n",
       "    </tr>\n",
       "  </thead>\n",
       "  <tbody>\n",
       "    <tr>\n",
       "      <th>0</th>\n",
       "      <td>Accuracy</td>\n",
       "      <td>0.704829</td>\n",
       "    </tr>\n",
       "    <tr>\n",
       "      <th>1</th>\n",
       "      <td>Sensitivity</td>\n",
       "      <td>0.000000</td>\n",
       "    </tr>\n",
       "    <tr>\n",
       "      <th>2</th>\n",
       "      <td>Specitivity</td>\n",
       "      <td>1.000000</td>\n",
       "    </tr>\n",
       "    <tr>\n",
       "      <th>3</th>\n",
       "      <td>Precision</td>\n",
       "      <td>0.000000</td>\n",
       "    </tr>\n",
       "    <tr>\n",
       "      <th>4</th>\n",
       "      <td>F1_score</td>\n",
       "      <td>0.000000</td>\n",
       "    </tr>\n",
       "  </tbody>\n",
       "</table>\n",
       "</div>"
      ],
      "text/plain": [
       "       Measure  Original Dataset\n",
       "0     Accuracy          0.704829\n",
       "1  Sensitivity          0.000000\n",
       "2  Specitivity          1.000000\n",
       "3    Precision          0.000000\n",
       "4     F1_score          0.000000"
      ]
     },
     "execution_count": 66,
     "metadata": {},
     "output_type": "execute_result"
    }
   ],
   "source": [
    "preds = nv.predict(xt)\n",
    "pd.DataFrame({'Measure':['Accuracy','Sensitivity','Specitivity','Precision','F1_score'],\n",
    "             \"Original Dataset\":[metrics.accuracy_score(label_valid,preds),\n",
    "                        metrics.recall_score(label_valid, preds,pos_label=0),\n",
    "                        metrics.recall_score(label_valid, preds,pos_label=1),\n",
    "                        metrics.precision_score(label_valid,preds,pos_label=0),\n",
    "                        metrics.f1_score(label_valid,preds,pos_label=0)]})\n"
   ]
  },
  {
   "cell_type": "markdown",
   "id": "49f4f500",
   "metadata": {
    "papermill": {
     "duration": 0.052153,
     "end_time": "2023-01-10T17:10:08.807109",
     "exception": false,
     "start_time": "2023-01-10T17:10:08.754956",
     "status": "completed"
    },
    "tags": []
   },
   "source": [
    "# model 4"
   ]
  },
  {
   "cell_type": "code",
   "execution_count": 67,
   "id": "3470b79e",
   "metadata": {
    "execution": {
     "iopub.execute_input": "2023-01-10T17:10:08.913794Z",
     "iopub.status.busy": "2023-01-10T17:10:08.913291Z",
     "iopub.status.idle": "2023-01-10T17:10:24.359782Z",
     "shell.execute_reply": "2023-01-10T17:10:24.358474Z"
    },
    "papermill": {
     "duration": 15.503689,
     "end_time": "2023-01-10T17:10:24.363002",
     "exception": false,
     "start_time": "2023-01-10T17:10:08.859313",
     "status": "completed"
    },
    "tags": []
   },
   "outputs": [],
   "source": [
    "with open(\"/kaggle/input/tweets/kmea4.pkl\",\"rb\") as file:\n",
    "    kmea=pickle.load(file)\n",
    "    \n",
    "with open(\"/kaggle/input/tweets/predictors4.pkl\",\"rb\") as file:\n",
    "    predictors=pickle.load(file)\n",
    "    \n",
    "with open(\"/kaggle/input/tweets/tests4.pkl\",\"rb\") as file:\n",
    "    tests=pickle.load(file)\n",
    "    \n",
    "test=tf.data.experimental.load(\"/kaggle/input/tweets1/tweetstest\")\n",
    "train=tf.data.experimental.load(\"/kaggle/input/tweets1/tweetstrain\")\n",
    "valid=tf.data.experimental.load(\"/kaggle/input/tweets1/tweetsvalid\")\n",
    "model4 = keras.models.load_model('/kaggle/input/tweets/model4')\n",
    "train4=train\n",
    "test4=test\n",
    "valid4=valid"
   ]
  },
  {
   "cell_type": "code",
   "execution_count": 68,
   "id": "405f8393",
   "metadata": {
    "execution": {
     "iopub.execute_input": "2023-01-10T17:10:24.468639Z",
     "iopub.status.busy": "2023-01-10T17:10:24.468145Z",
     "iopub.status.idle": "2023-01-10T17:10:26.385388Z",
     "shell.execute_reply": "2023-01-10T17:10:26.383747Z"
    },
    "papermill": {
     "duration": 1.973832,
     "end_time": "2023-01-10T17:10:26.388610",
     "exception": false,
     "start_time": "2023-01-10T17:10:24.414778",
     "status": "completed"
    },
    "tags": []
   },
   "outputs": [],
   "source": [
    "# some parameters to be used\n",
    "# some of this were relevantduring code creation\n",
    "batch_size=64  #  Batch sizes to use\n",
    "epoch =200       # number of training ephochs\n",
    "sequence_length = 250   # here we can set arguments for text vectorization      \n",
    "max_tokens=20000\n",
    "\n",
    "vectorize_layer = layers.TextVectorization(\n",
    "    max_tokens=max_tokens,\n",
    "    pad_to_max_tokens=True,\n",
    "    output_mode='int')\n",
    "\n",
    "train_article = train.map(lambda x, y: x)\n",
    "vectorize_layer.adapt(train_article)\n",
    "\n",
    "\n",
    "def vectorize_articles(text, label):\n",
    "    text = tf.expand_dims(text, -1)\n",
    "    return vectorize_layer(text), label\n",
    "\n",
    "AUTOTUNE = tf.data.AUTOTUNE \n",
    "train = train.map(vectorize_articles).cache().prefetch(buffer_size=AUTOTUNE)  # set catching and prefetching on training data\n",
    "valid = valid.map(vectorize_articles).cache().prefetch(buffer_size=AUTOTUNE)  #set catching and prefetching on testing data\n",
    "test = test.map(vectorize_articles).cache().prefetch(buffer_size=AUTOTUNE)    #  set catching and prefetching on validation data\n"
   ]
  },
  {
   "cell_type": "code",
   "execution_count": 69,
   "id": "5ccd3a74",
   "metadata": {
    "execution": {
     "iopub.execute_input": "2023-01-10T17:10:26.498388Z",
     "iopub.status.busy": "2023-01-10T17:10:26.496709Z",
     "iopub.status.idle": "2023-01-10T17:10:29.707042Z",
     "shell.execute_reply": "2023-01-10T17:10:29.705382Z"
    },
    "papermill": {
     "duration": 3.267325,
     "end_time": "2023-01-10T17:10:29.710095",
     "exception": false,
     "start_time": "2023-01-10T17:10:26.442770",
     "status": "completed"
    },
    "tags": []
   },
   "outputs": [
    {
     "name": "stdout",
     "output_type": "stream",
     "text": [
      "40/40 [==============================] - 3s 13ms/step - loss: 0.4094 - accuracy: 0.8173 - Sensitivity: 0.8194 - Specificity: 0.8151 - Precision: 0.8244 - f1_score: 0.8173\n"
     ]
    },
    {
     "data": {
      "text/html": [
       "<div>\n",
       "<style scoped>\n",
       "    .dataframe tbody tr th:only-of-type {\n",
       "        vertical-align: middle;\n",
       "    }\n",
       "\n",
       "    .dataframe tbody tr th {\n",
       "        vertical-align: top;\n",
       "    }\n",
       "\n",
       "    .dataframe thead th {\n",
       "        text-align: right;\n",
       "    }\n",
       "</style>\n",
       "<table border=\"1\" class=\"dataframe\">\n",
       "  <thead>\n",
       "    <tr style=\"text-align: right;\">\n",
       "      <th></th>\n",
       "      <th>Measure</th>\n",
       "      <th>Original Dataset</th>\n",
       "    </tr>\n",
       "  </thead>\n",
       "  <tbody>\n",
       "    <tr>\n",
       "      <th>0</th>\n",
       "      <td>Accuracy</td>\n",
       "      <td>0.8173</td>\n",
       "    </tr>\n",
       "    <tr>\n",
       "      <th>1</th>\n",
       "      <td>Sensitivity</td>\n",
       "      <td>0.8194</td>\n",
       "    </tr>\n",
       "    <tr>\n",
       "      <th>2</th>\n",
       "      <td>Specificty</td>\n",
       "      <td>0.8151</td>\n",
       "    </tr>\n",
       "    <tr>\n",
       "      <th>3</th>\n",
       "      <td>Precision</td>\n",
       "      <td>0.8244</td>\n",
       "    </tr>\n",
       "    <tr>\n",
       "      <th>4</th>\n",
       "      <td>F1 score</td>\n",
       "      <td>0.8173</td>\n",
       "    </tr>\n",
       "  </tbody>\n",
       "</table>\n",
       "</div>"
      ],
      "text/plain": [
       "       Measure  Original Dataset\n",
       "0     Accuracy            0.8173\n",
       "1  Sensitivity            0.8194\n",
       "2   Specificty            0.8151\n",
       "3    Precision            0.8244\n",
       "4     F1 score            0.8173"
      ]
     },
     "execution_count": 69,
     "metadata": {},
     "output_type": "execute_result"
    }
   ],
   "source": [
    "model4.compile(\n",
    "  optimizer='adam',\n",
    "  loss=\"categorical_crossentropy\",\n",
    "  metrics=[\"accuracy\",\n",
    "           tf.keras.metrics.Recall(name=\"Sensitivity\",class_id=0),\n",
    "           tf.keras.metrics.Recall(name=\"Specificity\",class_id=1),\n",
    "           tf.keras.metrics.Precision(name=\"Precision\",class_id=0),\n",
    "          tfa.metrics.F1Score(num_classes=2, average=\"micro\")])\n",
    "mod4=model4.evaluate(test)[1:6]\n",
    "mod4=pd.DataFrame({\"Measure\":['Accuracy','Sensitivity','Specificty','Precision','F1 score'],\n",
    "    \"Original Dataset\":[np.round(float(i), 4) for i in mod4]})\n",
    "mod4"
   ]
  },
  {
   "cell_type": "code",
   "execution_count": 70,
   "id": "e35c4050",
   "metadata": {
    "execution": {
     "iopub.execute_input": "2023-01-10T17:10:29.820666Z",
     "iopub.status.busy": "2023-01-10T17:10:29.819762Z",
     "iopub.status.idle": "2023-01-10T17:10:30.583989Z",
     "shell.execute_reply": "2023-01-10T17:10:30.582220Z"
    },
    "papermill": {
     "duration": 0.823759,
     "end_time": "2023-01-10T17:10:30.587285",
     "exception": false,
     "start_time": "2023-01-10T17:10:29.763526",
     "status": "completed"
    },
    "tags": []
   },
   "outputs": [],
   "source": [
    "label_train=np.argmax(labels(train),axis=1)\n",
    "label_test=np.argmax(labels(test),axis=1)\n",
    "label_valid=np.argmax(labels(valid),axis=1)"
   ]
  },
  {
   "cell_type": "code",
   "execution_count": 71,
   "id": "90699e36",
   "metadata": {
    "execution": {
     "iopub.execute_input": "2023-01-10T17:10:30.698754Z",
     "iopub.status.busy": "2023-01-10T17:10:30.698284Z",
     "iopub.status.idle": "2023-01-10T17:10:32.117574Z",
     "shell.execute_reply": "2023-01-10T17:10:32.115074Z"
    },
    "papermill": {
     "duration": 1.478201,
     "end_time": "2023-01-10T17:10:32.121287",
     "exception": false,
     "start_time": "2023-01-10T17:10:30.643086",
     "status": "completed"
    },
    "tags": []
   },
   "outputs": [
    {
     "name": "stdout",
     "output_type": "stream",
     "text": [
      "0.19770660340055357\n",
      "0.8022933965994464\n"
     ]
    }
   ],
   "source": [
    "modelpred=np.argmax(model4.predict(test), axis=1)\n",
    "kmeans_pred=kmea.predict(tests)\n",
    "print(np.mean(kmeans_pred==label_test))\n",
    "print(np.mean(np.mean((1-kmeans_pred)==label_test)))"
   ]
  },
  {
   "cell_type": "code",
   "execution_count": 72,
   "id": "26088fde",
   "metadata": {
    "execution": {
     "iopub.execute_input": "2023-01-10T17:10:32.237249Z",
     "iopub.status.busy": "2023-01-10T17:10:32.236707Z",
     "iopub.status.idle": "2023-01-10T17:10:32.245248Z",
     "shell.execute_reply": "2023-01-10T17:10:32.244119Z"
    },
    "papermill": {
     "duration": 0.071067,
     "end_time": "2023-01-10T17:10:32.248318",
     "exception": false,
     "start_time": "2023-01-10T17:10:32.177251",
     "status": "completed"
    },
    "tags": []
   },
   "outputs": [],
   "source": [
    "kmeans_pred1=kmea.predict(tests)\n",
    "if np.mean(kmeans_pred==label_test)>=np.mean((1-kmeans_pred)==label_test):\n",
    "    kmeans_pred=kmeans_pred\n",
    "else:\n",
    "    kmeans_pred=(1-kmeans_pred)"
   ]
  },
  {
   "cell_type": "code",
   "execution_count": 73,
   "id": "5cf07d92",
   "metadata": {
    "execution": {
     "iopub.execute_input": "2023-01-10T17:10:32.362853Z",
     "iopub.status.busy": "2023-01-10T17:10:32.362116Z",
     "iopub.status.idle": "2023-01-10T17:10:32.387040Z",
     "shell.execute_reply": "2023-01-10T17:10:32.385697Z"
    },
    "papermill": {
     "duration": 0.086674,
     "end_time": "2023-01-10T17:10:32.389715",
     "exception": false,
     "start_time": "2023-01-10T17:10:32.303041",
     "status": "completed"
    },
    "tags": []
   },
   "outputs": [
    {
     "data": {
      "text/html": [
       "<div>\n",
       "<style scoped>\n",
       "    .dataframe tbody tr th:only-of-type {\n",
       "        vertical-align: middle;\n",
       "    }\n",
       "\n",
       "    .dataframe tbody tr th {\n",
       "        vertical-align: top;\n",
       "    }\n",
       "\n",
       "    .dataframe thead th {\n",
       "        text-align: right;\n",
       "    }\n",
       "</style>\n",
       "<table border=\"1\" class=\"dataframe\">\n",
       "  <thead>\n",
       "    <tr style=\"text-align: right;\">\n",
       "      <th></th>\n",
       "      <th>Measure</th>\n",
       "      <th>Original Dataset</th>\n",
       "    </tr>\n",
       "  </thead>\n",
       "  <tbody>\n",
       "    <tr>\n",
       "      <th>0</th>\n",
       "      <td>Accuracy</td>\n",
       "      <td>0.802293</td>\n",
       "    </tr>\n",
       "    <tr>\n",
       "      <th>1</th>\n",
       "      <td>Sensitivity</td>\n",
       "      <td>0.887010</td>\n",
       "    </tr>\n",
       "    <tr>\n",
       "      <th>2</th>\n",
       "      <td>Specitivity</td>\n",
       "      <td>0.712541</td>\n",
       "    </tr>\n",
       "    <tr>\n",
       "      <th>3</th>\n",
       "      <td>Precision</td>\n",
       "      <td>0.765760</td>\n",
       "    </tr>\n",
       "    <tr>\n",
       "      <th>4</th>\n",
       "      <td>F1_score</td>\n",
       "      <td>0.821937</td>\n",
       "    </tr>\n",
       "  </tbody>\n",
       "</table>\n",
       "</div>"
      ],
      "text/plain": [
       "       Measure  Original Dataset\n",
       "0     Accuracy          0.802293\n",
       "1  Sensitivity          0.887010\n",
       "2  Specitivity          0.712541\n",
       "3    Precision          0.765760\n",
       "4     F1_score          0.821937"
      ]
     },
     "execution_count": 73,
     "metadata": {},
     "output_type": "execute_result"
    }
   ],
   "source": [
    "preds=kmeans_pred\n",
    "pd.DataFrame({'Measure':['Accuracy','Sensitivity','Specitivity','Precision','F1_score'],\n",
    "             \"Original Dataset\":[metrics.accuracy_score(label_test,preds),\n",
    "                        metrics.recall_score(label_test, preds,pos_label=0),\n",
    "                        metrics.recall_score(label_test, preds,pos_label=1),\n",
    "                        metrics.precision_score(label_test,preds,pos_label=0),\n",
    "                        metrics.f1_score(label_test,preds,pos_label=0)]})"
   ]
  },
  {
   "cell_type": "code",
   "execution_count": 74,
   "id": "9e4e4888",
   "metadata": {
    "execution": {
     "iopub.execute_input": "2023-01-10T17:10:32.502834Z",
     "iopub.status.busy": "2023-01-10T17:10:32.502325Z",
     "iopub.status.idle": "2023-01-10T17:10:32.508382Z",
     "shell.execute_reply": "2023-01-10T17:10:32.507416Z"
    },
    "papermill": {
     "duration": 0.066454,
     "end_time": "2023-01-10T17:10:32.510890",
     "exception": false,
     "start_time": "2023-01-10T17:10:32.444436",
     "status": "completed"
    },
    "tags": []
   },
   "outputs": [],
   "source": [
    "xt=np.stack((kmeans_pred,modelpred), axis=1)\n",
    "yt=label_test"
   ]
  },
  {
   "cell_type": "code",
   "execution_count": 75,
   "id": "38d95be6",
   "metadata": {
    "execution": {
     "iopub.execute_input": "2023-01-10T17:10:32.623280Z",
     "iopub.status.busy": "2023-01-10T17:10:32.621585Z",
     "iopub.status.idle": "2023-01-10T17:10:32.631460Z",
     "shell.execute_reply": "2023-01-10T17:10:32.630022Z"
    },
    "papermill": {
     "duration": 0.070015,
     "end_time": "2023-01-10T17:10:32.634667",
     "exception": false,
     "start_time": "2023-01-10T17:10:32.564652",
     "status": "completed"
    },
    "tags": []
   },
   "outputs": [],
   "source": [
    "nv = GaussianNB() # create a classifier\n",
    "mod=nv.fit(xt,yt) # fitting the data\n",
    "preds = nv.predict(xt)"
   ]
  },
  {
   "cell_type": "code",
   "execution_count": 76,
   "id": "7d189391",
   "metadata": {
    "execution": {
     "iopub.execute_input": "2023-01-10T17:10:32.748416Z",
     "iopub.status.busy": "2023-01-10T17:10:32.747566Z",
     "iopub.status.idle": "2023-01-10T17:10:32.771185Z",
     "shell.execute_reply": "2023-01-10T17:10:32.770249Z"
    },
    "papermill": {
     "duration": 0.081578,
     "end_time": "2023-01-10T17:10:32.773750",
     "exception": false,
     "start_time": "2023-01-10T17:10:32.692172",
     "status": "completed"
    },
    "tags": []
   },
   "outputs": [
    {
     "data": {
      "text/html": [
       "<div>\n",
       "<style scoped>\n",
       "    .dataframe tbody tr th:only-of-type {\n",
       "        vertical-align: middle;\n",
       "    }\n",
       "\n",
       "    .dataframe tbody tr th {\n",
       "        vertical-align: top;\n",
       "    }\n",
       "\n",
       "    .dataframe thead th {\n",
       "        text-align: right;\n",
       "    }\n",
       "</style>\n",
       "<table border=\"1\" class=\"dataframe\">\n",
       "  <thead>\n",
       "    <tr style=\"text-align: right;\">\n",
       "      <th></th>\n",
       "      <th>Measure</th>\n",
       "      <th>Original Dataset</th>\n",
       "    </tr>\n",
       "  </thead>\n",
       "  <tbody>\n",
       "    <tr>\n",
       "      <th>0</th>\n",
       "      <td>Accuracy</td>\n",
       "      <td>0.817319</td>\n",
       "    </tr>\n",
       "    <tr>\n",
       "      <th>1</th>\n",
       "      <td>Sensitivity</td>\n",
       "      <td>0.819370</td>\n",
       "    </tr>\n",
       "    <tr>\n",
       "      <th>2</th>\n",
       "      <td>Specitivity</td>\n",
       "      <td>0.815147</td>\n",
       "    </tr>\n",
       "    <tr>\n",
       "      <th>3</th>\n",
       "      <td>Precision</td>\n",
       "      <td>0.824439</td>\n",
       "    </tr>\n",
       "    <tr>\n",
       "      <th>4</th>\n",
       "      <td>F1_score</td>\n",
       "      <td>0.821897</td>\n",
       "    </tr>\n",
       "  </tbody>\n",
       "</table>\n",
       "</div>"
      ],
      "text/plain": [
       "       Measure  Original Dataset\n",
       "0     Accuracy          0.817319\n",
       "1  Sensitivity          0.819370\n",
       "2  Specitivity          0.815147\n",
       "3    Precision          0.824439\n",
       "4     F1_score          0.821897"
      ]
     },
     "execution_count": 76,
     "metadata": {},
     "output_type": "execute_result"
    }
   ],
   "source": [
    "pd.DataFrame({'Measure':['Accuracy','Sensitivity','Specitivity','Precision','F1_score'],\n",
    "             \"Original Dataset\":[metrics.accuracy_score(label_test,preds),\n",
    "                        metrics.recall_score(label_test, preds,pos_label=0),\n",
    "                        metrics.recall_score(label_test, preds,pos_label=1),\n",
    "                        metrics.precision_score(label_test,preds,pos_label=0),\n",
    "                        metrics.f1_score(label_test,preds,pos_label=0)]})"
   ]
  },
  {
   "cell_type": "code",
   "execution_count": 77,
   "id": "45ec3ab1",
   "metadata": {
    "execution": {
     "iopub.execute_input": "2023-01-10T17:10:32.885153Z",
     "iopub.status.busy": "2023-01-10T17:10:32.884583Z",
     "iopub.status.idle": "2023-01-10T17:10:33.176955Z",
     "shell.execute_reply": "2023-01-10T17:10:33.175800Z"
    },
    "papermill": {
     "duration": 0.351412,
     "end_time": "2023-01-10T17:10:33.179787",
     "exception": false,
     "start_time": "2023-01-10T17:10:32.828375",
     "status": "completed"
    },
    "tags": []
   },
   "outputs": [],
   "source": [
    "modelpred=np.argmax(model4.predict(valid), axis=1)\n",
    "valids=feature_miner.predict(valid)\n",
    "kmeans_pred=kmea.predict(valids)\n",
    "\n",
    "if np.mean(kmeans_pred1==label_test)>=np.mean((1-kmeans_pred1)==label_test):\n",
    "    kmeans_pred=kmeans_pred\n",
    "else:\n",
    "    kmeans_pred=(1-kmeans_pred)"
   ]
  },
  {
   "cell_type": "code",
   "execution_count": 78,
   "id": "acce420e",
   "metadata": {
    "execution": {
     "iopub.execute_input": "2023-01-10T17:10:33.292555Z",
     "iopub.status.busy": "2023-01-10T17:10:33.292055Z",
     "iopub.status.idle": "2023-01-10T17:10:33.298763Z",
     "shell.execute_reply": "2023-01-10T17:10:33.297251Z"
    },
    "papermill": {
     "duration": 0.067187,
     "end_time": "2023-01-10T17:10:33.301617",
     "exception": false,
     "start_time": "2023-01-10T17:10:33.234430",
     "status": "completed"
    },
    "tags": []
   },
   "outputs": [],
   "source": [
    "xt=np.stack((kmeans_pred,modelpred), axis=1)\n",
    "yt=label_valid"
   ]
  },
  {
   "cell_type": "code",
   "execution_count": 79,
   "id": "56c95383",
   "metadata": {
    "execution": {
     "iopub.execute_input": "2023-01-10T17:10:33.413115Z",
     "iopub.status.busy": "2023-01-10T17:10:33.412600Z",
     "iopub.status.idle": "2023-01-10T17:10:33.434977Z",
     "shell.execute_reply": "2023-01-10T17:10:33.433291Z"
    },
    "papermill": {
     "duration": 0.081513,
     "end_time": "2023-01-10T17:10:33.438061",
     "exception": false,
     "start_time": "2023-01-10T17:10:33.356548",
     "status": "completed"
    },
    "tags": []
   },
   "outputs": [
    {
     "data": {
      "text/html": [
       "<div>\n",
       "<style scoped>\n",
       "    .dataframe tbody tr th:only-of-type {\n",
       "        vertical-align: middle;\n",
       "    }\n",
       "\n",
       "    .dataframe tbody tr th {\n",
       "        vertical-align: top;\n",
       "    }\n",
       "\n",
       "    .dataframe thead th {\n",
       "        text-align: right;\n",
       "    }\n",
       "</style>\n",
       "<table border=\"1\" class=\"dataframe\">\n",
       "  <thead>\n",
       "    <tr style=\"text-align: right;\">\n",
       "      <th></th>\n",
       "      <th>Measure</th>\n",
       "      <th>Original Dataset</th>\n",
       "    </tr>\n",
       "  </thead>\n",
       "  <tbody>\n",
       "    <tr>\n",
       "      <th>0</th>\n",
       "      <td>Accuracy</td>\n",
       "      <td>0.541538</td>\n",
       "    </tr>\n",
       "    <tr>\n",
       "      <th>1</th>\n",
       "      <td>Sensitivity</td>\n",
       "      <td>0.123494</td>\n",
       "    </tr>\n",
       "    <tr>\n",
       "      <th>2</th>\n",
       "      <td>Specitivity</td>\n",
       "      <td>0.977987</td>\n",
       "    </tr>\n",
       "    <tr>\n",
       "      <th>3</th>\n",
       "      <td>Precision</td>\n",
       "      <td>0.854167</td>\n",
       "    </tr>\n",
       "    <tr>\n",
       "      <th>4</th>\n",
       "      <td>F1_score</td>\n",
       "      <td>0.215789</td>\n",
       "    </tr>\n",
       "  </tbody>\n",
       "</table>\n",
       "</div>"
      ],
      "text/plain": [
       "       Measure  Original Dataset\n",
       "0     Accuracy          0.541538\n",
       "1  Sensitivity          0.123494\n",
       "2  Specitivity          0.977987\n",
       "3    Precision          0.854167\n",
       "4     F1_score          0.215789"
      ]
     },
     "execution_count": 79,
     "metadata": {},
     "output_type": "execute_result"
    }
   ],
   "source": [
    "preds = nv.predict(xt)\n",
    "pd.DataFrame({'Measure':['Accuracy','Sensitivity','Specitivity','Precision','F1_score'],\n",
    "             \"Original Dataset\":[metrics.accuracy_score(label_valid,preds),\n",
    "                        metrics.recall_score(label_valid, preds,pos_label=0),\n",
    "                        metrics.recall_score(label_valid, preds,pos_label=1),\n",
    "                        metrics.precision_score(label_valid,preds,pos_label=0),\n",
    "                        metrics.f1_score(label_valid,preds,pos_label=0)]})\n"
   ]
  },
  {
   "cell_type": "code",
   "execution_count": 80,
   "id": "e4064eb4",
   "metadata": {
    "execution": {
     "iopub.execute_input": "2023-01-10T17:10:33.549853Z",
     "iopub.status.busy": "2023-01-10T17:10:33.548987Z",
     "iopub.status.idle": "2023-01-10T17:10:33.555155Z",
     "shell.execute_reply": "2023-01-10T17:10:33.553873Z"
    },
    "papermill": {
     "duration": 0.066248,
     "end_time": "2023-01-10T17:10:33.557695",
     "exception": false,
     "start_time": "2023-01-10T17:10:33.491447",
     "status": "completed"
    },
    "tags": []
   },
   "outputs": [],
   "source": [
    "# trying with mod2"
   ]
  },
  {
   "cell_type": "code",
   "execution_count": 81,
   "id": "8903b1fc",
   "metadata": {
    "execution": {
     "iopub.execute_input": "2023-01-10T17:10:33.668412Z",
     "iopub.status.busy": "2023-01-10T17:10:33.667889Z",
     "iopub.status.idle": "2023-01-10T17:10:42.042170Z",
     "shell.execute_reply": "2023-01-10T17:10:42.039857Z"
    },
    "papermill": {
     "duration": 8.434431,
     "end_time": "2023-01-10T17:10:42.045559",
     "exception": false,
     "start_time": "2023-01-10T17:10:33.611128",
     "status": "completed"
    },
    "tags": []
   },
   "outputs": [],
   "source": [
    "# some parameters to be used\n",
    "# some of this were relevantduring code creation\n",
    "batch_size=64  #  Batch sizes to use\n",
    "epoch =200       # number of training ephochs\n",
    "sequence_length = 250   # here we can set arguments for text vectorization      \n",
    "max_tokens=20000\n",
    "\n",
    "vectorize_layer = layers.TextVectorization(\n",
    "    max_tokens=max_tokens,\n",
    "    pad_to_max_tokens=True,\n",
    "    output_mode='int')\n",
    "\n",
    "train_article = train2.map(lambda x, y: x)\n",
    "vectorize_layer.adapt(train_article)\n",
    "\n",
    "\n",
    "def vectorize_articles(text, label):\n",
    "    text = tf.expand_dims(text, -1)\n",
    "    return vectorize_layer(text), label\n",
    "\n",
    "AUTOTUNE = tf.data.AUTOTUNE \n",
    "train = train0.map(vectorize_articles).cache().prefetch(buffer_size=AUTOTUNE)  # set catching and prefetching on training data\n",
    "valid = valid0.map(vectorize_articles).cache().prefetch(buffer_size=AUTOTUNE)  #set catching and prefetching on testing data\n",
    "test = test0.map(vectorize_articles).cache().prefetch(buffer_size=AUTOTUNE)    #  set catching and prefetching on validation data\n",
    "\n",
    "with open(\"/kaggle/input/benchmarkmodelsfake3/kmea2.pkl\",\"rb\") as file:\n",
    "    kmea=pickle.load(file)\n",
    "    \n",
    "with open(\"/kaggle/input/fakerealmainoutputdata/predictors.pkl\",\"rb\") as file:\n",
    "    predictors=pickle.load(file)\n",
    "    \n",
    "with open(\"/kaggle/input/fakerealmainoutputdata/tests.pkl\",\"rb\") as file:\n",
    "    tests=pickle.load(file)"
   ]
  },
  {
   "cell_type": "code",
   "execution_count": 82,
   "id": "20c471f2",
   "metadata": {
    "execution": {
     "iopub.execute_input": "2023-01-10T17:10:42.162787Z",
     "iopub.status.busy": "2023-01-10T17:10:42.161148Z",
     "iopub.status.idle": "2023-01-10T17:10:44.468361Z",
     "shell.execute_reply": "2023-01-10T17:10:44.466753Z"
    },
    "papermill": {
     "duration": 2.368199,
     "end_time": "2023-01-10T17:10:44.471639",
     "exception": false,
     "start_time": "2023-01-10T17:10:42.103440",
     "status": "completed"
    },
    "tags": []
   },
   "outputs": [],
   "source": [
    "label_train=np.argmax(labels(train),axis=1)\n",
    "label_test=np.argmax(labels(test),axis=1)\n",
    "label_valid=np.argmax(labels(valid),axis=1)"
   ]
  },
  {
   "cell_type": "code",
   "execution_count": 83,
   "id": "f993094b",
   "metadata": {
    "execution": {
     "iopub.execute_input": "2023-01-10T17:10:44.587691Z",
     "iopub.status.busy": "2023-01-10T17:10:44.586674Z",
     "iopub.status.idle": "2023-01-10T17:11:04.344800Z",
     "shell.execute_reply": "2023-01-10T17:11:04.343633Z"
    },
    "papermill": {
     "duration": 19.818642,
     "end_time": "2023-01-10T17:11:04.348014",
     "exception": false,
     "start_time": "2023-01-10T17:10:44.529372",
     "status": "completed"
    },
    "tags": []
   },
   "outputs": [
    {
     "name": "stdout",
     "output_type": "stream",
     "text": [
      "0.8138461538461539\n",
      "0.18615384615384614\n"
     ]
    }
   ],
   "source": [
    "modelpred=np.argmax(model2.predict(test), axis=1)\n",
    "kmeans_pred=kmea.predict(tests)\n",
    "print(np.mean(kmeans_pred==label_test))\n",
    "print(np.mean(np.mean((1-kmeans_pred)==label_test)))"
   ]
  },
  {
   "cell_type": "code",
   "execution_count": 84,
   "id": "13c0b504",
   "metadata": {
    "execution": {
     "iopub.execute_input": "2023-01-10T17:11:04.473967Z",
     "iopub.status.busy": "2023-01-10T17:11:04.473023Z",
     "iopub.status.idle": "2023-01-10T17:11:04.482874Z",
     "shell.execute_reply": "2023-01-10T17:11:04.481574Z"
    },
    "papermill": {
     "duration": 0.07262,
     "end_time": "2023-01-10T17:11:04.486243",
     "exception": false,
     "start_time": "2023-01-10T17:11:04.413623",
     "status": "completed"
    },
    "tags": []
   },
   "outputs": [],
   "source": [
    "kmeans_pred1=kmea.predict(tests)\n",
    "if np.mean(kmeans_pred==label_test)>=np.mean((1-kmeans_pred)==label_test):\n",
    "    kmeans_pred=kmeans_pred\n",
    "else:\n",
    "    kmeans_pred=(1-kmeans_pred)"
   ]
  },
  {
   "cell_type": "code",
   "execution_count": 85,
   "id": "5b386644",
   "metadata": {
    "execution": {
     "iopub.execute_input": "2023-01-10T17:11:04.605331Z",
     "iopub.status.busy": "2023-01-10T17:11:04.604753Z",
     "iopub.status.idle": "2023-01-10T17:11:04.610842Z",
     "shell.execute_reply": "2023-01-10T17:11:04.609489Z"
    },
    "papermill": {
     "duration": 0.070514,
     "end_time": "2023-01-10T17:11:04.614205",
     "exception": false,
     "start_time": "2023-01-10T17:11:04.543691",
     "status": "completed"
    },
    "tags": []
   },
   "outputs": [],
   "source": [
    "xt=np.stack((kmeans_pred,modelpred), axis=1)\n",
    "yt=label_test"
   ]
  },
  {
   "cell_type": "code",
   "execution_count": 86,
   "id": "334bae79",
   "metadata": {
    "execution": {
     "iopub.execute_input": "2023-01-10T17:11:04.832627Z",
     "iopub.status.busy": "2023-01-10T17:11:04.831651Z",
     "iopub.status.idle": "2023-01-10T17:11:04.840450Z",
     "shell.execute_reply": "2023-01-10T17:11:04.838886Z"
    },
    "papermill": {
     "duration": 0.170849,
     "end_time": "2023-01-10T17:11:04.843684",
     "exception": false,
     "start_time": "2023-01-10T17:11:04.672835",
     "status": "completed"
    },
    "tags": []
   },
   "outputs": [],
   "source": [
    "nv = GaussianNB() # create a classifier\n",
    "mod=nv.fit(xt,yt) # fitting the data\n",
    "preds = nv.predict(xt)"
   ]
  },
  {
   "cell_type": "code",
   "execution_count": 87,
   "id": "3aad073e",
   "metadata": {
    "execution": {
     "iopub.execute_input": "2023-01-10T17:11:04.959018Z",
     "iopub.status.busy": "2023-01-10T17:11:04.958522Z",
     "iopub.status.idle": "2023-01-10T17:11:04.981890Z",
     "shell.execute_reply": "2023-01-10T17:11:04.980590Z"
    },
    "papermill": {
     "duration": 0.0838,
     "end_time": "2023-01-10T17:11:04.984659",
     "exception": false,
     "start_time": "2023-01-10T17:11:04.900859",
     "status": "completed"
    },
    "tags": []
   },
   "outputs": [
    {
     "data": {
      "text/html": [
       "<div>\n",
       "<style scoped>\n",
       "    .dataframe tbody tr th:only-of-type {\n",
       "        vertical-align: middle;\n",
       "    }\n",
       "\n",
       "    .dataframe tbody tr th {\n",
       "        vertical-align: top;\n",
       "    }\n",
       "\n",
       "    .dataframe thead th {\n",
       "        text-align: right;\n",
       "    }\n",
       "</style>\n",
       "<table border=\"1\" class=\"dataframe\">\n",
       "  <thead>\n",
       "    <tr style=\"text-align: right;\">\n",
       "      <th></th>\n",
       "      <th>Measure</th>\n",
       "      <th>Original Dataset</th>\n",
       "    </tr>\n",
       "  </thead>\n",
       "  <tbody>\n",
       "    <tr>\n",
       "      <th>0</th>\n",
       "      <td>Accuracy</td>\n",
       "      <td>0.862051</td>\n",
       "    </tr>\n",
       "    <tr>\n",
       "      <th>1</th>\n",
       "      <td>Sensitivity</td>\n",
       "      <td>0.052174</td>\n",
       "    </tr>\n",
       "    <tr>\n",
       "      <th>2</th>\n",
       "      <td>Specitivity</td>\n",
       "      <td>0.970349</td>\n",
       "    </tr>\n",
       "    <tr>\n",
       "      <th>3</th>\n",
       "      <td>Precision</td>\n",
       "      <td>0.190476</td>\n",
       "    </tr>\n",
       "    <tr>\n",
       "      <th>4</th>\n",
       "      <td>F1_score</td>\n",
       "      <td>0.081911</td>\n",
       "    </tr>\n",
       "  </tbody>\n",
       "</table>\n",
       "</div>"
      ],
      "text/plain": [
       "       Measure  Original Dataset\n",
       "0     Accuracy          0.862051\n",
       "1  Sensitivity          0.052174\n",
       "2  Specitivity          0.970349\n",
       "3    Precision          0.190476\n",
       "4     F1_score          0.081911"
      ]
     },
     "execution_count": 87,
     "metadata": {},
     "output_type": "execute_result"
    }
   ],
   "source": [
    "pd.DataFrame({'Measure':['Accuracy','Sensitivity','Specitivity','Precision','F1_score'],\n",
    "             \"Original Dataset\":[metrics.accuracy_score(label_test,preds),\n",
    "                        metrics.recall_score(label_test, preds,pos_label=0),\n",
    "                        metrics.recall_score(label_test, preds,pos_label=1),\n",
    "                        metrics.precision_score(label_test,preds,pos_label=0),\n",
    "                        metrics.f1_score(label_test,preds,pos_label=0)]})"
   ]
  },
  {
   "cell_type": "markdown",
   "id": "a1d166ff",
   "metadata": {
    "papermill": {
     "duration": 0.054992,
     "end_time": "2023-01-10T17:11:05.097046",
     "exception": false,
     "start_time": "2023-01-10T17:11:05.042054",
     "status": "completed"
    },
    "tags": []
   },
   "source": [
    "# Baseline"
   ]
  },
  {
   "cell_type": "code",
   "execution_count": 88,
   "id": "0409c736",
   "metadata": {
    "execution": {
     "iopub.execute_input": "2023-01-10T17:11:05.212319Z",
     "iopub.status.busy": "2023-01-10T17:11:05.211431Z",
     "iopub.status.idle": "2023-01-10T17:11:21.145231Z",
     "shell.execute_reply": "2023-01-10T17:11:21.143573Z"
    },
    "papermill": {
     "duration": 15.993717,
     "end_time": "2023-01-10T17:11:21.148405",
     "exception": false,
     "start_time": "2023-01-10T17:11:05.154688",
     "status": "completed"
    },
    "tags": []
   },
   "outputs": [],
   "source": [
    "with open(\"/kaggle/input/fakerealmainoutputdata/kmea.pkl\",\"rb\") as file:\n",
    "    kmea=pickle.load(file)\n",
    "    \n",
    "with open(\"/kaggle/input/fakerealmainoutputdata/predictors.pkl\",\"rb\") as file:\n",
    "    predictors=pickle.load(file)\n",
    "    \n",
    "with open(\"/kaggle/input/fakerealmainoutputdata/tests.pkl\",\"rb\") as file:\n",
    "    tests=pickle.load(file)\n",
    "    \n",
    "test=tf.data.experimental.load(\"/kaggle/input/fakerealmainoutputdata/train\")\n",
    "train=tf.data.experimental.load(\"/kaggle/input/missingtest/train\")\n",
    "valid=tf.data.experimental.load(\"/kaggle/input/fakerealmainoutputdata/valid\")\n",
    "model = keras.models.load_model('/kaggle/input/fakerealmainoutputdata/model')"
   ]
  },
  {
   "cell_type": "code",
   "execution_count": 89,
   "id": "f3205c46",
   "metadata": {
    "execution": {
     "iopub.execute_input": "2023-01-10T17:11:21.270068Z",
     "iopub.status.busy": "2023-01-10T17:11:21.269460Z",
     "iopub.status.idle": "2023-01-10T17:11:25.483173Z",
     "shell.execute_reply": "2023-01-10T17:11:25.481369Z"
    },
    "papermill": {
     "duration": 4.279391,
     "end_time": "2023-01-10T17:11:25.486782",
     "exception": false,
     "start_time": "2023-01-10T17:11:21.207391",
     "status": "completed"
    },
    "tags": []
   },
   "outputs": [],
   "source": [
    "# some parameters to be used\n",
    "# some of this were relevantduring code creation\n",
    "batch_size=64  #  Batch sizes to use\n",
    "epoch =200       # number of training ephochs\n",
    "sequence_length = 250   # here we can set arguments for text vectorization      \n",
    "max_tokens=20000\n",
    "\n",
    "vectorize_layer = layers.TextVectorization(\n",
    "    max_tokens=max_tokens,\n",
    "    pad_to_max_tokens=True,\n",
    "    output_mode='int')\n",
    "\n",
    "train_article = train.map(lambda x, y: x)\n",
    "vectorize_layer.adapt(train_article)\n",
    "\n",
    "\n",
    "def vectorize_articles(text, label):\n",
    "    text = tf.expand_dims(text, -1)\n",
    "    return vectorize_layer(text), label\n",
    "\n",
    "AUTOTUNE = tf.data.AUTOTUNE \n",
    "train = train.map(vectorize_articles).cache().prefetch(buffer_size=AUTOTUNE)  # set catching and prefetching on training data\n",
    "valid = valid.map(vectorize_articles).cache().prefetch(buffer_size=AUTOTUNE)  #set catching and prefetching on testing data\n",
    "test = test.map(vectorize_articles).cache().prefetch(buffer_size=AUTOTUNE)    #  set catching and prefetching on validation data"
   ]
  },
  {
   "cell_type": "code",
   "execution_count": 90,
   "id": "7708ada5",
   "metadata": {
    "execution": {
     "iopub.execute_input": "2023-01-10T17:11:25.618337Z",
     "iopub.status.busy": "2023-01-10T17:11:25.617799Z",
     "iopub.status.idle": "2023-01-10T17:11:29.158807Z",
     "shell.execute_reply": "2023-01-10T17:11:29.157374Z"
    },
    "papermill": {
     "duration": 3.610688,
     "end_time": "2023-01-10T17:11:29.162116",
     "exception": false,
     "start_time": "2023-01-10T17:11:25.551428",
     "status": "completed"
    },
    "tags": []
   },
   "outputs": [],
   "source": [
    "def labels(ds):\n",
    "    labels=[]\n",
    "    for batch in ds:\n",
    "        articles,labelss=batch\n",
    "        labelss=labelss.numpy()\n",
    "        labels.append(labelss)\n",
    "    labels=np.concatenate(labels)\n",
    "    return labels\n",
    "\n",
    "label_train=np.argmax(labels(train),axis=1)\n",
    "label_test=np.argmax(labels(test),axis=1)\n",
    "label_valid=np.argmax(labels(valid),axis=1)"
   ]
  },
  {
   "cell_type": "code",
   "execution_count": 91,
   "id": "350c837e",
   "metadata": {
    "execution": {
     "iopub.execute_input": "2023-01-10T17:11:29.274194Z",
     "iopub.status.busy": "2023-01-10T17:11:29.273664Z",
     "iopub.status.idle": "2023-01-10T17:11:29.284805Z",
     "shell.execute_reply": "2023-01-10T17:11:29.283502Z"
    },
    "papermill": {
     "duration": 0.071234,
     "end_time": "2023-01-10T17:11:29.287685",
     "exception": false,
     "start_time": "2023-01-10T17:11:29.216451",
     "status": "completed"
    },
    "tags": []
   },
   "outputs": [],
   "source": [
    "feature_miner=Model(\n",
    "    inputs=model.inputs,\n",
    "    outputs=model.get_layer(name=\"Bidirectional2\").output,name=\"feature_miner\"\n",
    ")"
   ]
  },
  {
   "cell_type": "code",
   "execution_count": 92,
   "id": "4339ef75",
   "metadata": {
    "execution": {
     "iopub.execute_input": "2023-01-10T17:11:29.402168Z",
     "iopub.status.busy": "2023-01-10T17:11:29.401546Z",
     "iopub.status.idle": "2023-01-10T17:11:29.411081Z",
     "shell.execute_reply": "2023-01-10T17:11:29.409369Z"
    },
    "papermill": {
     "duration": 0.07015,
     "end_time": "2023-01-10T17:11:29.414045",
     "exception": false,
     "start_time": "2023-01-10T17:11:29.343895",
     "status": "completed"
    },
    "tags": []
   },
   "outputs": [
    {
     "name": "stdout",
     "output_type": "stream",
     "text": [
      "Model: \"feature_miner\"\n",
      "_________________________________________________________________\n",
      "Layer (type)                 Output Shape              Param #   \n",
      "=================================================================\n",
      "input_articles (InputLayer)  [(None, None)]            0         \n",
      "_________________________________________________________________\n",
      "embeddinglayer (Embedding)   (None, None, 100)         2000100   \n",
      "_________________________________________________________________\n",
      "dropout (Dropout)            (None, None, 100)         0         \n",
      "_________________________________________________________________\n",
      "conv1d (Conv1D)              (None, None, 8)           4008      \n",
      "_________________________________________________________________\n",
      "dropout1 (Dropout)           (None, None, 8)           0         \n",
      "_________________________________________________________________\n",
      "batchnormalization (BatchNor (None, None, 8)           32        \n",
      "_________________________________________________________________\n",
      "Bidirectional2 (Bidirectiona (None, 16)                1088      \n",
      "=================================================================\n",
      "Total params: 2,005,228\n",
      "Trainable params: 5,112\n",
      "Non-trainable params: 2,000,116\n",
      "_________________________________________________________________\n"
     ]
    }
   ],
   "source": [
    "feature_miner.summary()"
   ]
  },
  {
   "cell_type": "code",
   "execution_count": 93,
   "id": "bec30ecd",
   "metadata": {
    "execution": {
     "iopub.execute_input": "2023-01-10T17:11:29.536572Z",
     "iopub.status.busy": "2023-01-10T17:11:29.535758Z",
     "iopub.status.idle": "2023-01-10T17:11:35.556477Z",
     "shell.execute_reply": "2023-01-10T17:11:35.554655Z"
    },
    "papermill": {
     "duration": 6.084148,
     "end_time": "2023-01-10T17:11:35.559861",
     "exception": false,
     "start_time": "2023-01-10T17:11:29.475713",
     "status": "completed"
    },
    "tags": []
   },
   "outputs": [],
   "source": [
    "X_train=predictors\n",
    "y_train=label_train\n",
    "X_test=tests\n",
    "y_test=label_test\n",
    "X_valid=feature_miner.predict(valid)\n",
    "y_valid=label_valid"
   ]
  },
  {
   "cell_type": "markdown",
   "id": "b5a3c18d",
   "metadata": {
    "papermill": {
     "duration": 0.057333,
     "end_time": "2023-01-10T17:11:35.675173",
     "exception": false,
     "start_time": "2023-01-10T17:11:35.617840",
     "status": "completed"
    },
    "tags": []
   },
   "source": [
    "# KNN"
   ]
  },
  {
   "cell_type": "markdown",
   "id": "ed4c9555",
   "metadata": {
    "papermill": {
     "duration": 0.056925,
     "end_time": "2023-01-10T17:11:35.787770",
     "exception": false,
     "start_time": "2023-01-10T17:11:35.730845",
     "status": "completed"
    },
    "tags": []
   },
   "source": [
    "## KNN tuning"
   ]
  },
  {
   "cell_type": "code",
   "execution_count": 94,
   "id": "0cc843d1",
   "metadata": {
    "execution": {
     "iopub.execute_input": "2023-01-10T17:11:35.906118Z",
     "iopub.status.busy": "2023-01-10T17:11:35.905600Z",
     "iopub.status.idle": "2023-01-10T17:11:35.927642Z",
     "shell.execute_reply": "2023-01-10T17:11:35.925936Z"
    },
    "papermill": {
     "duration": 0.08577,
     "end_time": "2023-01-10T17:11:35.930795",
     "exception": false,
     "start_time": "2023-01-10T17:11:35.845025",
     "status": "completed"
    },
    "tags": []
   },
   "outputs": [],
   "source": [
    "with open(\"/kaggle/input/baselinemethodske/KNNtuned.pkl\",\"rb\") as file:\n",
    "    KNNtuned=pickle.load(file)"
   ]
  },
  {
   "cell_type": "code",
   "execution_count": 95,
   "id": "997dc258",
   "metadata": {
    "execution": {
     "iopub.execute_input": "2023-01-10T17:11:36.052788Z",
     "iopub.status.busy": "2023-01-10T17:11:36.051586Z",
     "iopub.status.idle": "2023-01-10T17:11:36.064630Z",
     "shell.execute_reply": "2023-01-10T17:11:36.062900Z"
    },
    "papermill": {
     "duration": 0.080901,
     "end_time": "2023-01-10T17:11:36.068562",
     "exception": false,
     "start_time": "2023-01-10T17:11:35.987661",
     "status": "completed"
    },
    "tags": []
   },
   "outputs": [
    {
     "data": {
      "text/plain": [
       "GridSearchCV(cv=3, estimator=KNeighborsClassifier(n_jobs=-1, n_neighbors=2),\n",
       "             n_jobs=-1, param_grid={'n_neighbors': range(2, 100)},\n",
       "             return_train_score=True, verbose=3)"
      ]
     },
     "execution_count": 95,
     "metadata": {},
     "output_type": "execute_result"
    }
   ],
   "source": [
    "KNNtuned"
   ]
  },
  {
   "cell_type": "code",
   "execution_count": 96,
   "id": "20303b0a",
   "metadata": {
    "execution": {
     "iopub.execute_input": "2023-01-10T17:11:36.188416Z",
     "iopub.status.busy": "2023-01-10T17:11:36.187817Z",
     "iopub.status.idle": "2023-01-10T17:11:36.207313Z",
     "shell.execute_reply": "2023-01-10T17:11:36.205725Z"
    },
    "papermill": {
     "duration": 0.08281,
     "end_time": "2023-01-10T17:11:36.210761",
     "exception": false,
     "start_time": "2023-01-10T17:11:36.127951",
     "status": "completed"
    },
    "tags": []
   },
   "outputs": [],
   "source": [
    "with open(\"/kaggle/input/baselinemethodske/KNNmod.pkl\",\"rb\") as file:\n",
    "    KNNmod=pickle.load(file) "
   ]
  },
  {
   "cell_type": "code",
   "execution_count": 97,
   "id": "49902c92",
   "metadata": {
    "execution": {
     "iopub.execute_input": "2023-01-10T17:11:36.330216Z",
     "iopub.status.busy": "2023-01-10T17:11:36.329257Z",
     "iopub.status.idle": "2023-01-10T17:11:37.243454Z",
     "shell.execute_reply": "2023-01-10T17:11:37.241815Z"
    },
    "papermill": {
     "duration": 0.977312,
     "end_time": "2023-01-10T17:11:37.246517",
     "exception": false,
     "start_time": "2023-01-10T17:11:36.269205",
     "status": "completed"
    },
    "tags": []
   },
   "outputs": [
    {
     "data": {
      "text/html": [
       "<div>\n",
       "<style scoped>\n",
       "    .dataframe tbody tr th:only-of-type {\n",
       "        vertical-align: middle;\n",
       "    }\n",
       "\n",
       "    .dataframe tbody tr th {\n",
       "        vertical-align: top;\n",
       "    }\n",
       "\n",
       "    .dataframe thead th {\n",
       "        text-align: right;\n",
       "    }\n",
       "</style>\n",
       "<table border=\"1\" class=\"dataframe\">\n",
       "  <thead>\n",
       "    <tr style=\"text-align: right;\">\n",
       "      <th></th>\n",
       "      <th>Measure</th>\n",
       "      <th>KNN</th>\n",
       "    </tr>\n",
       "  </thead>\n",
       "  <tbody>\n",
       "    <tr>\n",
       "      <th>0</th>\n",
       "      <td>Accuracy</td>\n",
       "      <td>0.902564</td>\n",
       "    </tr>\n",
       "    <tr>\n",
       "      <th>1</th>\n",
       "      <td>Sensitivity</td>\n",
       "      <td>0.465217</td>\n",
       "    </tr>\n",
       "    <tr>\n",
       "      <th>2</th>\n",
       "      <td>Specitivity</td>\n",
       "      <td>0.961047</td>\n",
       "    </tr>\n",
       "    <tr>\n",
       "      <th>3</th>\n",
       "      <td>Precision</td>\n",
       "      <td>0.614943</td>\n",
       "    </tr>\n",
       "    <tr>\n",
       "      <th>4</th>\n",
       "      <td>F1_score</td>\n",
       "      <td>0.529703</td>\n",
       "    </tr>\n",
       "  </tbody>\n",
       "</table>\n",
       "</div>"
      ],
      "text/plain": [
       "       Measure       KNN\n",
       "0     Accuracy  0.902564\n",
       "1  Sensitivity  0.465217\n",
       "2  Specitivity  0.961047\n",
       "3    Precision  0.614943\n",
       "4     F1_score  0.529703"
      ]
     },
     "execution_count": 97,
     "metadata": {},
     "output_type": "execute_result"
    }
   ],
   "source": [
    "predictions=KNNmod.predict(X_test)\n",
    "pd.DataFrame({'Measure':['Accuracy','Sensitivity','Specitivity','Precision','F1_score'],\n",
    "             'KNN':[metrics.accuracy_score(y_test,predictions),\n",
    "                        metrics.recall_score(y_test, predictions,pos_label=0),\n",
    "                        metrics.recall_score(y_test, predictions,pos_label=1),\n",
    "                        metrics.precision_score(y_test,predictions,pos_label=0),\n",
    "                        metrics.f1_score(y_test,predictions,pos_label=0)]})"
   ]
  },
  {
   "cell_type": "code",
   "execution_count": 98,
   "id": "11d23de5",
   "metadata": {
    "execution": {
     "iopub.execute_input": "2023-01-10T17:11:37.360570Z",
     "iopub.status.busy": "2023-01-10T17:11:37.359685Z",
     "iopub.status.idle": "2023-01-10T17:11:37.757429Z",
     "shell.execute_reply": "2023-01-10T17:11:37.755763Z"
    },
    "papermill": {
     "duration": 0.458057,
     "end_time": "2023-01-10T17:11:37.760660",
     "exception": false,
     "start_time": "2023-01-10T17:11:37.302603",
     "status": "completed"
    },
    "tags": []
   },
   "outputs": [
    {
     "data": {
      "text/html": [
       "<div>\n",
       "<style scoped>\n",
       "    .dataframe tbody tr th:only-of-type {\n",
       "        vertical-align: middle;\n",
       "    }\n",
       "\n",
       "    .dataframe tbody tr th {\n",
       "        vertical-align: top;\n",
       "    }\n",
       "\n",
       "    .dataframe thead th {\n",
       "        text-align: right;\n",
       "    }\n",
       "</style>\n",
       "<table border=\"1\" class=\"dataframe\">\n",
       "  <thead>\n",
       "    <tr style=\"text-align: right;\">\n",
       "      <th></th>\n",
       "      <th>Measure</th>\n",
       "      <th>KNN</th>\n",
       "    </tr>\n",
       "  </thead>\n",
       "  <tbody>\n",
       "    <tr>\n",
       "      <th>0</th>\n",
       "      <td>Accuracy</td>\n",
       "      <td>0.901538</td>\n",
       "    </tr>\n",
       "    <tr>\n",
       "      <th>1</th>\n",
       "      <td>Sensitivity</td>\n",
       "      <td>0.444444</td>\n",
       "    </tr>\n",
       "    <tr>\n",
       "      <th>2</th>\n",
       "      <td>Specitivity</td>\n",
       "      <td>0.958478</td>\n",
       "    </tr>\n",
       "    <tr>\n",
       "      <th>3</th>\n",
       "      <td>Precision</td>\n",
       "      <td>0.571429</td>\n",
       "    </tr>\n",
       "    <tr>\n",
       "      <th>4</th>\n",
       "      <td>F1_score</td>\n",
       "      <td>0.500000</td>\n",
       "    </tr>\n",
       "  </tbody>\n",
       "</table>\n",
       "</div>"
      ],
      "text/plain": [
       "       Measure       KNN\n",
       "0     Accuracy  0.901538\n",
       "1  Sensitivity  0.444444\n",
       "2  Specitivity  0.958478\n",
       "3    Precision  0.571429\n",
       "4     F1_score  0.500000"
      ]
     },
     "execution_count": 98,
     "metadata": {},
     "output_type": "execute_result"
    }
   ],
   "source": [
    "predictions=KNNmod.predict(X_valid)\n",
    "pd.DataFrame({'Measure':['Accuracy','Sensitivity','Specitivity','Precision','F1_score'],\n",
    "             'KNN':[metrics.accuracy_score(y_valid,predictions),\n",
    "                        metrics.recall_score(y_valid, predictions,pos_label=0),\n",
    "                        metrics.recall_score(y_valid, predictions,pos_label=1),\n",
    "                        metrics.precision_score(y_valid,predictions,pos_label=0),\n",
    "                        metrics.f1_score(y_valid,predictions,pos_label=0)]})"
   ]
  },
  {
   "cell_type": "markdown",
   "id": "28e8cf9f",
   "metadata": {
    "papermill": {
     "duration": 0.05696,
     "end_time": "2023-01-10T17:11:37.872037",
     "exception": false,
     "start_time": "2023-01-10T17:11:37.815077",
     "status": "completed"
    },
    "tags": []
   },
   "source": [
    "# SVM"
   ]
  },
  {
   "cell_type": "code",
   "execution_count": 99,
   "id": "7e7f909a",
   "metadata": {
    "execution": {
     "iopub.execute_input": "2023-01-10T17:11:37.990388Z",
     "iopub.status.busy": "2023-01-10T17:11:37.989828Z",
     "iopub.status.idle": "2023-01-10T17:11:38.008321Z",
     "shell.execute_reply": "2023-01-10T17:11:38.007094Z"
    },
    "papermill": {
     "duration": 0.082984,
     "end_time": "2023-01-10T17:11:38.011248",
     "exception": false,
     "start_time": "2023-01-10T17:11:37.928264",
     "status": "completed"
    },
    "tags": []
   },
   "outputs": [],
   "source": [
    "with open(\"/kaggle/input/baselinemethodske/SVCtuned.pkl\",\"rb\") as file:\n",
    "    SVCtuned=pickle.load(file)"
   ]
  },
  {
   "cell_type": "code",
   "execution_count": 100,
   "id": "134c2e5c",
   "metadata": {
    "execution": {
     "iopub.execute_input": "2023-01-10T17:11:38.132797Z",
     "iopub.status.busy": "2023-01-10T17:11:38.132292Z",
     "iopub.status.idle": "2023-01-10T17:11:38.141678Z",
     "shell.execute_reply": "2023-01-10T17:11:38.140108Z"
    },
    "papermill": {
     "duration": 0.07311,
     "end_time": "2023-01-10T17:11:38.144690",
     "exception": false,
     "start_time": "2023-01-10T17:11:38.071580",
     "status": "completed"
    },
    "tags": []
   },
   "outputs": [
    {
     "data": {
      "text/plain": [
       "GridSearchCV(cv=3, estimator=SVC(random_state=0), n_jobs=-1,\n",
       "             param_grid={'C': [1.0, 3.0, 5.0, 7.0, 8.0, 9.0],\n",
       "                         'gamma': ['scale', 'auto'],\n",
       "                         'kernel': ['linear', 'poly', 'rbf', 'sigmoid'],\n",
       "                         'tol': [0.001, 0.01, 0.1]},\n",
       "             verbose=3)"
      ]
     },
     "execution_count": 100,
     "metadata": {},
     "output_type": "execute_result"
    }
   ],
   "source": [
    "SVCtuned"
   ]
  },
  {
   "cell_type": "code",
   "execution_count": 101,
   "id": "03f750fc",
   "metadata": {
    "execution": {
     "iopub.execute_input": "2023-01-10T17:11:38.263051Z",
     "iopub.status.busy": "2023-01-10T17:11:38.262513Z",
     "iopub.status.idle": "2023-01-10T17:11:38.273540Z",
     "shell.execute_reply": "2023-01-10T17:11:38.272418Z"
    },
    "papermill": {
     "duration": 0.070814,
     "end_time": "2023-01-10T17:11:38.276429",
     "exception": false,
     "start_time": "2023-01-10T17:11:38.205615",
     "status": "completed"
    },
    "tags": []
   },
   "outputs": [],
   "source": [
    "with open(\"/kaggle/input/baselinemethodske/svcmod.pkl\",\"rb\") as file:\n",
    "    svcmod=pickle.load(file)"
   ]
  },
  {
   "cell_type": "code",
   "execution_count": 102,
   "id": "7bbe628d",
   "metadata": {
    "execution": {
     "iopub.execute_input": "2023-01-10T17:11:38.396137Z",
     "iopub.status.busy": "2023-01-10T17:11:38.395031Z",
     "iopub.status.idle": "2023-01-10T17:11:38.525154Z",
     "shell.execute_reply": "2023-01-10T17:11:38.523189Z"
    },
    "papermill": {
     "duration": 0.192458,
     "end_time": "2023-01-10T17:11:38.528966",
     "exception": false,
     "start_time": "2023-01-10T17:11:38.336508",
     "status": "completed"
    },
    "tags": []
   },
   "outputs": [
    {
     "data": {
      "text/html": [
       "<div>\n",
       "<style scoped>\n",
       "    .dataframe tbody tr th:only-of-type {\n",
       "        vertical-align: middle;\n",
       "    }\n",
       "\n",
       "    .dataframe tbody tr th {\n",
       "        vertical-align: top;\n",
       "    }\n",
       "\n",
       "    .dataframe thead th {\n",
       "        text-align: right;\n",
       "    }\n",
       "</style>\n",
       "<table border=\"1\" class=\"dataframe\">\n",
       "  <thead>\n",
       "    <tr style=\"text-align: right;\">\n",
       "      <th></th>\n",
       "      <th>Measure</th>\n",
       "      <th>KNN</th>\n",
       "    </tr>\n",
       "  </thead>\n",
       "  <tbody>\n",
       "    <tr>\n",
       "      <th>0</th>\n",
       "      <td>Accuracy</td>\n",
       "      <td>0.906154</td>\n",
       "    </tr>\n",
       "    <tr>\n",
       "      <th>1</th>\n",
       "      <td>Sensitivity</td>\n",
       "      <td>0.452174</td>\n",
       "    </tr>\n",
       "    <tr>\n",
       "      <th>2</th>\n",
       "      <td>Specitivity</td>\n",
       "      <td>0.966860</td>\n",
       "    </tr>\n",
       "    <tr>\n",
       "      <th>3</th>\n",
       "      <td>Precision</td>\n",
       "      <td>0.645963</td>\n",
       "    </tr>\n",
       "    <tr>\n",
       "      <th>4</th>\n",
       "      <td>F1_score</td>\n",
       "      <td>0.531969</td>\n",
       "    </tr>\n",
       "  </tbody>\n",
       "</table>\n",
       "</div>"
      ],
      "text/plain": [
       "       Measure       KNN\n",
       "0     Accuracy  0.906154\n",
       "1  Sensitivity  0.452174\n",
       "2  Specitivity  0.966860\n",
       "3    Precision  0.645963\n",
       "4     F1_score  0.531969"
      ]
     },
     "execution_count": 102,
     "metadata": {},
     "output_type": "execute_result"
    }
   ],
   "source": [
    "predictions=svcmod.predict(X_test)\n",
    "pd.DataFrame({'Measure':['Accuracy','Sensitivity','Specitivity','Precision','F1_score'],\n",
    "             'KNN':[metrics.accuracy_score(y_test,predictions),\n",
    "                        metrics.recall_score(y_test, predictions,pos_label=0),\n",
    "                        metrics.recall_score(y_test, predictions,pos_label=1),\n",
    "                        metrics.precision_score(y_test,predictions,pos_label=0),\n",
    "                        metrics.f1_score(y_test,predictions,pos_label=0)]})"
   ]
  },
  {
   "cell_type": "code",
   "execution_count": 103,
   "id": "c7ee6a4d",
   "metadata": {
    "execution": {
     "iopub.execute_input": "2023-01-10T17:11:38.646826Z",
     "iopub.status.busy": "2023-01-10T17:11:38.646352Z",
     "iopub.status.idle": "2023-01-10T17:11:38.703776Z",
     "shell.execute_reply": "2023-01-10T17:11:38.702236Z"
    },
    "papermill": {
     "duration": 0.122373,
     "end_time": "2023-01-10T17:11:38.706821",
     "exception": false,
     "start_time": "2023-01-10T17:11:38.584448",
     "status": "completed"
    },
    "tags": []
   },
   "outputs": [
    {
     "data": {
      "text/html": [
       "<div>\n",
       "<style scoped>\n",
       "    .dataframe tbody tr th:only-of-type {\n",
       "        vertical-align: middle;\n",
       "    }\n",
       "\n",
       "    .dataframe tbody tr th {\n",
       "        vertical-align: top;\n",
       "    }\n",
       "\n",
       "    .dataframe thead th {\n",
       "        text-align: right;\n",
       "    }\n",
       "</style>\n",
       "<table border=\"1\" class=\"dataframe\">\n",
       "  <thead>\n",
       "    <tr style=\"text-align: right;\">\n",
       "      <th></th>\n",
       "      <th>Measure</th>\n",
       "      <th>KNN</th>\n",
       "    </tr>\n",
       "  </thead>\n",
       "  <tbody>\n",
       "    <tr>\n",
       "      <th>0</th>\n",
       "      <td>Accuracy</td>\n",
       "      <td>0.907692</td>\n",
       "    </tr>\n",
       "    <tr>\n",
       "      <th>1</th>\n",
       "      <td>Sensitivity</td>\n",
       "      <td>0.458333</td>\n",
       "    </tr>\n",
       "    <tr>\n",
       "      <th>2</th>\n",
       "      <td>Specitivity</td>\n",
       "      <td>0.963668</td>\n",
       "    </tr>\n",
       "    <tr>\n",
       "      <th>3</th>\n",
       "      <td>Precision</td>\n",
       "      <td>0.611111</td>\n",
       "    </tr>\n",
       "    <tr>\n",
       "      <th>4</th>\n",
       "      <td>F1_score</td>\n",
       "      <td>0.523810</td>\n",
       "    </tr>\n",
       "  </tbody>\n",
       "</table>\n",
       "</div>"
      ],
      "text/plain": [
       "       Measure       KNN\n",
       "0     Accuracy  0.907692\n",
       "1  Sensitivity  0.458333\n",
       "2  Specitivity  0.963668\n",
       "3    Precision  0.611111\n",
       "4     F1_score  0.523810"
      ]
     },
     "execution_count": 103,
     "metadata": {},
     "output_type": "execute_result"
    }
   ],
   "source": [
    "predictions=svcmod.predict(X_valid)\n",
    "pd.DataFrame({'Measure':['Accuracy','Sensitivity','Specitivity','Precision','F1_score'],\n",
    "             'KNN':[metrics.accuracy_score(y_valid,predictions),\n",
    "                        metrics.recall_score(y_valid, predictions,pos_label=0),\n",
    "                        metrics.recall_score(y_valid, predictions,pos_label=1),\n",
    "                        metrics.precision_score(y_valid,predictions,pos_label=0),\n",
    "                        metrics.f1_score(y_valid,predictions,pos_label=0)]})"
   ]
  },
  {
   "cell_type": "code",
   "execution_count": 104,
   "id": "a5bfd343",
   "metadata": {
    "execution": {
     "iopub.execute_input": "2023-01-10T17:11:38.830423Z",
     "iopub.status.busy": "2023-01-10T17:11:38.829619Z",
     "iopub.status.idle": "2023-01-10T17:11:38.848588Z",
     "shell.execute_reply": "2023-01-10T17:11:38.847416Z"
    },
    "papermill": {
     "duration": 0.085791,
     "end_time": "2023-01-10T17:11:38.851656",
     "exception": false,
     "start_time": "2023-01-10T17:11:38.765865",
     "status": "completed"
    },
    "tags": []
   },
   "outputs": [],
   "source": [
    "with open(\"/kaggle/input/baselinemethodske/tuning_model.pkl\",\"rb\") as file:\n",
    "    tuning_model=pickle.load(file)"
   ]
  },
  {
   "cell_type": "code",
   "execution_count": null,
   "id": "28dbdc74",
   "metadata": {
    "papermill": {
     "duration": 0.057674,
     "end_time": "2023-01-10T17:11:38.968504",
     "exception": false,
     "start_time": "2023-01-10T17:11:38.910830",
     "status": "completed"
    },
    "tags": []
   },
   "outputs": [],
   "source": []
  },
  {
   "cell_type": "code",
   "execution_count": 105,
   "id": "f13abd20",
   "metadata": {
    "execution": {
     "iopub.execute_input": "2023-01-10T17:11:39.091676Z",
     "iopub.status.busy": "2023-01-10T17:11:39.091195Z",
     "iopub.status.idle": "2023-01-10T17:11:39.100778Z",
     "shell.execute_reply": "2023-01-10T17:11:39.099715Z"
    },
    "papermill": {
     "duration": 0.073909,
     "end_time": "2023-01-10T17:11:39.104043",
     "exception": false,
     "start_time": "2023-01-10T17:11:39.030134",
     "status": "completed"
    },
    "tags": []
   },
   "outputs": [
    {
     "data": {
      "text/plain": [
       "GridSearchCV(cv=3, estimator=DecisionTreeClassifier(max_depth=10), n_jobs=-1,\n",
       "             param_grid={'max_depth': [5, 10, 15, 20],\n",
       "                         'max_features': ['auto', 'log2', 'sqrt', None],\n",
       "                         'max_leaf_nodes': [None, 30, 60, 90],\n",
       "                         'min_samples_leaf': [3, 6, 9, 12],\n",
       "                         'min_weight_fraction_leaf': [0.0, 0.2, 0.3, 0.4],\n",
       "                         'splitter': ['best', 'random']},\n",
       "             verbose=3)"
      ]
     },
     "execution_count": 105,
     "metadata": {},
     "output_type": "execute_result"
    }
   ],
   "source": [
    "tuning_model"
   ]
  },
  {
   "cell_type": "code",
   "execution_count": 106,
   "id": "2942bcde",
   "metadata": {
    "execution": {
     "iopub.execute_input": "2023-01-10T17:11:39.224280Z",
     "iopub.status.busy": "2023-01-10T17:11:39.223627Z",
     "iopub.status.idle": "2023-01-10T17:11:39.233600Z",
     "shell.execute_reply": "2023-01-10T17:11:39.232298Z"
    },
    "papermill": {
     "duration": 0.074348,
     "end_time": "2023-01-10T17:11:39.236787",
     "exception": false,
     "start_time": "2023-01-10T17:11:39.162439",
     "status": "completed"
    },
    "tags": []
   },
   "outputs": [],
   "source": [
    "with open(\"/kaggle/input/baselinemethodske/DR.pkl\",\"rb\") as file:\n",
    "    DR=pickle.load(file)"
   ]
  },
  {
   "cell_type": "code",
   "execution_count": 107,
   "id": "8cc8dd16",
   "metadata": {
    "execution": {
     "iopub.execute_input": "2023-01-10T17:11:39.354841Z",
     "iopub.status.busy": "2023-01-10T17:11:39.353887Z",
     "iopub.status.idle": "2023-01-10T17:11:39.379410Z",
     "shell.execute_reply": "2023-01-10T17:11:39.377874Z"
    },
    "papermill": {
     "duration": 0.089496,
     "end_time": "2023-01-10T17:11:39.383165",
     "exception": false,
     "start_time": "2023-01-10T17:11:39.293669",
     "status": "completed"
    },
    "tags": []
   },
   "outputs": [
    {
     "data": {
      "text/html": [
       "<div>\n",
       "<style scoped>\n",
       "    .dataframe tbody tr th:only-of-type {\n",
       "        vertical-align: middle;\n",
       "    }\n",
       "\n",
       "    .dataframe tbody tr th {\n",
       "        vertical-align: top;\n",
       "    }\n",
       "\n",
       "    .dataframe thead th {\n",
       "        text-align: right;\n",
       "    }\n",
       "</style>\n",
       "<table border=\"1\" class=\"dataframe\">\n",
       "  <thead>\n",
       "    <tr style=\"text-align: right;\">\n",
       "      <th></th>\n",
       "      <th>Measure</th>\n",
       "      <th>KNN</th>\n",
       "    </tr>\n",
       "  </thead>\n",
       "  <tbody>\n",
       "    <tr>\n",
       "      <th>0</th>\n",
       "      <td>Accuracy</td>\n",
       "      <td>0.902564</td>\n",
       "    </tr>\n",
       "    <tr>\n",
       "      <th>1</th>\n",
       "      <td>Sensitivity</td>\n",
       "      <td>0.478261</td>\n",
       "    </tr>\n",
       "    <tr>\n",
       "      <th>2</th>\n",
       "      <td>Specitivity</td>\n",
       "      <td>0.959302</td>\n",
       "    </tr>\n",
       "    <tr>\n",
       "      <th>3</th>\n",
       "      <td>Precision</td>\n",
       "      <td>0.611111</td>\n",
       "    </tr>\n",
       "    <tr>\n",
       "      <th>4</th>\n",
       "      <td>F1_score</td>\n",
       "      <td>0.536585</td>\n",
       "    </tr>\n",
       "  </tbody>\n",
       "</table>\n",
       "</div>"
      ],
      "text/plain": [
       "       Measure       KNN\n",
       "0     Accuracy  0.902564\n",
       "1  Sensitivity  0.478261\n",
       "2  Specitivity  0.959302\n",
       "3    Precision  0.611111\n",
       "4     F1_score  0.536585"
      ]
     },
     "execution_count": 107,
     "metadata": {},
     "output_type": "execute_result"
    }
   ],
   "source": [
    "predictions=DR.predict(X_test)\n",
    "pd.DataFrame({'Measure':['Accuracy','Sensitivity','Specitivity','Precision','F1_score'],\n",
    "             'KNN':[metrics.accuracy_score(y_test,predictions),\n",
    "                        metrics.recall_score(y_test, predictions,pos_label=0),\n",
    "                        metrics.recall_score(y_test, predictions,pos_label=1),\n",
    "                        metrics.precision_score(y_test,predictions,pos_label=0),\n",
    "                        metrics.f1_score(y_test,predictions,pos_label=0)]})"
   ]
  },
  {
   "cell_type": "code",
   "execution_count": 108,
   "id": "b341f442",
   "metadata": {
    "execution": {
     "iopub.execute_input": "2023-01-10T17:11:39.504192Z",
     "iopub.status.busy": "2023-01-10T17:11:39.503332Z",
     "iopub.status.idle": "2023-01-10T17:11:39.526487Z",
     "shell.execute_reply": "2023-01-10T17:11:39.524831Z"
    },
    "papermill": {
     "duration": 0.085247,
     "end_time": "2023-01-10T17:11:39.529401",
     "exception": false,
     "start_time": "2023-01-10T17:11:39.444154",
     "status": "completed"
    },
    "tags": []
   },
   "outputs": [
    {
     "data": {
      "text/html": [
       "<div>\n",
       "<style scoped>\n",
       "    .dataframe tbody tr th:only-of-type {\n",
       "        vertical-align: middle;\n",
       "    }\n",
       "\n",
       "    .dataframe tbody tr th {\n",
       "        vertical-align: top;\n",
       "    }\n",
       "\n",
       "    .dataframe thead th {\n",
       "        text-align: right;\n",
       "    }\n",
       "</style>\n",
       "<table border=\"1\" class=\"dataframe\">\n",
       "  <thead>\n",
       "    <tr style=\"text-align: right;\">\n",
       "      <th></th>\n",
       "      <th>Measure</th>\n",
       "      <th>KNN</th>\n",
       "    </tr>\n",
       "  </thead>\n",
       "  <tbody>\n",
       "    <tr>\n",
       "      <th>0</th>\n",
       "      <td>Accuracy</td>\n",
       "      <td>0.901538</td>\n",
       "    </tr>\n",
       "    <tr>\n",
       "      <th>1</th>\n",
       "      <td>Sensitivity</td>\n",
       "      <td>0.458333</td>\n",
       "    </tr>\n",
       "    <tr>\n",
       "      <th>2</th>\n",
       "      <td>Specitivity</td>\n",
       "      <td>0.956747</td>\n",
       "    </tr>\n",
       "    <tr>\n",
       "      <th>3</th>\n",
       "      <td>Precision</td>\n",
       "      <td>0.568966</td>\n",
       "    </tr>\n",
       "    <tr>\n",
       "      <th>4</th>\n",
       "      <td>F1_score</td>\n",
       "      <td>0.507692</td>\n",
       "    </tr>\n",
       "  </tbody>\n",
       "</table>\n",
       "</div>"
      ],
      "text/plain": [
       "       Measure       KNN\n",
       "0     Accuracy  0.901538\n",
       "1  Sensitivity  0.458333\n",
       "2  Specitivity  0.956747\n",
       "3    Precision  0.568966\n",
       "4     F1_score  0.507692"
      ]
     },
     "execution_count": 108,
     "metadata": {},
     "output_type": "execute_result"
    }
   ],
   "source": [
    "predictions=DR.predict(X_valid)\n",
    "pd.DataFrame({'Measure':['Accuracy','Sensitivity','Specitivity','Precision','F1_score'],\n",
    "             'KNN':[metrics.accuracy_score(y_valid,predictions),\n",
    "                        metrics.recall_score(y_valid, predictions,pos_label=0),\n",
    "                        metrics.recall_score(y_valid, predictions,pos_label=1),\n",
    "                        metrics.precision_score(y_valid,predictions,pos_label=0),\n",
    "                        metrics.f1_score(y_valid,predictions,pos_label=0)]})"
   ]
  },
  {
   "cell_type": "code",
   "execution_count": 109,
   "id": "501663cc",
   "metadata": {
    "execution": {
     "iopub.execute_input": "2023-01-10T17:11:39.652600Z",
     "iopub.status.busy": "2023-01-10T17:11:39.652086Z",
     "iopub.status.idle": "2023-01-10T17:11:39.890239Z",
     "shell.execute_reply": "2023-01-10T17:11:39.888701Z"
    },
    "papermill": {
     "duration": 0.305584,
     "end_time": "2023-01-10T17:11:39.894043",
     "exception": false,
     "start_time": "2023-01-10T17:11:39.588459",
     "status": "completed"
    },
    "tags": []
   },
   "outputs": [],
   "source": [
    "with open(\"/kaggle/input/boostedregression/tuning_model.pkl\",\"rb\") as file:\n",
    "    tuning=pickle.load(file)\n"
   ]
  },
  {
   "cell_type": "code",
   "execution_count": 110,
   "id": "50a15875",
   "metadata": {
    "execution": {
     "iopub.execute_input": "2023-01-10T17:11:40.016637Z",
     "iopub.status.busy": "2023-01-10T17:11:40.016137Z",
     "iopub.status.idle": "2023-01-10T17:11:40.029086Z",
     "shell.execute_reply": "2023-01-10T17:11:40.027911Z"
    },
    "papermill": {
     "duration": 0.078807,
     "end_time": "2023-01-10T17:11:40.031823",
     "exception": false,
     "start_time": "2023-01-10T17:11:39.953016",
     "status": "completed"
    },
    "tags": []
   },
   "outputs": [
    {
     "data": {
      "text/plain": [
       "GridSearchCV(cv=3,\n",
       "             estimator=GradientBoostingClassifier(learning_rate=0.01,\n",
       "                                                  min_samples_split=5,\n",
       "                                                  n_estimators=1000,\n",
       "                                                  verbose=1),\n",
       "             n_jobs=-1,\n",
       "             param_grid={'learning_rate': [0.01, 0.02, 0.03],\n",
       "                         'max_depth': [5, 10, 15, 20],\n",
       "                         'min_samples_split': [5, 6, 7, 8, 10],\n",
       "                         'n_estimators': [1000]})"
      ]
     },
     "execution_count": 110,
     "metadata": {},
     "output_type": "execute_result"
    }
   ],
   "source": [
    "tuning"
   ]
  },
  {
   "cell_type": "code",
   "execution_count": 111,
   "id": "12953e2c",
   "metadata": {
    "execution": {
     "iopub.execute_input": "2023-01-10T17:11:40.155562Z",
     "iopub.status.busy": "2023-01-10T17:11:40.155054Z",
     "iopub.status.idle": "2023-01-10T17:11:40.350148Z",
     "shell.execute_reply": "2023-01-10T17:11:40.348476Z"
    },
    "papermill": {
     "duration": 0.264079,
     "end_time": "2023-01-10T17:11:40.354293",
     "exception": false,
     "start_time": "2023-01-10T17:11:40.090214",
     "status": "completed"
    },
    "tags": []
   },
   "outputs": [],
   "source": [
    "with open(\"/kaggle/input/boostedregression/boosted.pkl\",\"rb\") as file:\n",
    "    boosted=pickle.load(file)"
   ]
  },
  {
   "cell_type": "code",
   "execution_count": 112,
   "id": "a956a602",
   "metadata": {
    "execution": {
     "iopub.execute_input": "2023-01-10T17:11:40.476754Z",
     "iopub.status.busy": "2023-01-10T17:11:40.476276Z",
     "iopub.status.idle": "2023-01-10T17:11:40.581140Z",
     "shell.execute_reply": "2023-01-10T17:11:40.579881Z"
    },
    "papermill": {
     "duration": 0.165276,
     "end_time": "2023-01-10T17:11:40.583784",
     "exception": false,
     "start_time": "2023-01-10T17:11:40.418508",
     "status": "completed"
    },
    "tags": []
   },
   "outputs": [
    {
     "data": {
      "text/html": [
       "<div>\n",
       "<style scoped>\n",
       "    .dataframe tbody tr th:only-of-type {\n",
       "        vertical-align: middle;\n",
       "    }\n",
       "\n",
       "    .dataframe tbody tr th {\n",
       "        vertical-align: top;\n",
       "    }\n",
       "\n",
       "    .dataframe thead th {\n",
       "        text-align: right;\n",
       "    }\n",
       "</style>\n",
       "<table border=\"1\" class=\"dataframe\">\n",
       "  <thead>\n",
       "    <tr style=\"text-align: right;\">\n",
       "      <th></th>\n",
       "      <th>Measure</th>\n",
       "      <th>KNN</th>\n",
       "    </tr>\n",
       "  </thead>\n",
       "  <tbody>\n",
       "    <tr>\n",
       "      <th>0</th>\n",
       "      <td>Accuracy</td>\n",
       "      <td>0.906154</td>\n",
       "    </tr>\n",
       "    <tr>\n",
       "      <th>1</th>\n",
       "      <td>Sensitivity</td>\n",
       "      <td>0.473913</td>\n",
       "    </tr>\n",
       "    <tr>\n",
       "      <th>2</th>\n",
       "      <td>Specitivity</td>\n",
       "      <td>0.963953</td>\n",
       "    </tr>\n",
       "    <tr>\n",
       "      <th>3</th>\n",
       "      <td>Precision</td>\n",
       "      <td>0.637427</td>\n",
       "    </tr>\n",
       "    <tr>\n",
       "      <th>4</th>\n",
       "      <td>F1_score</td>\n",
       "      <td>0.543641</td>\n",
       "    </tr>\n",
       "  </tbody>\n",
       "</table>\n",
       "</div>"
      ],
      "text/plain": [
       "       Measure       KNN\n",
       "0     Accuracy  0.906154\n",
       "1  Sensitivity  0.473913\n",
       "2  Specitivity  0.963953\n",
       "3    Precision  0.637427\n",
       "4     F1_score  0.543641"
      ]
     },
     "execution_count": 112,
     "metadata": {},
     "output_type": "execute_result"
    }
   ],
   "source": [
    "predictions=boosted.predict(X_test)\n",
    "pd.DataFrame({'Measure':['Accuracy','Sensitivity','Specitivity','Precision','F1_score'],\n",
    "             'KNN':[metrics.accuracy_score(y_test,predictions),\n",
    "                        metrics.recall_score(y_test, predictions,pos_label=0),\n",
    "                        metrics.recall_score(y_test, predictions,pos_label=1),\n",
    "                        metrics.precision_score(y_test,predictions,pos_label=0),\n",
    "                        metrics.f1_score(y_test,predictions,pos_label=0)]})"
   ]
  },
  {
   "cell_type": "code",
   "execution_count": 113,
   "id": "2ccb14ff",
   "metadata": {
    "execution": {
     "iopub.execute_input": "2023-01-10T17:11:40.701934Z",
     "iopub.status.busy": "2023-01-10T17:11:40.701055Z",
     "iopub.status.idle": "2023-01-10T17:11:40.753408Z",
     "shell.execute_reply": "2023-01-10T17:11:40.752426Z"
    },
    "papermill": {
     "duration": 0.113445,
     "end_time": "2023-01-10T17:11:40.756167",
     "exception": false,
     "start_time": "2023-01-10T17:11:40.642722",
     "status": "completed"
    },
    "tags": []
   },
   "outputs": [
    {
     "data": {
      "text/html": [
       "<div>\n",
       "<style scoped>\n",
       "    .dataframe tbody tr th:only-of-type {\n",
       "        vertical-align: middle;\n",
       "    }\n",
       "\n",
       "    .dataframe tbody tr th {\n",
       "        vertical-align: top;\n",
       "    }\n",
       "\n",
       "    .dataframe thead th {\n",
       "        text-align: right;\n",
       "    }\n",
       "</style>\n",
       "<table border=\"1\" class=\"dataframe\">\n",
       "  <thead>\n",
       "    <tr style=\"text-align: right;\">\n",
       "      <th></th>\n",
       "      <th>Measure</th>\n",
       "      <th>KNN</th>\n",
       "    </tr>\n",
       "  </thead>\n",
       "  <tbody>\n",
       "    <tr>\n",
       "      <th>0</th>\n",
       "      <td>Accuracy</td>\n",
       "      <td>0.903077</td>\n",
       "    </tr>\n",
       "    <tr>\n",
       "      <th>1</th>\n",
       "      <td>Sensitivity</td>\n",
       "      <td>0.486111</td>\n",
       "    </tr>\n",
       "    <tr>\n",
       "      <th>2</th>\n",
       "      <td>Specitivity</td>\n",
       "      <td>0.955017</td>\n",
       "    </tr>\n",
       "    <tr>\n",
       "      <th>3</th>\n",
       "      <td>Precision</td>\n",
       "      <td>0.573770</td>\n",
       "    </tr>\n",
       "    <tr>\n",
       "      <th>4</th>\n",
       "      <td>F1_score</td>\n",
       "      <td>0.526316</td>\n",
       "    </tr>\n",
       "  </tbody>\n",
       "</table>\n",
       "</div>"
      ],
      "text/plain": [
       "       Measure       KNN\n",
       "0     Accuracy  0.903077\n",
       "1  Sensitivity  0.486111\n",
       "2  Specitivity  0.955017\n",
       "3    Precision  0.573770\n",
       "4     F1_score  0.526316"
      ]
     },
     "execution_count": 113,
     "metadata": {},
     "output_type": "execute_result"
    }
   ],
   "source": [
    "predictions=boosted.predict(X_valid)\n",
    "pd.DataFrame({'Measure':['Accuracy','Sensitivity','Specitivity','Precision','F1_score'],\n",
    "             'KNN':[metrics.accuracy_score(y_valid,predictions),\n",
    "                        metrics.recall_score(y_valid, predictions,pos_label=0),\n",
    "                        metrics.recall_score(y_valid, predictions,pos_label=1),\n",
    "                        metrics.precision_score(y_valid,predictions,pos_label=0),\n",
    "                        metrics.f1_score(y_valid,predictions,pos_label=0)]})"
   ]
  }
 ],
 "metadata": {
  "kernelspec": {
   "display_name": "Python 3",
   "language": "python",
   "name": "python3"
  },
  "language_info": {
   "codemirror_mode": {
    "name": "ipython",
    "version": 3
   },
   "file_extension": ".py",
   "mimetype": "text/x-python",
   "name": "python",
   "nbconvert_exporter": "python",
   "pygments_lexer": "ipython3",
   "version": "3.7.12"
  },
  "papermill": {
   "default_parameters": {},
   "duration": 406.200801,
   "end_time": "2023-01-10T17:11:43.840238",
   "environment_variables": {},
   "exception": null,
   "input_path": "__notebook__.ipynb",
   "output_path": "__notebook__.ipynb",
   "parameters": {},
   "start_time": "2023-01-10T17:04:57.639437",
   "version": "2.3.4"
  }
 },
 "nbformat": 4,
 "nbformat_minor": 5
}
